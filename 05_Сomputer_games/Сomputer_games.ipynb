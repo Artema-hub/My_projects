{
 "cells": [
  {
   "cell_type": "markdown",
   "metadata": {},
   "source": [
    "# Компьютерные игры"
   ]
  },
  {
   "cell_type": "markdown",
   "metadata": {},
   "source": [
    "## Описание проекта"
   ]
  },
  {
   "cell_type": "markdown",
   "metadata": {},
   "source": [
    "Интернет-магазин продаёт по всему миру компьютерные игры. Из открытых источников доступны исторические данные о продажах игр, оценки пользователей и экспертов, жанры и платформы (например, Xbox или PlayStation). Нужно выявить определяющие успешность игры закономерности. Перед нами данные до 2016 года. Представим, что сейчас декабрь 2016 г., и мы планируем кампанию на 2017-й. Нужно отработать принцип работы с данными.\n",
    "В наборе данных попадается аббревиатура ESRB (Entertainment Software Rating Board) — это ассоциация, определяющая возрастной рейтинг компьютерных игр. ESRB оценивает игровой контент и присваивает ему подходящую возрастную категорию:\n",
    "* «E» («Everyone») — «Для всех»\n",
    "* «EC» («Early childhood») — «Для детей младшего возраста»\n",
    "* «E10+» («Everyone 10 and older») — «Для всех от 10 лет и старше»\n",
    "* «T» («Teen») — «Подросткам»\n",
    "* «M» («Mature») — «Для взрослых»\n",
    "* «RP» («Rating Pending») - «Рейтинг ожидается»\n",
    "* «AO» («Adults Only 18+») — «Только для взрослых»"
   ]
  },
  {
   "cell_type": "markdown",
   "metadata": {},
   "source": [
    "## 1. Знакомимся с данными"
   ]
  },
  {
   "cell_type": "code",
   "execution_count": 1,
   "metadata": {},
   "outputs": [],
   "source": [
    "import pandas as pd\n",
    "import numpy as np\n",
    "import matplotlib.pyplot as plt\n",
    "from scipy import stats as st\n",
    "\n",
    "pd.set_option('display.max_columns', 500)"
   ]
  },
  {
   "cell_type": "code",
   "execution_count": 2,
   "metadata": {},
   "outputs": [],
   "source": [
    "# Считываем данные\n",
    "df = pd.read_csv('/datasets/games.csv')"
   ]
  },
  {
   "cell_type": "code",
   "execution_count": 3,
   "metadata": {},
   "outputs": [
    {
     "data": {
      "text/html": [
       "<div>\n",
       "<style scoped>\n",
       "    .dataframe tbody tr th:only-of-type {\n",
       "        vertical-align: middle;\n",
       "    }\n",
       "\n",
       "    .dataframe tbody tr th {\n",
       "        vertical-align: top;\n",
       "    }\n",
       "\n",
       "    .dataframe thead th {\n",
       "        text-align: right;\n",
       "    }\n",
       "</style>\n",
       "<table border=\"1\" class=\"dataframe\">\n",
       "  <thead>\n",
       "    <tr style=\"text-align: right;\">\n",
       "      <th></th>\n",
       "      <th>Name</th>\n",
       "      <th>Platform</th>\n",
       "      <th>Year_of_Release</th>\n",
       "      <th>Genre</th>\n",
       "      <th>NA_sales</th>\n",
       "      <th>EU_sales</th>\n",
       "      <th>JP_sales</th>\n",
       "      <th>Other_sales</th>\n",
       "      <th>Critic_Score</th>\n",
       "      <th>User_Score</th>\n",
       "      <th>Rating</th>\n",
       "    </tr>\n",
       "  </thead>\n",
       "  <tbody>\n",
       "    <tr>\n",
       "      <td>16612</td>\n",
       "      <td>Bakumatsu Rock: Ultra Soul</td>\n",
       "      <td>PSP</td>\n",
       "      <td>2014.0</td>\n",
       "      <td>Misc</td>\n",
       "      <td>0.00</td>\n",
       "      <td>0.00</td>\n",
       "      <td>0.01</td>\n",
       "      <td>0.00</td>\n",
       "      <td>NaN</td>\n",
       "      <td>NaN</td>\n",
       "      <td>NaN</td>\n",
       "    </tr>\n",
       "    <tr>\n",
       "      <td>5053</td>\n",
       "      <td>Dance Dance Revolution Ultramix 3</td>\n",
       "      <td>XB</td>\n",
       "      <td>2005.0</td>\n",
       "      <td>Simulation</td>\n",
       "      <td>0.28</td>\n",
       "      <td>0.08</td>\n",
       "      <td>0.00</td>\n",
       "      <td>0.01</td>\n",
       "      <td>75.0</td>\n",
       "      <td>8.6</td>\n",
       "      <td>E10+</td>\n",
       "    </tr>\n",
       "    <tr>\n",
       "      <td>13312</td>\n",
       "      <td>Detective Conan: Marionette Symphony</td>\n",
       "      <td>3DS</td>\n",
       "      <td>2013.0</td>\n",
       "      <td>Adventure</td>\n",
       "      <td>0.00</td>\n",
       "      <td>0.00</td>\n",
       "      <td>0.05</td>\n",
       "      <td>0.00</td>\n",
       "      <td>NaN</td>\n",
       "      <td>NaN</td>\n",
       "      <td>NaN</td>\n",
       "    </tr>\n",
       "    <tr>\n",
       "      <td>16406</td>\n",
       "      <td>The Chronicles of Riddick: Assault on Dark Athena</td>\n",
       "      <td>PC</td>\n",
       "      <td>2009.0</td>\n",
       "      <td>Shooter</td>\n",
       "      <td>0.00</td>\n",
       "      <td>0.01</td>\n",
       "      <td>0.00</td>\n",
       "      <td>0.00</td>\n",
       "      <td>80.0</td>\n",
       "      <td>8</td>\n",
       "      <td>M</td>\n",
       "    </tr>\n",
       "    <tr>\n",
       "      <td>5550</td>\n",
       "      <td>Nicktoons: Movin'</td>\n",
       "      <td>PS2</td>\n",
       "      <td>2004.0</td>\n",
       "      <td>Action</td>\n",
       "      <td>0.16</td>\n",
       "      <td>0.12</td>\n",
       "      <td>0.00</td>\n",
       "      <td>0.04</td>\n",
       "      <td>NaN</td>\n",
       "      <td>tbd</td>\n",
       "      <td>E</td>\n",
       "    </tr>\n",
       "    <tr>\n",
       "      <td>5931</td>\n",
       "      <td>Scooby-Doo! Night of 100 Frights</td>\n",
       "      <td>GC</td>\n",
       "      <td>2002.0</td>\n",
       "      <td>Platform</td>\n",
       "      <td>0.23</td>\n",
       "      <td>0.06</td>\n",
       "      <td>0.00</td>\n",
       "      <td>0.01</td>\n",
       "      <td>NaN</td>\n",
       "      <td>NaN</td>\n",
       "      <td>NaN</td>\n",
       "    </tr>\n",
       "    <tr>\n",
       "      <td>10507</td>\n",
       "      <td>Samurai Warriors Chronicles 2nd</td>\n",
       "      <td>3DS</td>\n",
       "      <td>2012.0</td>\n",
       "      <td>Action</td>\n",
       "      <td>0.00</td>\n",
       "      <td>0.00</td>\n",
       "      <td>0.10</td>\n",
       "      <td>0.00</td>\n",
       "      <td>NaN</td>\n",
       "      <td>NaN</td>\n",
       "      <td>NaN</td>\n",
       "    </tr>\n",
       "    <tr>\n",
       "      <td>2100</td>\n",
       "      <td>Fallout 3</td>\n",
       "      <td>PC</td>\n",
       "      <td>2008.0</td>\n",
       "      <td>Role-Playing</td>\n",
       "      <td>0.02</td>\n",
       "      <td>0.88</td>\n",
       "      <td>0.00</td>\n",
       "      <td>0.08</td>\n",
       "      <td>91.0</td>\n",
       "      <td>7.9</td>\n",
       "      <td>M</td>\n",
       "    </tr>\n",
       "    <tr>\n",
       "      <td>12798</td>\n",
       "      <td>Zendoku</td>\n",
       "      <td>DS</td>\n",
       "      <td>2007.0</td>\n",
       "      <td>Puzzle</td>\n",
       "      <td>0.05</td>\n",
       "      <td>0.00</td>\n",
       "      <td>0.00</td>\n",
       "      <td>0.00</td>\n",
       "      <td>68.0</td>\n",
       "      <td>tbd</td>\n",
       "      <td>E</td>\n",
       "    </tr>\n",
       "    <tr>\n",
       "      <td>14949</td>\n",
       "      <td>D.C. III: Da Capo III</td>\n",
       "      <td>PSP</td>\n",
       "      <td>2013.0</td>\n",
       "      <td>Adventure</td>\n",
       "      <td>0.00</td>\n",
       "      <td>0.00</td>\n",
       "      <td>0.03</td>\n",
       "      <td>0.00</td>\n",
       "      <td>NaN</td>\n",
       "      <td>NaN</td>\n",
       "      <td>NaN</td>\n",
       "    </tr>\n",
       "    <tr>\n",
       "      <td>5926</td>\n",
       "      <td>Lego Star Wars: The Force Awakens</td>\n",
       "      <td>XOne</td>\n",
       "      <td>2016.0</td>\n",
       "      <td>Action</td>\n",
       "      <td>0.14</td>\n",
       "      <td>0.13</td>\n",
       "      <td>0.00</td>\n",
       "      <td>0.02</td>\n",
       "      <td>76.0</td>\n",
       "      <td>7</td>\n",
       "      <td>E10+</td>\n",
       "    </tr>\n",
       "    <tr>\n",
       "      <td>16279</td>\n",
       "      <td>Brain Exercise With Dr. Kawashima</td>\n",
       "      <td>PC</td>\n",
       "      <td>2009.0</td>\n",
       "      <td>Puzzle</td>\n",
       "      <td>0.00</td>\n",
       "      <td>0.01</td>\n",
       "      <td>0.00</td>\n",
       "      <td>0.00</td>\n",
       "      <td>NaN</td>\n",
       "      <td>NaN</td>\n",
       "      <td>NaN</td>\n",
       "    </tr>\n",
       "    <tr>\n",
       "      <td>11525</td>\n",
       "      <td>Incredible Crisis</td>\n",
       "      <td>PS</td>\n",
       "      <td>1999.0</td>\n",
       "      <td>Action</td>\n",
       "      <td>0.04</td>\n",
       "      <td>0.03</td>\n",
       "      <td>0.00</td>\n",
       "      <td>0.01</td>\n",
       "      <td>80.0</td>\n",
       "      <td>7.5</td>\n",
       "      <td>T</td>\n",
       "    </tr>\n",
       "    <tr>\n",
       "      <td>10096</td>\n",
       "      <td>Zubo</td>\n",
       "      <td>DS</td>\n",
       "      <td>2008.0</td>\n",
       "      <td>Misc</td>\n",
       "      <td>0.08</td>\n",
       "      <td>0.02</td>\n",
       "      <td>0.00</td>\n",
       "      <td>0.01</td>\n",
       "      <td>75.0</td>\n",
       "      <td>7.6</td>\n",
       "      <td>E10+</td>\n",
       "    </tr>\n",
       "    <tr>\n",
       "      <td>14013</td>\n",
       "      <td>The Sum of All Fears</td>\n",
       "      <td>GBA</td>\n",
       "      <td>2002.0</td>\n",
       "      <td>Shooter</td>\n",
       "      <td>0.03</td>\n",
       "      <td>0.01</td>\n",
       "      <td>0.00</td>\n",
       "      <td>0.00</td>\n",
       "      <td>69.0</td>\n",
       "      <td>tbd</td>\n",
       "      <td>T</td>\n",
       "    </tr>\n",
       "  </tbody>\n",
       "</table>\n",
       "</div>"
      ],
      "text/plain": [
       "                                                    Name Platform  \\\n",
       "16612                         Bakumatsu Rock: Ultra Soul      PSP   \n",
       "5053                   Dance Dance Revolution Ultramix 3       XB   \n",
       "13312               Detective Conan: Marionette Symphony      3DS   \n",
       "16406  The Chronicles of Riddick: Assault on Dark Athena       PC   \n",
       "5550                                   Nicktoons: Movin'      PS2   \n",
       "5931                    Scooby-Doo! Night of 100 Frights       GC   \n",
       "10507                    Samurai Warriors Chronicles 2nd      3DS   \n",
       "2100                                           Fallout 3       PC   \n",
       "12798                                            Zendoku       DS   \n",
       "14949                              D.C. III: Da Capo III      PSP   \n",
       "5926                   Lego Star Wars: The Force Awakens     XOne   \n",
       "16279                  Brain Exercise With Dr. Kawashima       PC   \n",
       "11525                                  Incredible Crisis       PS   \n",
       "10096                                               Zubo       DS   \n",
       "14013                               The Sum of All Fears      GBA   \n",
       "\n",
       "       Year_of_Release         Genre  NA_sales  EU_sales  JP_sales  \\\n",
       "16612           2014.0          Misc      0.00      0.00      0.01   \n",
       "5053            2005.0    Simulation      0.28      0.08      0.00   \n",
       "13312           2013.0     Adventure      0.00      0.00      0.05   \n",
       "16406           2009.0       Shooter      0.00      0.01      0.00   \n",
       "5550            2004.0        Action      0.16      0.12      0.00   \n",
       "5931            2002.0      Platform      0.23      0.06      0.00   \n",
       "10507           2012.0        Action      0.00      0.00      0.10   \n",
       "2100            2008.0  Role-Playing      0.02      0.88      0.00   \n",
       "12798           2007.0        Puzzle      0.05      0.00      0.00   \n",
       "14949           2013.0     Adventure      0.00      0.00      0.03   \n",
       "5926            2016.0        Action      0.14      0.13      0.00   \n",
       "16279           2009.0        Puzzle      0.00      0.01      0.00   \n",
       "11525           1999.0        Action      0.04      0.03      0.00   \n",
       "10096           2008.0          Misc      0.08      0.02      0.00   \n",
       "14013           2002.0       Shooter      0.03      0.01      0.00   \n",
       "\n",
       "       Other_sales  Critic_Score User_Score Rating  \n",
       "16612         0.00           NaN        NaN    NaN  \n",
       "5053          0.01          75.0        8.6   E10+  \n",
       "13312         0.00           NaN        NaN    NaN  \n",
       "16406         0.00          80.0          8      M  \n",
       "5550          0.04           NaN        tbd      E  \n",
       "5931          0.01           NaN        NaN    NaN  \n",
       "10507         0.00           NaN        NaN    NaN  \n",
       "2100          0.08          91.0        7.9      M  \n",
       "12798         0.00          68.0        tbd      E  \n",
       "14949         0.00           NaN        NaN    NaN  \n",
       "5926          0.02          76.0          7   E10+  \n",
       "16279         0.00           NaN        NaN    NaN  \n",
       "11525         0.01          80.0        7.5      T  \n",
       "10096         0.01          75.0        7.6   E10+  \n",
       "14013         0.00          69.0        tbd      T  "
      ]
     },
     "execution_count": 3,
     "metadata": {},
     "output_type": "execute_result"
    }
   ],
   "source": [
    "df.sample(15)"
   ]
  },
  {
   "cell_type": "code",
   "execution_count": 4,
   "metadata": {},
   "outputs": [
    {
     "name": "stdout",
     "output_type": "stream",
     "text": [
      "<class 'pandas.core.frame.DataFrame'>\n",
      "RangeIndex: 16715 entries, 0 to 16714\n",
      "Data columns (total 11 columns):\n",
      "Name               16713 non-null object\n",
      "Platform           16715 non-null object\n",
      "Year_of_Release    16446 non-null float64\n",
      "Genre              16713 non-null object\n",
      "NA_sales           16715 non-null float64\n",
      "EU_sales           16715 non-null float64\n",
      "JP_sales           16715 non-null float64\n",
      "Other_sales        16715 non-null float64\n",
      "Critic_Score       8137 non-null float64\n",
      "User_Score         10014 non-null object\n",
      "Rating             9949 non-null object\n",
      "dtypes: float64(6), object(5)\n",
      "memory usage: 1.4+ MB\n"
     ]
    }
   ],
   "source": [
    "df.info()"
   ]
  },
  {
   "cell_type": "code",
   "execution_count": 5,
   "metadata": {},
   "outputs": [
    {
     "data": {
      "text/plain": [
       "Index(['Name', 'Platform', 'Year_of_Release', 'Genre', 'NA_sales', 'EU_sales',\n",
       "       'JP_sales', 'Other_sales', 'Critic_Score', 'User_Score', 'Rating'],\n",
       "      dtype='object')"
      ]
     },
     "execution_count": 5,
     "metadata": {},
     "output_type": "execute_result"
    }
   ],
   "source": [
    "df.columns"
   ]
  },
  {
   "cell_type": "markdown",
   "metadata": {},
   "source": [
    "## 1. Вывод"
   ]
  },
  {
   "cell_type": "markdown",
   "metadata": {},
   "source": [
    "В нашем распоряжении 16715 строк с данными о продаже компьютерных игр. В данных есть пропуски, название столбцов в разных регистрах. Для облегчения таблицы целесообразно будет заменить типы некоторых данных."
   ]
  },
  {
   "cell_type": "markdown",
   "metadata": {},
   "source": [
    "# 2. Предобработка данных"
   ]
  },
  {
   "cell_type": "code",
   "execution_count": 6,
   "metadata": {},
   "outputs": [
    {
     "name": "stdout",
     "output_type": "stream",
     "text": [
      "<class 'pandas.core.frame.DataFrame'>\n",
      "RangeIndex: 16715 entries, 0 to 16714\n",
      "Data columns (total 11 columns):\n",
      "name               16713 non-null object\n",
      "platform           16715 non-null object\n",
      "year_of_release    16446 non-null float64\n",
      "genre              16713 non-null object\n",
      "na_sales           16715 non-null float64\n",
      "eu_sales           16715 non-null float64\n",
      "jp_sales           16715 non-null float64\n",
      "other_sales        16715 non-null float64\n",
      "critic_score       8137 non-null float64\n",
      "user_score         10014 non-null object\n",
      "rating             9949 non-null object\n",
      "dtypes: float64(6), object(5)\n",
      "memory usage: 1.4+ MB\n"
     ]
    }
   ],
   "source": [
    "# Приводим названия столбцов к нижнему регистру\n",
    "df.columns = df.columns.str.lower()\n",
    "df.info()"
   ]
  },
  {
   "cell_type": "code",
   "execution_count": 7,
   "metadata": {},
   "outputs": [
    {
     "data": {
      "text/plain": [
       "name               0.000120\n",
       "platform           0.000000\n",
       "year_of_release    0.016093\n",
       "genre              0.000120\n",
       "na_sales           0.000000\n",
       "eu_sales           0.000000\n",
       "jp_sales           0.000000\n",
       "other_sales        0.000000\n",
       "critic_score       0.513192\n",
       "user_score         0.400897\n",
       "rating             0.404786\n",
       "dtype: float64"
      ]
     },
     "execution_count": 7,
     "metadata": {},
     "output_type": "execute_result"
    }
   ],
   "source": [
    "# Количество пропусков по столбцам\n",
    "df.isna().mean()"
   ]
  },
  {
   "cell_type": "markdown",
   "metadata": {},
   "source": [
    "Столбец name. Тип object, что соответствует смыслу данных. В столбце отсутствуют два значения. Удалим эти две строки, т.к. это не приведет к сколь-либо значимой потере данных. "
   ]
  },
  {
   "cell_type": "code",
   "execution_count": 8,
   "metadata": {},
   "outputs": [
    {
     "name": "stdout",
     "output_type": "stream",
     "text": [
      "<class 'pandas.core.frame.DataFrame'>\n",
      "Int64Index: 16713 entries, 0 to 16714\n",
      "Data columns (total 11 columns):\n",
      "name               16713 non-null object\n",
      "platform           16713 non-null object\n",
      "year_of_release    16444 non-null float64\n",
      "genre              16713 non-null object\n",
      "na_sales           16713 non-null float64\n",
      "eu_sales           16713 non-null float64\n",
      "jp_sales           16713 non-null float64\n",
      "other_sales        16713 non-null float64\n",
      "critic_score       8137 non-null float64\n",
      "user_score         10014 non-null object\n",
      "rating             9949 non-null object\n",
      "dtypes: float64(6), object(5)\n",
      "memory usage: 1.5+ MB\n"
     ]
    }
   ],
   "source": [
    "# Удаляем строки с пропусками в столбце name\n",
    "df.dropna(subset = ['name'], inplace = True)\n",
    "\n",
    "# Проверяем\n",
    "df.info()"
   ]
  },
  {
   "cell_type": "markdown",
   "metadata": {},
   "source": [
    "Столбец platform. Тип object, что соответствует смыслу данных. Пропусков нет."
   ]
  },
  {
   "cell_type": "markdown",
   "metadata": {},
   "source": [
    "Столбец year_of_release. Тип данных float, переведем в int, который больше подходит по смыслу. Пропусков 1.6%, что очень мало и их можно удалить без существенной потери данных."
   ]
  },
  {
   "cell_type": "code",
   "execution_count": 9,
   "metadata": {},
   "outputs": [
    {
     "name": "stdout",
     "output_type": "stream",
     "text": [
      "<class 'pandas.core.frame.DataFrame'>\n",
      "Int64Index: 16444 entries, 0 to 16714\n",
      "Data columns (total 11 columns):\n",
      "name               16444 non-null object\n",
      "platform           16444 non-null object\n",
      "year_of_release    16444 non-null int64\n",
      "genre              16444 non-null object\n",
      "na_sales           16444 non-null float64\n",
      "eu_sales           16444 non-null float64\n",
      "jp_sales           16444 non-null float64\n",
      "other_sales        16444 non-null float64\n",
      "critic_score       7983 non-null float64\n",
      "user_score         9839 non-null object\n",
      "rating             9768 non-null object\n",
      "dtypes: float64(5), int64(1), object(5)\n",
      "memory usage: 1.5+ MB\n"
     ]
    }
   ],
   "source": [
    "# Удаляем строки с пропусками в столбце year_of_release\n",
    "df.dropna(subset = ['year_of_release'], inplace = True)\n",
    "\n",
    "# Меняем тип float на int в столбце year_of_release\n",
    "df['year_of_release'] = df['year_of_release'].astype(int)\n",
    "\n",
    "df.info()"
   ]
  },
  {
   "cell_type": "markdown",
   "metadata": {},
   "source": [
    "Столбец genre. Тип object, что соответствует смыслу данных. Пропусков 0.012%, что очень мало и их можно удалить без существенной потери данных."
   ]
  },
  {
   "cell_type": "code",
   "execution_count": 10,
   "metadata": {},
   "outputs": [
    {
     "data": {
      "text/plain": [
       "name               0.000000\n",
       "platform           0.000000\n",
       "year_of_release    0.000000\n",
       "genre              0.000000\n",
       "na_sales           0.000000\n",
       "eu_sales           0.000000\n",
       "jp_sales           0.000000\n",
       "other_sales        0.000000\n",
       "critic_score       0.514534\n",
       "user_score         0.401666\n",
       "rating             0.405984\n",
       "dtype: float64"
      ]
     },
     "execution_count": 10,
     "metadata": {},
     "output_type": "execute_result"
    }
   ],
   "source": [
    "# Удаляем строки с пропусками в столбце genre\n",
    "df.dropna(subset = ['genre'], inplace = True)\n",
    "\n",
    "df.isna().mean()"
   ]
  },
  {
   "cell_type": "markdown",
   "metadata": {},
   "source": [
    "Столбцы na_sales, eu_sales, jp_sales, other_sales. Тип object, что соответствует смыслу данных. Пропусков нет."
   ]
  },
  {
   "cell_type": "markdown",
   "metadata": {},
   "source": [
    "Столбец critic_score. Тип float, что соответствует смыслу данных. Пропусков 51%. Заполнение средним или удаление этих пропусков приведет к существенной потере данных и исказит исследование. Заполним пропуски значением 100500. "
   ]
  },
  {
   "cell_type": "code",
   "execution_count": 11,
   "metadata": {},
   "outputs": [
    {
     "data": {
      "text/plain": [
       "name               0.000000\n",
       "platform           0.000000\n",
       "year_of_release    0.000000\n",
       "genre              0.000000\n",
       "na_sales           0.000000\n",
       "eu_sales           0.000000\n",
       "jp_sales           0.000000\n",
       "other_sales        0.000000\n",
       "critic_score       0.000000\n",
       "user_score         0.401666\n",
       "rating             0.405984\n",
       "dtype: float64"
      ]
     },
     "execution_count": 11,
     "metadata": {},
     "output_type": "execute_result"
    }
   ],
   "source": [
    "# Заполнение пропусков в столбце critic_score на 100500\n",
    "df['critic_score'] = df['critic_score'].fillna(100500)\n",
    "\n",
    "df.isna().mean()"
   ]
  },
  {
   "cell_type": "markdown",
   "metadata": {},
   "source": [
    "Столбец user_score. Тип object, который не соответствует смыслу даных, переведем в float. Пропусков 40%. Заполнение средним или удаление этих пропусков приведет к существенной потере данных и исказит исследование. Заполним пропуски значением 100500. Кроме этого в столбце встречается значение 'tbd'. Скорее всего это расшифровывается, как To Be Determined и в нашем случае означает, что рейтинг не определен. Таких записей 2376, что составляет 14%, что является существенным количеством. Заменим tbd значением 100500."
   ]
  },
  {
   "cell_type": "code",
   "execution_count": 12,
   "metadata": {},
   "outputs": [
    {
     "data": {
      "text/plain": [
       "2376"
      ]
     },
     "execution_count": 12,
     "metadata": {},
     "output_type": "execute_result"
    }
   ],
   "source": [
    "# Количество строк с 'tbd'\n",
    "len(df[df['user_score'] == 'tbd'])"
   ]
  },
  {
   "cell_type": "code",
   "execution_count": 13,
   "metadata": {},
   "outputs": [
    {
     "data": {
      "text/html": [
       "<div>\n",
       "<style scoped>\n",
       "    .dataframe tbody tr th:only-of-type {\n",
       "        vertical-align: middle;\n",
       "    }\n",
       "\n",
       "    .dataframe tbody tr th {\n",
       "        vertical-align: top;\n",
       "    }\n",
       "\n",
       "    .dataframe thead th {\n",
       "        text-align: right;\n",
       "    }\n",
       "</style>\n",
       "<table border=\"1\" class=\"dataframe\">\n",
       "  <thead>\n",
       "    <tr style=\"text-align: right;\">\n",
       "      <th></th>\n",
       "      <th>name</th>\n",
       "      <th>platform</th>\n",
       "      <th>year_of_release</th>\n",
       "      <th>genre</th>\n",
       "      <th>na_sales</th>\n",
       "      <th>eu_sales</th>\n",
       "      <th>jp_sales</th>\n",
       "      <th>other_sales</th>\n",
       "      <th>critic_score</th>\n",
       "      <th>user_score</th>\n",
       "      <th>rating</th>\n",
       "    </tr>\n",
       "  </thead>\n",
       "  <tbody>\n",
       "    <tr>\n",
       "      <td>2335</td>\n",
       "      <td>Lego Batman 3: Beyond Gotham</td>\n",
       "      <td>X360</td>\n",
       "      <td>2014</td>\n",
       "      <td>Action</td>\n",
       "      <td>0.48</td>\n",
       "      <td>0.33</td>\n",
       "      <td>0.00</td>\n",
       "      <td>0.08</td>\n",
       "      <td>100500.0</td>\n",
       "      <td>6.8</td>\n",
       "      <td>E10+</td>\n",
       "    </tr>\n",
       "    <tr>\n",
       "      <td>16573</td>\n",
       "      <td>The Amazing Spider-Man (DS &amp; Mobile Versions)</td>\n",
       "      <td>PSP</td>\n",
       "      <td>2009</td>\n",
       "      <td>Action</td>\n",
       "      <td>0.00</td>\n",
       "      <td>0.01</td>\n",
       "      <td>0.00</td>\n",
       "      <td>0.00</td>\n",
       "      <td>100500.0</td>\n",
       "      <td>NaN</td>\n",
       "      <td>NaN</td>\n",
       "    </tr>\n",
       "    <tr>\n",
       "      <td>8512</td>\n",
       "      <td>Castlevania Judgment</td>\n",
       "      <td>Wii</td>\n",
       "      <td>2008</td>\n",
       "      <td>Fighting</td>\n",
       "      <td>0.12</td>\n",
       "      <td>0.02</td>\n",
       "      <td>0.01</td>\n",
       "      <td>0.01</td>\n",
       "      <td>49.0</td>\n",
       "      <td>5.9</td>\n",
       "      <td>T</td>\n",
       "    </tr>\n",
       "    <tr>\n",
       "      <td>1554</td>\n",
       "      <td>Road Rash</td>\n",
       "      <td>PS</td>\n",
       "      <td>1995</td>\n",
       "      <td>Racing</td>\n",
       "      <td>0.71</td>\n",
       "      <td>0.48</td>\n",
       "      <td>0.00</td>\n",
       "      <td>0.08</td>\n",
       "      <td>100500.0</td>\n",
       "      <td>NaN</td>\n",
       "      <td>NaN</td>\n",
       "    </tr>\n",
       "    <tr>\n",
       "      <td>16541</td>\n",
       "      <td>G1 Jockey 4 2007</td>\n",
       "      <td>PS2</td>\n",
       "      <td>2007</td>\n",
       "      <td>Sports</td>\n",
       "      <td>0.00</td>\n",
       "      <td>0.00</td>\n",
       "      <td>0.01</td>\n",
       "      <td>0.00</td>\n",
       "      <td>100500.0</td>\n",
       "      <td>NaN</td>\n",
       "      <td>NaN</td>\n",
       "    </tr>\n",
       "    <tr>\n",
       "      <td>6986</td>\n",
       "      <td>Virtua Tennis 4</td>\n",
       "      <td>X360</td>\n",
       "      <td>2011</td>\n",
       "      <td>Sports</td>\n",
       "      <td>0.11</td>\n",
       "      <td>0.09</td>\n",
       "      <td>0.01</td>\n",
       "      <td>0.02</td>\n",
       "      <td>70.0</td>\n",
       "      <td>6.2</td>\n",
       "      <td>E</td>\n",
       "    </tr>\n",
       "    <tr>\n",
       "      <td>6408</td>\n",
       "      <td>My Japanese Coach</td>\n",
       "      <td>DS</td>\n",
       "      <td>2008</td>\n",
       "      <td>Misc</td>\n",
       "      <td>0.24</td>\n",
       "      <td>0.00</td>\n",
       "      <td>0.00</td>\n",
       "      <td>0.02</td>\n",
       "      <td>59.0</td>\n",
       "      <td>6.7</td>\n",
       "      <td>E</td>\n",
       "    </tr>\n",
       "    <tr>\n",
       "      <td>4938</td>\n",
       "      <td>Auto Modellista</td>\n",
       "      <td>PS2</td>\n",
       "      <td>2002</td>\n",
       "      <td>Racing</td>\n",
       "      <td>0.19</td>\n",
       "      <td>0.15</td>\n",
       "      <td>0.00</td>\n",
       "      <td>0.05</td>\n",
       "      <td>66.0</td>\n",
       "      <td>7.5</td>\n",
       "      <td>E</td>\n",
       "    </tr>\n",
       "    <tr>\n",
       "      <td>2474</td>\n",
       "      <td>Q*bert</td>\n",
       "      <td>PS</td>\n",
       "      <td>1999</td>\n",
       "      <td>Puzzle</td>\n",
       "      <td>0.46</td>\n",
       "      <td>0.32</td>\n",
       "      <td>0.00</td>\n",
       "      <td>0.05</td>\n",
       "      <td>100500.0</td>\n",
       "      <td>NaN</td>\n",
       "      <td>NaN</td>\n",
       "    </tr>\n",
       "    <tr>\n",
       "      <td>16629</td>\n",
       "      <td>Shirogane no Soleil: Contract to the Future - ...</td>\n",
       "      <td>PS2</td>\n",
       "      <td>2008</td>\n",
       "      <td>Adventure</td>\n",
       "      <td>0.00</td>\n",
       "      <td>0.00</td>\n",
       "      <td>0.01</td>\n",
       "      <td>0.00</td>\n",
       "      <td>100500.0</td>\n",
       "      <td>NaN</td>\n",
       "      <td>NaN</td>\n",
       "    </tr>\n",
       "  </tbody>\n",
       "</table>\n",
       "</div>"
      ],
      "text/plain": [
       "                                                    name platform  \\\n",
       "2335                        Lego Batman 3: Beyond Gotham     X360   \n",
       "16573      The Amazing Spider-Man (DS & Mobile Versions)      PSP   \n",
       "8512                                Castlevania Judgment      Wii   \n",
       "1554                                           Road Rash       PS   \n",
       "16541                                   G1 Jockey 4 2007      PS2   \n",
       "6986                                     Virtua Tennis 4     X360   \n",
       "6408                                   My Japanese Coach       DS   \n",
       "4938                                     Auto Modellista      PS2   \n",
       "2474                                              Q*bert       PS   \n",
       "16629  Shirogane no Soleil: Contract to the Future - ...      PS2   \n",
       "\n",
       "       year_of_release      genre  na_sales  eu_sales  jp_sales  other_sales  \\\n",
       "2335              2014     Action      0.48      0.33      0.00         0.08   \n",
       "16573             2009     Action      0.00      0.01      0.00         0.00   \n",
       "8512              2008   Fighting      0.12      0.02      0.01         0.01   \n",
       "1554              1995     Racing      0.71      0.48      0.00         0.08   \n",
       "16541             2007     Sports      0.00      0.00      0.01         0.00   \n",
       "6986              2011     Sports      0.11      0.09      0.01         0.02   \n",
       "6408              2008       Misc      0.24      0.00      0.00         0.02   \n",
       "4938              2002     Racing      0.19      0.15      0.00         0.05   \n",
       "2474              1999     Puzzle      0.46      0.32      0.00         0.05   \n",
       "16629             2008  Adventure      0.00      0.00      0.01         0.00   \n",
       "\n",
       "       critic_score user_score rating  \n",
       "2335       100500.0        6.8   E10+  \n",
       "16573      100500.0        NaN    NaN  \n",
       "8512           49.0        5.9      T  \n",
       "1554       100500.0        NaN    NaN  \n",
       "16541      100500.0        NaN    NaN  \n",
       "6986           70.0        6.2      E  \n",
       "6408           59.0        6.7      E  \n",
       "4938           66.0        7.5      E  \n",
       "2474       100500.0        NaN    NaN  \n",
       "16629      100500.0        NaN    NaN  "
      ]
     },
     "execution_count": 13,
     "metadata": {},
     "output_type": "execute_result"
    }
   ],
   "source": [
    "# Заменяем в столбце user_score все значения 'tbd' на 100500\n",
    "df['user_score'] = df['user_score'].where(df['user_score'] != 'tbd', '100500')\n",
    "\n",
    "df.sample(10)"
   ]
  },
  {
   "cell_type": "code",
   "execution_count": 14,
   "metadata": {},
   "outputs": [
    {
     "data": {
      "text/plain": [
       "name               0.000000\n",
       "platform           0.000000\n",
       "year_of_release    0.000000\n",
       "genre              0.000000\n",
       "na_sales           0.000000\n",
       "eu_sales           0.000000\n",
       "jp_sales           0.000000\n",
       "other_sales        0.000000\n",
       "critic_score       0.000000\n",
       "user_score         0.000000\n",
       "rating             0.405984\n",
       "dtype: float64"
      ]
     },
     "execution_count": 14,
     "metadata": {},
     "output_type": "execute_result"
    }
   ],
   "source": [
    "# Заполнение пропусков в столбце user_score на 100500\n",
    "df['user_score'] = df['user_score'].fillna(100500)\n",
    "\n",
    "df.isna().mean()"
   ]
  },
  {
   "cell_type": "code",
   "execution_count": 15,
   "metadata": {},
   "outputs": [
    {
     "name": "stdout",
     "output_type": "stream",
     "text": [
      "<class 'pandas.core.frame.DataFrame'>\n",
      "Int64Index: 16444 entries, 0 to 16714\n",
      "Data columns (total 11 columns):\n",
      "name               16444 non-null object\n",
      "platform           16444 non-null object\n",
      "year_of_release    16444 non-null int64\n",
      "genre              16444 non-null object\n",
      "na_sales           16444 non-null float64\n",
      "eu_sales           16444 non-null float64\n",
      "jp_sales           16444 non-null float64\n",
      "other_sales        16444 non-null float64\n",
      "critic_score       16444 non-null float64\n",
      "user_score         16444 non-null float64\n",
      "rating             9768 non-null object\n",
      "dtypes: float64(6), int64(1), object(4)\n",
      "memory usage: 1.5+ MB\n"
     ]
    }
   ],
   "source": [
    "# Меняем тип object на float в столбце user_score\n",
    "df['user_score'] = df['user_score'].astype(float)\n",
    "\n",
    "df.info()"
   ]
  },
  {
   "cell_type": "markdown",
   "metadata": {},
   "source": [
    "Столбец rating. Тип object, что полностью соответствует смыслу даных. Пропусков 40%. Их удаление приведет к существенной потере данных и исказит исследование. Заполним пропуски значением unknown."
   ]
  },
  {
   "cell_type": "code",
   "execution_count": 16,
   "metadata": {},
   "outputs": [
    {
     "data": {
      "text/html": [
       "<div>\n",
       "<style scoped>\n",
       "    .dataframe tbody tr th:only-of-type {\n",
       "        vertical-align: middle;\n",
       "    }\n",
       "\n",
       "    .dataframe tbody tr th {\n",
       "        vertical-align: top;\n",
       "    }\n",
       "\n",
       "    .dataframe thead th {\n",
       "        text-align: right;\n",
       "    }\n",
       "</style>\n",
       "<table border=\"1\" class=\"dataframe\">\n",
       "  <thead>\n",
       "    <tr style=\"text-align: right;\">\n",
       "      <th></th>\n",
       "      <th>name</th>\n",
       "      <th>platform</th>\n",
       "      <th>year_of_release</th>\n",
       "      <th>genre</th>\n",
       "      <th>na_sales</th>\n",
       "      <th>eu_sales</th>\n",
       "      <th>jp_sales</th>\n",
       "      <th>other_sales</th>\n",
       "      <th>critic_score</th>\n",
       "      <th>user_score</th>\n",
       "      <th>rating</th>\n",
       "    </tr>\n",
       "  </thead>\n",
       "  <tbody>\n",
       "    <tr>\n",
       "      <td>5000</td>\n",
       "      <td>Battlefield 1</td>\n",
       "      <td>PC</td>\n",
       "      <td>2016</td>\n",
       "      <td>Shooter</td>\n",
       "      <td>0.11</td>\n",
       "      <td>0.24</td>\n",
       "      <td>0.00</td>\n",
       "      <td>0.03</td>\n",
       "      <td>88.0</td>\n",
       "      <td>7.6</td>\n",
       "      <td>M</td>\n",
       "    </tr>\n",
       "    <tr>\n",
       "      <td>3074</td>\n",
       "      <td>Gods Eater Burst</td>\n",
       "      <td>PSP</td>\n",
       "      <td>2010</td>\n",
       "      <td>Action</td>\n",
       "      <td>0.03</td>\n",
       "      <td>0.00</td>\n",
       "      <td>0.62</td>\n",
       "      <td>0.00</td>\n",
       "      <td>71.0</td>\n",
       "      <td>7.9</td>\n",
       "      <td>T</td>\n",
       "    </tr>\n",
       "    <tr>\n",
       "      <td>2859</td>\n",
       "      <td>Battlefield: Bad Company 2</td>\n",
       "      <td>PC</td>\n",
       "      <td>2010</td>\n",
       "      <td>Shooter</td>\n",
       "      <td>0.19</td>\n",
       "      <td>0.53</td>\n",
       "      <td>0.00</td>\n",
       "      <td>0.00</td>\n",
       "      <td>87.0</td>\n",
       "      <td>8.3</td>\n",
       "      <td>M</td>\n",
       "    </tr>\n",
       "    <tr>\n",
       "      <td>12439</td>\n",
       "      <td>Zumba Fitness Core</td>\n",
       "      <td>Wii</td>\n",
       "      <td>2012</td>\n",
       "      <td>Misc</td>\n",
       "      <td>0.00</td>\n",
       "      <td>0.06</td>\n",
       "      <td>0.00</td>\n",
       "      <td>0.01</td>\n",
       "      <td>100500.0</td>\n",
       "      <td>100500.0</td>\n",
       "      <td>E10+</td>\n",
       "    </tr>\n",
       "    <tr>\n",
       "      <td>13364</td>\n",
       "      <td>Adventure Time: Explore the Dungeon Because I ...</td>\n",
       "      <td>PS3</td>\n",
       "      <td>2013</td>\n",
       "      <td>Action</td>\n",
       "      <td>0.02</td>\n",
       "      <td>0.01</td>\n",
       "      <td>0.00</td>\n",
       "      <td>0.01</td>\n",
       "      <td>100500.0</td>\n",
       "      <td>100500.0</td>\n",
       "      <td>unknown</td>\n",
       "    </tr>\n",
       "    <tr>\n",
       "      <td>8214</td>\n",
       "      <td>Mark Davis Pro Bass Challenge</td>\n",
       "      <td>PS2</td>\n",
       "      <td>2002</td>\n",
       "      <td>Sports</td>\n",
       "      <td>0.09</td>\n",
       "      <td>0.07</td>\n",
       "      <td>0.00</td>\n",
       "      <td>0.02</td>\n",
       "      <td>100500.0</td>\n",
       "      <td>100500.0</td>\n",
       "      <td>E</td>\n",
       "    </tr>\n",
       "    <tr>\n",
       "      <td>14404</td>\n",
       "      <td>Prison Architect</td>\n",
       "      <td>PS4</td>\n",
       "      <td>2016</td>\n",
       "      <td>Action</td>\n",
       "      <td>0.01</td>\n",
       "      <td>0.01</td>\n",
       "      <td>0.00</td>\n",
       "      <td>0.01</td>\n",
       "      <td>80.0</td>\n",
       "      <td>8.0</td>\n",
       "      <td>M</td>\n",
       "    </tr>\n",
       "    <tr>\n",
       "      <td>9564</td>\n",
       "      <td>All-Star Baseball 2004</td>\n",
       "      <td>XB</td>\n",
       "      <td>2003</td>\n",
       "      <td>Sports</td>\n",
       "      <td>0.10</td>\n",
       "      <td>0.03</td>\n",
       "      <td>0.00</td>\n",
       "      <td>0.00</td>\n",
       "      <td>74.0</td>\n",
       "      <td>8.4</td>\n",
       "      <td>E</td>\n",
       "    </tr>\n",
       "    <tr>\n",
       "      <td>15033</td>\n",
       "      <td>Alien Breed Trilogy</td>\n",
       "      <td>X360</td>\n",
       "      <td>2011</td>\n",
       "      <td>Shooter</td>\n",
       "      <td>0.00</td>\n",
       "      <td>0.02</td>\n",
       "      <td>0.00</td>\n",
       "      <td>0.00</td>\n",
       "      <td>100500.0</td>\n",
       "      <td>100500.0</td>\n",
       "      <td>unknown</td>\n",
       "    </tr>\n",
       "    <tr>\n",
       "      <td>336</td>\n",
       "      <td>Spyro: Year of the Dragon</td>\n",
       "      <td>PS</td>\n",
       "      <td>2000</td>\n",
       "      <td>Platform</td>\n",
       "      <td>1.93</td>\n",
       "      <td>1.58</td>\n",
       "      <td>0.00</td>\n",
       "      <td>0.19</td>\n",
       "      <td>91.0</td>\n",
       "      <td>8.8</td>\n",
       "      <td>E</td>\n",
       "    </tr>\n",
       "  </tbody>\n",
       "</table>\n",
       "</div>"
      ],
      "text/plain": [
       "                                                    name platform  \\\n",
       "5000                                       Battlefield 1       PC   \n",
       "3074                                    Gods Eater Burst      PSP   \n",
       "2859                          Battlefield: Bad Company 2       PC   \n",
       "12439                                 Zumba Fitness Core      Wii   \n",
       "13364  Adventure Time: Explore the Dungeon Because I ...      PS3   \n",
       "8214                       Mark Davis Pro Bass Challenge      PS2   \n",
       "14404                                   Prison Architect      PS4   \n",
       "9564                              All-Star Baseball 2004       XB   \n",
       "15033                                Alien Breed Trilogy     X360   \n",
       "336                            Spyro: Year of the Dragon       PS   \n",
       "\n",
       "       year_of_release     genre  na_sales  eu_sales  jp_sales  other_sales  \\\n",
       "5000              2016   Shooter      0.11      0.24      0.00         0.03   \n",
       "3074              2010    Action      0.03      0.00      0.62         0.00   \n",
       "2859              2010   Shooter      0.19      0.53      0.00         0.00   \n",
       "12439             2012      Misc      0.00      0.06      0.00         0.01   \n",
       "13364             2013    Action      0.02      0.01      0.00         0.01   \n",
       "8214              2002    Sports      0.09      0.07      0.00         0.02   \n",
       "14404             2016    Action      0.01      0.01      0.00         0.01   \n",
       "9564              2003    Sports      0.10      0.03      0.00         0.00   \n",
       "15033             2011   Shooter      0.00      0.02      0.00         0.00   \n",
       "336               2000  Platform      1.93      1.58      0.00         0.19   \n",
       "\n",
       "       critic_score  user_score   rating  \n",
       "5000           88.0         7.6        M  \n",
       "3074           71.0         7.9        T  \n",
       "2859           87.0         8.3        M  \n",
       "12439      100500.0    100500.0     E10+  \n",
       "13364      100500.0    100500.0  unknown  \n",
       "8214       100500.0    100500.0        E  \n",
       "14404          80.0         8.0        M  \n",
       "9564           74.0         8.4        E  \n",
       "15033      100500.0    100500.0  unknown  \n",
       "336            91.0         8.8        E  "
      ]
     },
     "execution_count": 16,
     "metadata": {},
     "output_type": "execute_result"
    }
   ],
   "source": [
    "# Заполним пропуски значением unknown в столбце rating\n",
    "df['rating'] = df['rating'].fillna('unknown')\n",
    "\n",
    "df.sample(10)"
   ]
  },
  {
   "cell_type": "code",
   "execution_count": 17,
   "metadata": {},
   "outputs": [
    {
     "name": "stdout",
     "output_type": "stream",
     "text": [
      "<class 'pandas.core.frame.DataFrame'>\n",
      "Int64Index: 16444 entries, 0 to 16714\n",
      "Data columns (total 11 columns):\n",
      "name               16444 non-null object\n",
      "platform           16444 non-null object\n",
      "year_of_release    16444 non-null int64\n",
      "genre              16444 non-null object\n",
      "na_sales           16444 non-null float64\n",
      "eu_sales           16444 non-null float64\n",
      "jp_sales           16444 non-null float64\n",
      "other_sales        16444 non-null float64\n",
      "critic_score       16444 non-null float64\n",
      "user_score         16444 non-null float64\n",
      "rating             16444 non-null object\n",
      "dtypes: float64(6), int64(1), object(4)\n",
      "memory usage: 1.5+ MB\n"
     ]
    }
   ],
   "source": [
    "# Проверка\n",
    "df.info()"
   ]
  },
  {
   "cell_type": "code",
   "execution_count": 18,
   "metadata": {},
   "outputs": [
    {
     "data": {
      "text/plain": [
       "name               0.0\n",
       "platform           0.0\n",
       "year_of_release    0.0\n",
       "genre              0.0\n",
       "na_sales           0.0\n",
       "eu_sales           0.0\n",
       "jp_sales           0.0\n",
       "other_sales        0.0\n",
       "critic_score       0.0\n",
       "user_score         0.0\n",
       "rating             0.0\n",
       "dtype: float64"
      ]
     },
     "execution_count": 18,
     "metadata": {},
     "output_type": "execute_result"
    }
   ],
   "source": [
    "# Проверка\n",
    "df.isna().mean()"
   ]
  },
  {
   "cell_type": "markdown",
   "metadata": {},
   "source": [
    "## 2. Вывод"
   ]
  },
  {
   "cell_type": "markdown",
   "metadata": {},
   "source": [
    "В ходе предобработки была удалена 271 строка из изначальных 16715 строк. Все названия столбцов приведены к нижнему регистру. Все пропуски заполнены. По столбцам выволнено:\n",
    "\n",
    "* name - удалено две строки с пропущенными значениями\n",
    "* platform - без изменений\n",
    "* year_of_release - тип данных float переведен в int. Пропусков было 1.6% - удалены.\n",
    "* genre - пропусков было 0.012% - удалены\n",
    "* na_sales, eu_sales, jp_sales, other_sales - без изменений\n",
    "* critic_score - Пропусков было 51%, заполнены значением 100500.\n",
    "* user_score - Тип object переведем в float. Пропусков было 40%, заполнены значением 100500. В столбце было 2376 записей 'tbd' - To Be Determined, что в нашем случае равно, отстствию данных. Все 'tbd' заменены на 100500.\n",
    "* rating - Пропусков было 40%.  Все заполнили значением unknown\n",
    "\n"
   ]
  },
  {
   "cell_type": "markdown",
   "metadata": {},
   "source": [
    "# 3. Исследовательский анализ"
   ]
  },
  {
   "cell_type": "markdown",
   "metadata": {},
   "source": [
    "Посчитаем суммарные продажи по регионам и запишем их в столбец total_sales."
   ]
  },
  {
   "cell_type": "code",
   "execution_count": 19,
   "metadata": {},
   "outputs": [
    {
     "data": {
      "text/html": [
       "<div>\n",
       "<style scoped>\n",
       "    .dataframe tbody tr th:only-of-type {\n",
       "        vertical-align: middle;\n",
       "    }\n",
       "\n",
       "    .dataframe tbody tr th {\n",
       "        vertical-align: top;\n",
       "    }\n",
       "\n",
       "    .dataframe thead th {\n",
       "        text-align: right;\n",
       "    }\n",
       "</style>\n",
       "<table border=\"1\" class=\"dataframe\">\n",
       "  <thead>\n",
       "    <tr style=\"text-align: right;\">\n",
       "      <th></th>\n",
       "      <th>name</th>\n",
       "      <th>platform</th>\n",
       "      <th>year_of_release</th>\n",
       "      <th>genre</th>\n",
       "      <th>na_sales</th>\n",
       "      <th>eu_sales</th>\n",
       "      <th>jp_sales</th>\n",
       "      <th>other_sales</th>\n",
       "      <th>critic_score</th>\n",
       "      <th>user_score</th>\n",
       "      <th>rating</th>\n",
       "      <th>total_sales</th>\n",
       "    </tr>\n",
       "  </thead>\n",
       "  <tbody>\n",
       "    <tr>\n",
       "      <td>0</td>\n",
       "      <td>Wii Sports</td>\n",
       "      <td>Wii</td>\n",
       "      <td>2006</td>\n",
       "      <td>Sports</td>\n",
       "      <td>41.36</td>\n",
       "      <td>28.96</td>\n",
       "      <td>3.77</td>\n",
       "      <td>8.45</td>\n",
       "      <td>76.0</td>\n",
       "      <td>8.0</td>\n",
       "      <td>E</td>\n",
       "      <td>74.09</td>\n",
       "    </tr>\n",
       "    <tr>\n",
       "      <td>1</td>\n",
       "      <td>Super Mario Bros.</td>\n",
       "      <td>NES</td>\n",
       "      <td>1985</td>\n",
       "      <td>Platform</td>\n",
       "      <td>29.08</td>\n",
       "      <td>3.58</td>\n",
       "      <td>6.81</td>\n",
       "      <td>0.77</td>\n",
       "      <td>100500.0</td>\n",
       "      <td>100500.0</td>\n",
       "      <td>unknown</td>\n",
       "      <td>39.47</td>\n",
       "    </tr>\n",
       "    <tr>\n",
       "      <td>2</td>\n",
       "      <td>Mario Kart Wii</td>\n",
       "      <td>Wii</td>\n",
       "      <td>2008</td>\n",
       "      <td>Racing</td>\n",
       "      <td>15.68</td>\n",
       "      <td>12.76</td>\n",
       "      <td>3.79</td>\n",
       "      <td>3.29</td>\n",
       "      <td>82.0</td>\n",
       "      <td>8.3</td>\n",
       "      <td>E</td>\n",
       "      <td>32.23</td>\n",
       "    </tr>\n",
       "    <tr>\n",
       "      <td>3</td>\n",
       "      <td>Wii Sports Resort</td>\n",
       "      <td>Wii</td>\n",
       "      <td>2009</td>\n",
       "      <td>Sports</td>\n",
       "      <td>15.61</td>\n",
       "      <td>10.93</td>\n",
       "      <td>3.28</td>\n",
       "      <td>2.95</td>\n",
       "      <td>80.0</td>\n",
       "      <td>8.0</td>\n",
       "      <td>E</td>\n",
       "      <td>29.82</td>\n",
       "    </tr>\n",
       "    <tr>\n",
       "      <td>4</td>\n",
       "      <td>Pokemon Red/Pokemon Blue</td>\n",
       "      <td>GB</td>\n",
       "      <td>1996</td>\n",
       "      <td>Role-Playing</td>\n",
       "      <td>11.27</td>\n",
       "      <td>8.89</td>\n",
       "      <td>10.22</td>\n",
       "      <td>1.00</td>\n",
       "      <td>100500.0</td>\n",
       "      <td>100500.0</td>\n",
       "      <td>unknown</td>\n",
       "      <td>30.38</td>\n",
       "    </tr>\n",
       "  </tbody>\n",
       "</table>\n",
       "</div>"
      ],
      "text/plain": [
       "                       name platform  year_of_release         genre  na_sales  \\\n",
       "0                Wii Sports      Wii             2006        Sports     41.36   \n",
       "1         Super Mario Bros.      NES             1985      Platform     29.08   \n",
       "2            Mario Kart Wii      Wii             2008        Racing     15.68   \n",
       "3         Wii Sports Resort      Wii             2009        Sports     15.61   \n",
       "4  Pokemon Red/Pokemon Blue       GB             1996  Role-Playing     11.27   \n",
       "\n",
       "   eu_sales  jp_sales  other_sales  critic_score  user_score   rating  \\\n",
       "0     28.96      3.77         8.45          76.0         8.0        E   \n",
       "1      3.58      6.81         0.77      100500.0    100500.0  unknown   \n",
       "2     12.76      3.79         3.29          82.0         8.3        E   \n",
       "3     10.93      3.28         2.95          80.0         8.0        E   \n",
       "4      8.89     10.22         1.00      100500.0    100500.0  unknown   \n",
       "\n",
       "   total_sales  \n",
       "0        74.09  \n",
       "1        39.47  \n",
       "2        32.23  \n",
       "3        29.82  \n",
       "4        30.38  "
      ]
     },
     "execution_count": 19,
     "metadata": {},
     "output_type": "execute_result"
    }
   ],
   "source": [
    "# Создаем столбец total_sales с суммарными продажами по регионам\n",
    "df['total_sales'] = df['na_sales'] + df['eu_sales'] + df['jp_sales']\n",
    "\n",
    "df.head(5)"
   ]
  },
  {
   "cell_type": "markdown",
   "metadata": {},
   "source": [
    "Посмотрим, сколько игр выпускалось в разные годы."
   ]
  },
  {
   "cell_type": "code",
   "execution_count": 20,
   "metadata": {},
   "outputs": [
    {
     "data": {
      "text/plain": [
       "<matplotlib.axes._subplots.AxesSubplot at 0x7f81a9e13cd0>"
      ]
     },
     "execution_count": 20,
     "metadata": {},
     "output_type": "execute_result"
    },
    {
     "data": {
      "image/png": "[encoded data removed]",
      "text/plain": [
       "<Figure size 720x432 with 1 Axes>"
      ]
     },
     "metadata": {
      "needs_background": "light"
     },
     "output_type": "display_data"
    }
   ],
   "source": [
    "df.groupby('year_of_release')['name'].count().plot(grid=True, figsize=(10,6), title = 'Количество анонсированных игр по годам, млн')"
   ]
  },
  {
   "cell_type": "markdown",
   "metadata": {},
   "source": [
    "#### Из графика выше видим, что до 2002 года выпускалось очень мало игр и данный период можно назвать периодом зарождения и становления компьютерных игр."
   ]
  },
  {
   "cell_type": "code",
   "execution_count": 21,
   "metadata": {},
   "outputs": [
    {
     "data": {
      "text/html": [
       "<div>\n",
       "<style scoped>\n",
       "    .dataframe tbody tr th:only-of-type {\n",
       "        vertical-align: middle;\n",
       "    }\n",
       "\n",
       "    .dataframe tbody tr th {\n",
       "        vertical-align: top;\n",
       "    }\n",
       "\n",
       "    .dataframe thead th {\n",
       "        text-align: right;\n",
       "    }\n",
       "</style>\n",
       "<table border=\"1\" class=\"dataframe\">\n",
       "  <thead>\n",
       "    <tr style=\"text-align: right;\">\n",
       "      <th></th>\n",
       "      <th>name</th>\n",
       "      <th>platform</th>\n",
       "      <th>year_of_release</th>\n",
       "      <th>genre</th>\n",
       "      <th>na_sales</th>\n",
       "      <th>eu_sales</th>\n",
       "      <th>jp_sales</th>\n",
       "      <th>other_sales</th>\n",
       "      <th>critic_score</th>\n",
       "      <th>user_score</th>\n",
       "      <th>rating</th>\n",
       "      <th>total_sales</th>\n",
       "    </tr>\n",
       "  </thead>\n",
       "  <tbody>\n",
       "    <tr>\n",
       "      <td>0</td>\n",
       "      <td>Wii Sports</td>\n",
       "      <td>Wii</td>\n",
       "      <td>2006</td>\n",
       "      <td>Sports</td>\n",
       "      <td>41.36</td>\n",
       "      <td>28.96</td>\n",
       "      <td>3.77</td>\n",
       "      <td>8.45</td>\n",
       "      <td>76.0</td>\n",
       "      <td>8.0</td>\n",
       "      <td>E</td>\n",
       "      <td>74.09</td>\n",
       "    </tr>\n",
       "    <tr>\n",
       "      <td>1</td>\n",
       "      <td>Mario Kart Wii</td>\n",
       "      <td>Wii</td>\n",
       "      <td>2008</td>\n",
       "      <td>Racing</td>\n",
       "      <td>15.68</td>\n",
       "      <td>12.76</td>\n",
       "      <td>3.79</td>\n",
       "      <td>3.29</td>\n",
       "      <td>82.0</td>\n",
       "      <td>8.3</td>\n",
       "      <td>E</td>\n",
       "      <td>32.23</td>\n",
       "    </tr>\n",
       "    <tr>\n",
       "      <td>2</td>\n",
       "      <td>Wii Sports Resort</td>\n",
       "      <td>Wii</td>\n",
       "      <td>2009</td>\n",
       "      <td>Sports</td>\n",
       "      <td>15.61</td>\n",
       "      <td>10.93</td>\n",
       "      <td>3.28</td>\n",
       "      <td>2.95</td>\n",
       "      <td>80.0</td>\n",
       "      <td>8.0</td>\n",
       "      <td>E</td>\n",
       "      <td>29.82</td>\n",
       "    </tr>\n",
       "    <tr>\n",
       "      <td>3</td>\n",
       "      <td>New Super Mario Bros.</td>\n",
       "      <td>DS</td>\n",
       "      <td>2006</td>\n",
       "      <td>Platform</td>\n",
       "      <td>11.28</td>\n",
       "      <td>9.14</td>\n",
       "      <td>6.50</td>\n",
       "      <td>2.88</td>\n",
       "      <td>89.0</td>\n",
       "      <td>8.5</td>\n",
       "      <td>E</td>\n",
       "      <td>26.92</td>\n",
       "    </tr>\n",
       "    <tr>\n",
       "      <td>4</td>\n",
       "      <td>Wii Play</td>\n",
       "      <td>Wii</td>\n",
       "      <td>2006</td>\n",
       "      <td>Misc</td>\n",
       "      <td>13.96</td>\n",
       "      <td>9.18</td>\n",
       "      <td>2.93</td>\n",
       "      <td>2.84</td>\n",
       "      <td>58.0</td>\n",
       "      <td>6.6</td>\n",
       "      <td>E</td>\n",
       "      <td>26.07</td>\n",
       "    </tr>\n",
       "    <tr>\n",
       "      <td>...</td>\n",
       "      <td>...</td>\n",
       "      <td>...</td>\n",
       "      <td>...</td>\n",
       "      <td>...</td>\n",
       "      <td>...</td>\n",
       "      <td>...</td>\n",
       "      <td>...</td>\n",
       "      <td>...</td>\n",
       "      <td>...</td>\n",
       "      <td>...</td>\n",
       "      <td>...</td>\n",
       "      <td>...</td>\n",
       "    </tr>\n",
       "    <tr>\n",
       "      <td>13633</td>\n",
       "      <td>Samurai Warriors: Sanada Maru</td>\n",
       "      <td>PS3</td>\n",
       "      <td>2016</td>\n",
       "      <td>Action</td>\n",
       "      <td>0.00</td>\n",
       "      <td>0.00</td>\n",
       "      <td>0.01</td>\n",
       "      <td>0.00</td>\n",
       "      <td>100500.0</td>\n",
       "      <td>100500.0</td>\n",
       "      <td>unknown</td>\n",
       "      <td>0.01</td>\n",
       "    </tr>\n",
       "    <tr>\n",
       "      <td>13634</td>\n",
       "      <td>LMA Manager 2007</td>\n",
       "      <td>X360</td>\n",
       "      <td>2006</td>\n",
       "      <td>Sports</td>\n",
       "      <td>0.00</td>\n",
       "      <td>0.01</td>\n",
       "      <td>0.00</td>\n",
       "      <td>0.00</td>\n",
       "      <td>100500.0</td>\n",
       "      <td>100500.0</td>\n",
       "      <td>unknown</td>\n",
       "      <td>0.01</td>\n",
       "    </tr>\n",
       "    <tr>\n",
       "      <td>13635</td>\n",
       "      <td>Haitaka no Psychedelica</td>\n",
       "      <td>PSV</td>\n",
       "      <td>2016</td>\n",
       "      <td>Adventure</td>\n",
       "      <td>0.00</td>\n",
       "      <td>0.00</td>\n",
       "      <td>0.01</td>\n",
       "      <td>0.00</td>\n",
       "      <td>100500.0</td>\n",
       "      <td>100500.0</td>\n",
       "      <td>unknown</td>\n",
       "      <td>0.01</td>\n",
       "    </tr>\n",
       "    <tr>\n",
       "      <td>13636</td>\n",
       "      <td>Spirits &amp; Spells</td>\n",
       "      <td>GBA</td>\n",
       "      <td>2003</td>\n",
       "      <td>Platform</td>\n",
       "      <td>0.01</td>\n",
       "      <td>0.00</td>\n",
       "      <td>0.00</td>\n",
       "      <td>0.00</td>\n",
       "      <td>100500.0</td>\n",
       "      <td>100500.0</td>\n",
       "      <td>unknown</td>\n",
       "      <td>0.01</td>\n",
       "    </tr>\n",
       "    <tr>\n",
       "      <td>13637</td>\n",
       "      <td>Winning Post 8 2016</td>\n",
       "      <td>PSV</td>\n",
       "      <td>2016</td>\n",
       "      <td>Simulation</td>\n",
       "      <td>0.00</td>\n",
       "      <td>0.00</td>\n",
       "      <td>0.01</td>\n",
       "      <td>0.00</td>\n",
       "      <td>100500.0</td>\n",
       "      <td>100500.0</td>\n",
       "      <td>unknown</td>\n",
       "      <td>0.01</td>\n",
       "    </tr>\n",
       "  </tbody>\n",
       "</table>\n",
       "<p>13638 rows × 12 columns</p>\n",
       "</div>"
      ],
      "text/plain": [
       "                                name platform  year_of_release       genre  \\\n",
       "0                         Wii Sports      Wii             2006      Sports   \n",
       "1                     Mario Kart Wii      Wii             2008      Racing   \n",
       "2                  Wii Sports Resort      Wii             2009      Sports   \n",
       "3              New Super Mario Bros.       DS             2006    Platform   \n",
       "4                           Wii Play      Wii             2006        Misc   \n",
       "...                              ...      ...              ...         ...   \n",
       "13633  Samurai Warriors: Sanada Maru      PS3             2016      Action   \n",
       "13634               LMA Manager 2007     X360             2006      Sports   \n",
       "13635        Haitaka no Psychedelica      PSV             2016   Adventure   \n",
       "13636               Spirits & Spells      GBA             2003    Platform   \n",
       "13637            Winning Post 8 2016      PSV             2016  Simulation   \n",
       "\n",
       "       na_sales  eu_sales  jp_sales  other_sales  critic_score  user_score  \\\n",
       "0         41.36     28.96      3.77         8.45          76.0         8.0   \n",
       "1         15.68     12.76      3.79         3.29          82.0         8.3   \n",
       "2         15.61     10.93      3.28         2.95          80.0         8.0   \n",
       "3         11.28      9.14      6.50         2.88          89.0         8.5   \n",
       "4         13.96      9.18      2.93         2.84          58.0         6.6   \n",
       "...         ...       ...       ...          ...           ...         ...   \n",
       "13633      0.00      0.00      0.01         0.00      100500.0    100500.0   \n",
       "13634      0.00      0.01      0.00         0.00      100500.0    100500.0   \n",
       "13635      0.00      0.00      0.01         0.00      100500.0    100500.0   \n",
       "13636      0.01      0.00      0.00         0.00      100500.0    100500.0   \n",
       "13637      0.00      0.00      0.01         0.00      100500.0    100500.0   \n",
       "\n",
       "        rating  total_sales  \n",
       "0            E        74.09  \n",
       "1            E        32.23  \n",
       "2            E        29.82  \n",
       "3            E        26.92  \n",
       "4            E        26.07  \n",
       "...        ...          ...  \n",
       "13633  unknown         0.01  \n",
       "13634  unknown         0.01  \n",
       "13635  unknown         0.01  \n",
       "13636  unknown         0.01  \n",
       "13637  unknown         0.01  \n",
       "\n",
       "[13638 rows x 12 columns]"
      ]
     },
     "execution_count": 21,
     "metadata": {},
     "output_type": "execute_result"
    }
   ],
   "source": [
    "# Срез df с данными начиная с 2002 года\n",
    "df_high = df[df['year_of_release'] >= 2002].reset_index(drop = True)\n",
    "\n",
    "df_high"
   ]
  },
  {
   "cell_type": "markdown",
   "metadata": {},
   "source": [
    "Посмотрим лидерующие платформы по продажам на них игр."
   ]
  },
  {
   "cell_type": "code",
   "execution_count": 22,
   "metadata": {},
   "outputs": [
    {
     "data": {
      "text/plain": [
       "platform\n",
       "X360    876.36\n",
       "PS2     857.85\n",
       "Wii     813.47\n",
       "PS3     796.75\n",
       "DS      743.72\n",
       "PS4     265.79\n",
       "PSP     248.77\n",
       "GBA     245.58\n",
       "3DS     244.54\n",
       "XB      220.51\n",
       "PC      175.55\n",
       "GC      166.04\n",
       "XOne    145.05\n",
       "WiiU     76.24\n",
       "PSV      47.38\n",
       "PS        8.24\n",
       "DC        0.35\n",
       "N64       0.08\n",
       "Name: total_sales, dtype: float64"
      ]
     },
     "execution_count": 22,
     "metadata": {},
     "output_type": "execute_result"
    }
   ],
   "source": [
    "# Суммарное количество игр проданное на каждой платформе\n",
    "df_high.groupby('platform')['total_sales'].sum().sort_values(ascending=False)"
   ]
  },
  {
   "cell_type": "markdown",
   "metadata": {},
   "source": [
    "#### Из сммарного количества игр проданного на каждой платформе видим, что с существенным отрывом лидируют 5 платформ: X360, PS2, Wii, PS3, DS."
   ]
  },
  {
   "cell_type": "markdown",
   "metadata": {},
   "source": [
    "Напишем функцию, которая на входе будет получать данные о продаже компьютерных игр и список лидирующих платформ, а на выходе будет строить для указанных платформ распределение продаж по годам анонсирования."
   ]
  },
  {
   "cell_type": "code",
   "execution_count": 23,
   "metadata": {},
   "outputs": [],
   "source": [
    "def sales_platform_year(data, top_platform):\n",
    "    for element in top_platform:\n",
    "        \n",
    "        (\n",
    "        data[data['platform'] == element].groupby('year_of_release')['total_sales'].sum().\n",
    "        plot(grid=True, figsize=(6,4), title = 'Кол-во, продаж игр на платформе по году анонсирования игры {}, млн. шт.'.format(element))\n",
    "        )\n",
    "        \n",
    "        plt.show()"
   ]
  },
  {
   "cell_type": "markdown",
   "metadata": {},
   "source": [
    "Зададим лидирующие платформы и применим функцию sales_platform_year."
   ]
  },
  {
   "cell_type": "code",
   "execution_count": 24,
   "metadata": {},
   "outputs": [
    {
     "data": {
      "image/png": "[encoded data removed]",
      "text/plain": [
       "<Figure size 432x288 with 1 Axes>"
      ]
     },
     "metadata": {
      "needs_background": "light"
     },
     "output_type": "display_data"
    },
    {
     "data": {
      "image/png": "[encoded data removed]",
      "text/plain": [
       "<Figure size 432x288 with 1 Axes>"
      ]
     },
     "metadata": {
      "needs_background": "light"
     },
     "output_type": "display_data"
    },
    {
     "data": {
      "image/png": "[encoded data removed]",
      "text/plain": [
       "<Figure size 432x288 with 1 Axes>"
      ]
     },
     "metadata": {
      "needs_background": "light"
     },
     "output_type": "display_data"
    },
    {
     "data": {
      "image/png": "[encoded data removed]",
      "text/plain": [
       "<Figure size 432x288 with 1 Axes>"
      ]
     },
     "metadata": {
      "needs_background": "light"
     },
     "output_type": "display_data"
    },
    {
     "data": {
      "image/png": "[encoded data removed]",
      "text/plain": [
       "<Figure size 432x288 with 1 Axes>"
      ]
     },
     "metadata": {
      "needs_background": "light"
     },
     "output_type": "display_data"
    }
   ],
   "source": [
    "# Количество продаж игр на платформе по году анонсирования игры для лидирующих платформ\n",
    "# Задаем лидирующие платформы\n",
    "top_platform = ('X360', 'PS2', 'Wii', 'PS3', 'DS')\n",
    "\n",
    "sales_platform_year(df_high, top_platform)"
   ]
  },
  {
   "cell_type": "markdown",
   "metadata": {},
   "source": [
    "#### Из графиков распределения продаж по годам анонсирования можно сделать вывод, что время жизни платформы составляет около 7 лет, после чего платформа уже практически полностью уходит с рынка компьютерных игр. Вероятнее всего это связано с тем, что меняются компьютерные игры и вместе с ними меняются требования к платформам."
   ]
  },
  {
   "cell_type": "markdown",
   "metadata": {},
   "source": [
    "Посмотрим самые популярные платформы за последние 7 лет (время жизни платформы)."
   ]
  },
  {
   "cell_type": "code",
   "execution_count": 25,
   "metadata": {},
   "outputs": [
    {
     "data": {
      "text/plain": [
       "platform\n",
       "X360    503.05\n",
       "PS3     502.11\n",
       "PS4     265.79\n",
       "3DS     244.54\n",
       "Wii     204.86\n",
       "XOne    145.05\n",
       "DS      115.62\n",
       "PC      107.89\n",
       "WiiU     76.24\n",
       "PSP      59.44\n",
       "PSV      47.38\n",
       "PS2       4.79\n",
       "Name: total_sales, dtype: float64"
      ]
     },
     "execution_count": 25,
     "metadata": {},
     "output_type": "execute_result"
    }
   ],
   "source": [
    "# Считаем продажи за последние 7 лет (с 2010 года)\n",
    "df_last_7years = df[df['year_of_release'] >= 2010]\n",
    "df_last_7years.groupby('platform')['total_sales'].sum().sort_values(ascending=False)"
   ]
  },
  {
   "cell_type": "markdown",
   "metadata": {},
   "source": [
    "Построим распределение продаж по году анонсирования по самым популярным платформам за последние 7лет и посмотрим на каком этапе жизненного цикла они находятся."
   ]
  },
  {
   "cell_type": "code",
   "execution_count": 26,
   "metadata": {},
   "outputs": [
    {
     "data": {
      "image/png": "[encoded data removed]",
      "text/plain": [
       "<Figure size 432x288 with 1 Axes>"
      ]
     },
     "metadata": {
      "needs_background": "light"
     },
     "output_type": "display_data"
    },
    {
     "data": {
      "image/png": "[encoded data removed]",
      "text/plain": [
       "<Figure size 432x288 with 1 Axes>"
      ]
     },
     "metadata": {
      "needs_background": "light"
     },
     "output_type": "display_data"
    },
    {
     "data": {
      "image/png": "[encoded data removed]",
      "text/plain": [
       "<Figure size 432x288 with 1 Axes>"
      ]
     },
     "metadata": {
      "needs_background": "light"
     },
     "output_type": "display_data"
    },
    {
     "data": {
      "image/png": "[encoded data removed]",
      "text/plain": [
       "<Figure size 432x288 with 1 Axes>"
      ]
     },
     "metadata": {
      "needs_background": "light"
     },
     "output_type": "display_data"
    },
    {
     "data": {
      "image/png": "[encoded data removed]",
      "text/plain": [
       "<Figure size 432x288 with 1 Axes>"
      ]
     },
     "metadata": {
      "needs_background": "light"
     },
     "output_type": "display_data"
    },
    {
     "data": {
      "image/png": "[encoded data removed]",
      "text/plain": [
       "<Figure size 432x288 with 1 Axes>"
      ]
     },
     "metadata": {
      "needs_background": "light"
     },
     "output_type": "display_data"
    }
   ],
   "source": [
    "# Количество продаж игр на платформе по году анонсирования игры для лидирующих платформ\n",
    "# Задаем лидирующие платформы\n",
    "top_platform = ('X360', 'PS3', 'PS4', '3DS', 'Wii', 'XOne')\n",
    "\n",
    "sales_platform_year(df_high, top_platform)"
   ]
  },
  {
   "cell_type": "markdown",
   "metadata": {},
   "source": [
    "#### Как и следовало ожидать, лидирующие по прадажам платформы за последние 7 лет (срок жизни платформы) уже отжили свое и полностью или практически полностью ушли с рынка компьютерных игр и не представляют никакого интереса на будущие года."
   ]
  },
  {
   "cell_type": "markdown",
   "metadata": {},
   "source": [
    "Посмотрим самые популярные платформы для игр анонсированных в 2015 и 2016 году. Берем последние два года, т.к. в 2016 году может продаваться игра с высокой популярностью анонсированная в 2015 году. "
   ]
  },
  {
   "cell_type": "code",
   "execution_count": 27,
   "metadata": {},
   "outputs": [
    {
     "data": {
      "text/plain": [
       "platform\n",
       "PS4     159.45\n",
       "XOne     78.58\n",
       "3DS      41.25\n",
       "WiiU     19.47\n",
       "PS3      17.93\n",
       "PC       12.82\n",
       "X360     12.26\n",
       "PSV      10.03\n",
       "Wii       1.22\n",
       "PSP       0.12\n",
       "Name: total_sales, dtype: float64"
      ]
     },
     "execution_count": 27,
     "metadata": {},
     "output_type": "execute_result"
    }
   ],
   "source": [
    "# Считаем продажи по платформам в 2015 и 2016 году\n",
    "df[df['year_of_release'] >= 2015].groupby('platform')['total_sales'].sum().sort_values(ascending=False)"
   ]
  },
  {
   "cell_type": "markdown",
   "metadata": {},
   "source": [
    "#### Стоит отметить, что на будущий 2017 год, исходя из срока жизни платформы (7 лет), наиболее перспективными платформами останутся лидеры 2015 и 2016 года, а именно: PS4, XOne и 3DS. Также стоит отметить, что несмотря на лидирующие позиции за 2015 и 2016 год все они находятся в конце своего жизненного цикла."
   ]
  },
  {
   "cell_type": "markdown",
   "metadata": {},
   "source": [
    "Построим график «ящик с усами» по глобальным продажам игр в разбивке по наиболее перспективным платформам: PS4, XOne и 3DS. За последние 7 лет(срок жизни платформы). "
   ]
  },
  {
   "cell_type": "code",
   "execution_count": 28,
   "metadata": {},
   "outputs": [
    {
     "name": "stderr",
     "output_type": "stream",
     "text": [
      "/opt/conda/lib/python3.7/site-packages/numpy/core/_asarray.py:83: VisibleDeprecationWarning: Creating an ndarray from ragged nested sequences (which is a list-or-tuple of lists-or-tuples-or ndarrays with different lengths or shapes) is deprecated. If you meant to do this, you must specify 'dtype=object' when creating the ndarray\n",
      "  return array(a, dtype, copy=False, order=order)\n"
     ]
    },
    {
     "data": {
      "image/png": "[encoded data removed]",
      "text/plain": [
       "<Figure size 432x288 with 1 Axes>"
      ]
     },
     "metadata": {
      "needs_background": "light"
     },
     "output_type": "display_data"
    }
   ],
   "source": [
    "# Ящик с усами для платформы PS4 по глобальным продажам по наименованиям игр в разрезе года. \n",
    "df_last_7years[df_last_7years['platform'] == 'PS4'].boxplot(column='total_sales', by = 'year_of_release')\n",
    "\n",
    "plt.ylim(0, 2)\n",
    "plt.show()"
   ]
  },
  {
   "cell_type": "code",
   "execution_count": 29,
   "metadata": {
    "scrolled": false
   },
   "outputs": [
    {
     "name": "stderr",
     "output_type": "stream",
     "text": [
      "/opt/conda/lib/python3.7/site-packages/numpy/core/_asarray.py:83: VisibleDeprecationWarning: Creating an ndarray from ragged nested sequences (which is a list-or-tuple of lists-or-tuples-or ndarrays with different lengths or shapes) is deprecated. If you meant to do this, you must specify 'dtype=object' when creating the ndarray\n",
      "  return array(a, dtype, copy=False, order=order)\n"
     ]
    },
    {
     "data": {
      "image/png": "[encoded data removed]",
      "text/plain": [
       "<Figure size 432x288 with 1 Axes>"
      ]
     },
     "metadata": {
      "needs_background": "light"
     },
     "output_type": "display_data"
    }
   ],
   "source": [
    "# Ящик с усами для платформы XOne по глобальным продажам по наименованиям игр в разрезе года. \n",
    "df_last_7years[df_last_7years['platform'] == 'XOne'].boxplot(column='total_sales', by = 'year_of_release')\n",
    "\n",
    "plt.ylim(0, 2)\n",
    "plt.show()"
   ]
  },
  {
   "cell_type": "code",
   "execution_count": 30,
   "metadata": {
    "scrolled": false
   },
   "outputs": [
    {
     "name": "stderr",
     "output_type": "stream",
     "text": [
      "/opt/conda/lib/python3.7/site-packages/numpy/core/_asarray.py:83: VisibleDeprecationWarning: Creating an ndarray from ragged nested sequences (which is a list-or-tuple of lists-or-tuples-or ndarrays with different lengths or shapes) is deprecated. If you meant to do this, you must specify 'dtype=object' when creating the ndarray\n",
      "  return array(a, dtype, copy=False, order=order)\n"
     ]
    },
    {
     "data": {
      "image/png": "[encoded data removed]",
      "text/plain": [
       "<Figure size 432x288 with 1 Axes>"
      ]
     },
     "metadata": {
      "needs_background": "light"
     },
     "output_type": "display_data"
    }
   ],
   "source": [
    "# Ящик с усами для платформы 3DS по глобальным продажам по наименованиям игр в разрезе года. \n",
    "df_last_7years[df_last_7years['platform'] == '3DS'].boxplot(column='total_sales', by = 'year_of_release')\n",
    "\n",
    "plt.ylim(0, 0.5)\n",
    "plt.show()"
   ]
  },
  {
   "cell_type": "markdown",
   "metadata": {},
   "source": [
    "#### Стоит отметить, что наиболее перспективные на 2017 год платформы (PS4, XOne и 3DS) имели очень резкий старт продаж. Фактически эти платформы набирали максимальный объем продаж уже в первый год. Скорее всего это говорит о тесной связи между собой производителей платформ и производителей компьютерных игр. Возможно даже выход новой игры и новой платформы происходят одновременно. Кроме того, это говорит о том, что возможно в 2017 гуду выйдет новая платформа, и тогда те платформы, которые мы определили как наиболее перспективные не будут являться таковыми. "
   ]
  },
  {
   "cell_type": "markdown",
   "metadata": {},
   "source": [
    "Посмотрим, как влияют на продажи внутри одной популярной платформы (PS4) отзывы пользователей и критиков. Построим диаграмму рассеяния и посчитаем корреляцию между отзывами и продажами. "
   ]
  },
  {
   "cell_type": "code",
   "execution_count": 31,
   "metadata": {},
   "outputs": [
    {
     "data": {
      "text/html": [
       "<div>\n",
       "<style scoped>\n",
       "    .dataframe tbody tr th:only-of-type {\n",
       "        vertical-align: middle;\n",
       "    }\n",
       "\n",
       "    .dataframe tbody tr th {\n",
       "        vertical-align: top;\n",
       "    }\n",
       "\n",
       "    .dataframe thead th {\n",
       "        text-align: right;\n",
       "    }\n",
       "</style>\n",
       "<table border=\"1\" class=\"dataframe\">\n",
       "  <thead>\n",
       "    <tr style=\"text-align: right;\">\n",
       "      <th></th>\n",
       "      <th>name</th>\n",
       "      <th>platform</th>\n",
       "      <th>year_of_release</th>\n",
       "      <th>genre</th>\n",
       "      <th>na_sales</th>\n",
       "      <th>eu_sales</th>\n",
       "      <th>jp_sales</th>\n",
       "      <th>other_sales</th>\n",
       "      <th>critic_score</th>\n",
       "      <th>user_score</th>\n",
       "      <th>rating</th>\n",
       "      <th>total_sales</th>\n",
       "    </tr>\n",
       "  </thead>\n",
       "  <tbody>\n",
       "    <tr>\n",
       "      <td>31</td>\n",
       "      <td>Call of Duty: Black Ops 3</td>\n",
       "      <td>PS4</td>\n",
       "      <td>2015</td>\n",
       "      <td>Shooter</td>\n",
       "      <td>6.03</td>\n",
       "      <td>5.86</td>\n",
       "      <td>0.36</td>\n",
       "      <td>2.38</td>\n",
       "      <td>100500.0</td>\n",
       "      <td>100500.0</td>\n",
       "      <td>unknown</td>\n",
       "      <td>12.25</td>\n",
       "    </tr>\n",
       "    <tr>\n",
       "      <td>42</td>\n",
       "      <td>Grand Theft Auto V</td>\n",
       "      <td>PS4</td>\n",
       "      <td>2014</td>\n",
       "      <td>Action</td>\n",
       "      <td>3.96</td>\n",
       "      <td>6.31</td>\n",
       "      <td>0.38</td>\n",
       "      <td>1.97</td>\n",
       "      <td>97.0</td>\n",
       "      <td>8.3</td>\n",
       "      <td>M</td>\n",
       "      <td>10.65</td>\n",
       "    </tr>\n",
       "    <tr>\n",
       "      <td>77</td>\n",
       "      <td>FIFA 16</td>\n",
       "      <td>PS4</td>\n",
       "      <td>2015</td>\n",
       "      <td>Sports</td>\n",
       "      <td>1.12</td>\n",
       "      <td>6.12</td>\n",
       "      <td>0.06</td>\n",
       "      <td>1.28</td>\n",
       "      <td>82.0</td>\n",
       "      <td>4.3</td>\n",
       "      <td>E</td>\n",
       "      <td>7.30</td>\n",
       "    </tr>\n",
       "    <tr>\n",
       "      <td>87</td>\n",
       "      <td>Star Wars Battlefront (2015)</td>\n",
       "      <td>PS4</td>\n",
       "      <td>2015</td>\n",
       "      <td>Shooter</td>\n",
       "      <td>2.99</td>\n",
       "      <td>3.49</td>\n",
       "      <td>0.22</td>\n",
       "      <td>1.28</td>\n",
       "      <td>100500.0</td>\n",
       "      <td>100500.0</td>\n",
       "      <td>unknown</td>\n",
       "      <td>6.70</td>\n",
       "    </tr>\n",
       "    <tr>\n",
       "      <td>92</td>\n",
       "      <td>Call of Duty: Advanced Warfare</td>\n",
       "      <td>PS4</td>\n",
       "      <td>2014</td>\n",
       "      <td>Shooter</td>\n",
       "      <td>2.81</td>\n",
       "      <td>3.48</td>\n",
       "      <td>0.14</td>\n",
       "      <td>1.23</td>\n",
       "      <td>83.0</td>\n",
       "      <td>5.7</td>\n",
       "      <td>M</td>\n",
       "      <td>6.43</td>\n",
       "    </tr>\n",
       "    <tr>\n",
       "      <td>...</td>\n",
       "      <td>...</td>\n",
       "      <td>...</td>\n",
       "      <td>...</td>\n",
       "      <td>...</td>\n",
       "      <td>...</td>\n",
       "      <td>...</td>\n",
       "      <td>...</td>\n",
       "      <td>...</td>\n",
       "      <td>...</td>\n",
       "      <td>...</td>\n",
       "      <td>...</td>\n",
       "      <td>...</td>\n",
       "    </tr>\n",
       "    <tr>\n",
       "      <td>16500</td>\n",
       "      <td>Root Letter</td>\n",
       "      <td>PS4</td>\n",
       "      <td>2016</td>\n",
       "      <td>Adventure</td>\n",
       "      <td>0.00</td>\n",
       "      <td>0.00</td>\n",
       "      <td>0.01</td>\n",
       "      <td>0.00</td>\n",
       "      <td>69.0</td>\n",
       "      <td>7.5</td>\n",
       "      <td>unknown</td>\n",
       "      <td>0.01</td>\n",
       "    </tr>\n",
       "    <tr>\n",
       "      <td>16503</td>\n",
       "      <td>Shin Hayarigami 2</td>\n",
       "      <td>PS4</td>\n",
       "      <td>2016</td>\n",
       "      <td>Adventure</td>\n",
       "      <td>0.00</td>\n",
       "      <td>0.00</td>\n",
       "      <td>0.01</td>\n",
       "      <td>0.00</td>\n",
       "      <td>100500.0</td>\n",
       "      <td>100500.0</td>\n",
       "      <td>unknown</td>\n",
       "      <td>0.01</td>\n",
       "    </tr>\n",
       "    <tr>\n",
       "      <td>16526</td>\n",
       "      <td>Dungeons 2</td>\n",
       "      <td>PS4</td>\n",
       "      <td>2016</td>\n",
       "      <td>Role-Playing</td>\n",
       "      <td>0.01</td>\n",
       "      <td>0.00</td>\n",
       "      <td>0.00</td>\n",
       "      <td>0.00</td>\n",
       "      <td>61.0</td>\n",
       "      <td>7.9</td>\n",
       "      <td>T</td>\n",
       "      <td>0.01</td>\n",
       "    </tr>\n",
       "    <tr>\n",
       "      <td>16530</td>\n",
       "      <td>Carmageddon: Max Damage</td>\n",
       "      <td>PS4</td>\n",
       "      <td>2016</td>\n",
       "      <td>Action</td>\n",
       "      <td>0.01</td>\n",
       "      <td>0.00</td>\n",
       "      <td>0.00</td>\n",
       "      <td>0.00</td>\n",
       "      <td>51.0</td>\n",
       "      <td>5.5</td>\n",
       "      <td>M</td>\n",
       "      <td>0.01</td>\n",
       "    </tr>\n",
       "    <tr>\n",
       "      <td>16585</td>\n",
       "      <td>Farming 2017 - The Simulation</td>\n",
       "      <td>PS4</td>\n",
       "      <td>2016</td>\n",
       "      <td>Simulation</td>\n",
       "      <td>0.00</td>\n",
       "      <td>0.01</td>\n",
       "      <td>0.00</td>\n",
       "      <td>0.00</td>\n",
       "      <td>100500.0</td>\n",
       "      <td>100500.0</td>\n",
       "      <td>unknown</td>\n",
       "      <td>0.01</td>\n",
       "    </tr>\n",
       "  </tbody>\n",
       "</table>\n",
       "<p>392 rows × 12 columns</p>\n",
       "</div>"
      ],
      "text/plain": [
       "                                 name platform  year_of_release         genre  \\\n",
       "31          Call of Duty: Black Ops 3      PS4             2015       Shooter   \n",
       "42                 Grand Theft Auto V      PS4             2014        Action   \n",
       "77                            FIFA 16      PS4             2015        Sports   \n",
       "87       Star Wars Battlefront (2015)      PS4             2015       Shooter   \n",
       "92     Call of Duty: Advanced Warfare      PS4             2014       Shooter   \n",
       "...                               ...      ...              ...           ...   \n",
       "16500                     Root Letter      PS4             2016     Adventure   \n",
       "16503               Shin Hayarigami 2      PS4             2016     Adventure   \n",
       "16526                      Dungeons 2      PS4             2016  Role-Playing   \n",
       "16530         Carmageddon: Max Damage      PS4             2016        Action   \n",
       "16585   Farming 2017 - The Simulation      PS4             2016    Simulation   \n",
       "\n",
       "       na_sales  eu_sales  jp_sales  other_sales  critic_score  user_score  \\\n",
       "31         6.03      5.86      0.36         2.38      100500.0    100500.0   \n",
       "42         3.96      6.31      0.38         1.97          97.0         8.3   \n",
       "77         1.12      6.12      0.06         1.28          82.0         4.3   \n",
       "87         2.99      3.49      0.22         1.28      100500.0    100500.0   \n",
       "92         2.81      3.48      0.14         1.23          83.0         5.7   \n",
       "...         ...       ...       ...          ...           ...         ...   \n",
       "16500      0.00      0.00      0.01         0.00          69.0         7.5   \n",
       "16503      0.00      0.00      0.01         0.00      100500.0    100500.0   \n",
       "16526      0.01      0.00      0.00         0.00          61.0         7.9   \n",
       "16530      0.01      0.00      0.00         0.00          51.0         5.5   \n",
       "16585      0.00      0.01      0.00         0.00      100500.0    100500.0   \n",
       "\n",
       "        rating  total_sales  \n",
       "31     unknown        12.25  \n",
       "42           M        10.65  \n",
       "77           E         7.30  \n",
       "87     unknown         6.70  \n",
       "92           M         6.43  \n",
       "...        ...          ...  \n",
       "16500  unknown         0.01  \n",
       "16503  unknown         0.01  \n",
       "16526        T         0.01  \n",
       "16530        M         0.01  \n",
       "16585  unknown         0.01  \n",
       "\n",
       "[392 rows x 12 columns]"
      ]
     },
     "execution_count": 31,
     "metadata": {},
     "output_type": "execute_result"
    }
   ],
   "source": [
    "# Отбираем данные для платформы PS4\n",
    "df_ps4 = df[df['platform'] == 'PS4']\n",
    "\n",
    "df_ps4"
   ]
  },
  {
   "cell_type": "markdown",
   "metadata": {},
   "source": [
    "Отзывы пользователей. Предворительно убираем те строки которые мы заполнили рейтингом 100500"
   ]
  },
  {
   "cell_type": "code",
   "execution_count": 32,
   "metadata": {},
   "outputs": [
    {
     "data": {
      "image/png": "[encoded data removed]",
      "text/plain": [
       "<Figure size 720x432 with 1 Axes>"
      ]
     },
     "metadata": {
      "needs_background": "light"
     },
     "output_type": "display_data"
    },
    {
     "data": {
      "text/plain": [
       "-0.12944771415841666"
      ]
     },
     "execution_count": 32,
     "metadata": {},
     "output_type": "execute_result"
    }
   ],
   "source": [
    "# Диаграмма рассеяния user_score от total_sales\n",
    "df_ps4[df_ps4['user_score'] != 100500].plot(x='total_sales', y='user_score', kind='scatter', figsize=(10, 6), alpha=0.4)\n",
    "plt.show()\n",
    "\n",
    "# К-т корреляции между user_score и total_sales\n",
    "df_ps4['total_sales'].corr(df_ps4['user_score'])"
   ]
  },
  {
   "cell_type": "markdown",
   "metadata": {},
   "source": [
    "#### Из диаграммы рассеяния и корелляции -0,13 видим, что связь между оценкой пользователей и продажами компьютерной игры практически полностью отсутствует."
   ]
  },
  {
   "cell_type": "markdown",
   "metadata": {},
   "source": [
    "Отзывы критиков. Предворительно убираем те строки которые мы заполнили рейтингом 100500"
   ]
  },
  {
   "cell_type": "code",
   "execution_count": 33,
   "metadata": {},
   "outputs": [
    {
     "data": {
      "image/png": "[encoded data removed]",
      "text/plain": [
       "<Figure size 720x432 with 1 Axes>"
      ]
     },
     "metadata": {
      "needs_background": "light"
     },
     "output_type": "display_data"
    },
    {
     "data": {
      "text/plain": [
       "-0.14018031777625042"
      ]
     },
     "execution_count": 33,
     "metadata": {},
     "output_type": "execute_result"
    }
   ],
   "source": [
    "# Диаграмма рассеяния critic_score от total_sales\n",
    "df_ps4[df_ps4['critic_score'] != 100500].plot(x='total_sales', y='critic_score', kind='scatter', figsize=(10, 6), alpha=0.4)\n",
    "plt.show()\n",
    "\n",
    "# К-т корреляции между critic_score и total_sales\n",
    "df_ps4['total_sales'].corr(df_ps4['critic_score'])"
   ]
  },
  {
   "cell_type": "markdown",
   "metadata": {},
   "source": [
    "#### Из диаграммы рассеяния и корелляции -0,14 видим, что связь между оценкой критиков и продажами компьютерной игры практически полностью отсутствует.¶"
   ]
  },
  {
   "cell_type": "markdown",
   "metadata": {},
   "source": [
    "#### Стоит заметить, что отсутствие связи продаж компьютерных игр с оценкой пользователей и критиков может быть распрастранено на все платформы."
   ]
  },
  {
   "cell_type": "markdown",
   "metadata": {},
   "source": [
    "Посмотрим на общее распределение анонсированных игр по жанрам, а также продажи игр по жанрам за последние 7 лет. "
   ]
  },
  {
   "cell_type": "code",
   "execution_count": 34,
   "metadata": {
    "scrolled": false
   },
   "outputs": [
    {
     "data": {
      "text/html": [
       "<div>\n",
       "<style scoped>\n",
       "    .dataframe tbody tr th:only-of-type {\n",
       "        vertical-align: middle;\n",
       "    }\n",
       "\n",
       "    .dataframe tbody tr th {\n",
       "        vertical-align: top;\n",
       "    }\n",
       "\n",
       "    .dataframe thead th {\n",
       "        text-align: right;\n",
       "    }\n",
       "</style>\n",
       "<table border=\"1\" class=\"dataframe\">\n",
       "  <thead>\n",
       "    <tr style=\"text-align: right;\">\n",
       "      <th></th>\n",
       "      <th>count_games</th>\n",
       "      <th>share</th>\n",
       "    </tr>\n",
       "    <tr>\n",
       "      <th>genre</th>\n",
       "      <th></th>\n",
       "      <th></th>\n",
       "    </tr>\n",
       "  </thead>\n",
       "  <tbody>\n",
       "    <tr>\n",
       "      <td>Action</td>\n",
       "      <td>1495</td>\n",
       "      <td>0.283305</td>\n",
       "    </tr>\n",
       "    <tr>\n",
       "      <td>Misc</td>\n",
       "      <td>576</td>\n",
       "      <td>0.109153</td>\n",
       "    </tr>\n",
       "    <tr>\n",
       "      <td>Sports</td>\n",
       "      <td>575</td>\n",
       "      <td>0.108963</td>\n",
       "    </tr>\n",
       "    <tr>\n",
       "      <td>Role-Playing</td>\n",
       "      <td>568</td>\n",
       "      <td>0.107637</td>\n",
       "    </tr>\n",
       "    <tr>\n",
       "      <td>Adventure</td>\n",
       "      <td>563</td>\n",
       "      <td>0.106689</td>\n",
       "    </tr>\n",
       "    <tr>\n",
       "      <td>Shooter</td>\n",
       "      <td>410</td>\n",
       "      <td>0.077696</td>\n",
       "    </tr>\n",
       "    <tr>\n",
       "      <td>Racing</td>\n",
       "      <td>237</td>\n",
       "      <td>0.044912</td>\n",
       "    </tr>\n",
       "    <tr>\n",
       "      <td>Simulation</td>\n",
       "      <td>217</td>\n",
       "      <td>0.041122</td>\n",
       "    </tr>\n",
       "    <tr>\n",
       "      <td>Fighting</td>\n",
       "      <td>199</td>\n",
       "      <td>0.037711</td>\n",
       "    </tr>\n",
       "    <tr>\n",
       "      <td>Strategy</td>\n",
       "      <td>170</td>\n",
       "      <td>0.032215</td>\n",
       "    </tr>\n",
       "    <tr>\n",
       "      <td>Platform</td>\n",
       "      <td>153</td>\n",
       "      <td>0.028994</td>\n",
       "    </tr>\n",
       "    <tr>\n",
       "      <td>Puzzle</td>\n",
       "      <td>114</td>\n",
       "      <td>0.021603</td>\n",
       "    </tr>\n",
       "  </tbody>\n",
       "</table>\n",
       "</div>"
      ],
      "text/plain": [
       "              count_games     share\n",
       "genre                              \n",
       "Action               1495  0.283305\n",
       "Misc                  576  0.109153\n",
       "Sports                575  0.108963\n",
       "Role-Playing          568  0.107637\n",
       "Adventure             563  0.106689\n",
       "Shooter               410  0.077696\n",
       "Racing                237  0.044912\n",
       "Simulation            217  0.041122\n",
       "Fighting              199  0.037711\n",
       "Strategy              170  0.032215\n",
       "Platform              153  0.028994\n",
       "Puzzle                114  0.021603"
      ]
     },
     "execution_count": 34,
     "metadata": {},
     "output_type": "execute_result"
    }
   ],
   "source": [
    "# Подсчет количества игр по жанрам за последние 7 лет и расчет доли игр каждого жанра\n",
    "df_last_7years_genre_count = df_last_7years.groupby('genre').agg({'name':['count']})\n",
    "\n",
    "# Переименовывание колонки\n",
    "df_last_7years_genre_count.columns = ['count_games']\n",
    "\n",
    "# Доля игр каждого жанра\n",
    "df_last_7years_genre_count['share'] = df_last_7years_genre_count['count_games']/(df_last_7years_genre_count['count_games'].sum())\n",
    "\n",
    "# Сортировка по доли\n",
    "df_last_7years_genre_count.sort_values(by = 'share', ascending=False)"
   ]
  },
  {
   "cell_type": "code",
   "execution_count": 35,
   "metadata": {},
   "outputs": [
    {
     "data": {
      "text/html": [
       "<div>\n",
       "<style scoped>\n",
       "    .dataframe tbody tr th:only-of-type {\n",
       "        vertical-align: middle;\n",
       "    }\n",
       "\n",
       "    .dataframe tbody tr th {\n",
       "        vertical-align: top;\n",
       "    }\n",
       "\n",
       "    .dataframe thead th {\n",
       "        text-align: right;\n",
       "    }\n",
       "</style>\n",
       "<table border=\"1\" class=\"dataframe\">\n",
       "  <thead>\n",
       "    <tr style=\"text-align: right;\">\n",
       "      <th></th>\n",
       "      <th>total_sales</th>\n",
       "      <th>share</th>\n",
       "    </tr>\n",
       "    <tr>\n",
       "      <th>genre</th>\n",
       "      <th></th>\n",
       "      <th></th>\n",
       "    </tr>\n",
       "  </thead>\n",
       "  <tbody>\n",
       "    <tr>\n",
       "      <td>Action</td>\n",
       "      <td>596.47</td>\n",
       "      <td>0.261982</td>\n",
       "    </tr>\n",
       "    <tr>\n",
       "      <td>Shooter</td>\n",
       "      <td>422.96</td>\n",
       "      <td>0.185773</td>\n",
       "    </tr>\n",
       "    <tr>\n",
       "      <td>Role-Playing</td>\n",
       "      <td>291.07</td>\n",
       "      <td>0.127844</td>\n",
       "    </tr>\n",
       "    <tr>\n",
       "      <td>Sports</td>\n",
       "      <td>289.16</td>\n",
       "      <td>0.127005</td>\n",
       "    </tr>\n",
       "    <tr>\n",
       "      <td>Misc</td>\n",
       "      <td>214.18</td>\n",
       "      <td>0.094072</td>\n",
       "    </tr>\n",
       "    <tr>\n",
       "      <td>Platform</td>\n",
       "      <td>109.01</td>\n",
       "      <td>0.047879</td>\n",
       "    </tr>\n",
       "    <tr>\n",
       "      <td>Racing</td>\n",
       "      <td>107.54</td>\n",
       "      <td>0.047234</td>\n",
       "    </tr>\n",
       "    <tr>\n",
       "      <td>Fighting</td>\n",
       "      <td>73.28</td>\n",
       "      <td>0.032186</td>\n",
       "    </tr>\n",
       "    <tr>\n",
       "      <td>Simulation</td>\n",
       "      <td>66.08</td>\n",
       "      <td>0.029024</td>\n",
       "    </tr>\n",
       "    <tr>\n",
       "      <td>Adventure</td>\n",
       "      <td>55.39</td>\n",
       "      <td>0.024328</td>\n",
       "    </tr>\n",
       "    <tr>\n",
       "      <td>Strategy</td>\n",
       "      <td>32.54</td>\n",
       "      <td>0.014292</td>\n",
       "    </tr>\n",
       "    <tr>\n",
       "      <td>Puzzle</td>\n",
       "      <td>19.08</td>\n",
       "      <td>0.008380</td>\n",
       "    </tr>\n",
       "  </tbody>\n",
       "</table>\n",
       "</div>"
      ],
      "text/plain": [
       "              total_sales     share\n",
       "genre                              \n",
       "Action             596.47  0.261982\n",
       "Shooter            422.96  0.185773\n",
       "Role-Playing       291.07  0.127844\n",
       "Sports             289.16  0.127005\n",
       "Misc               214.18  0.094072\n",
       "Platform           109.01  0.047879\n",
       "Racing             107.54  0.047234\n",
       "Fighting            73.28  0.032186\n",
       "Simulation          66.08  0.029024\n",
       "Adventure           55.39  0.024328\n",
       "Strategy            32.54  0.014292\n",
       "Puzzle              19.08  0.008380"
      ]
     },
     "execution_count": 35,
     "metadata": {},
     "output_type": "execute_result"
    }
   ],
   "source": [
    "# Подсчет общих продаж по жанрам за последние 7 лет и расчет доли продаж каждого жанра\n",
    "df_last_7years_genre_sales = df_last_7years.groupby('genre').agg({'total_sales':['sum']})\n",
    "\n",
    "# Переименовывание колонки\n",
    "df_last_7years_genre_sales.columns = ['total_sales']\n",
    "\n",
    "# Доля одщих продаж каждого жанра\n",
    "df_last_7years_genre_sales['share'] = df_last_7years_genre_sales['total_sales']/(df_last_7years_genre_sales['total_sales'].sum())\n",
    "\n",
    "# Сортировка по доли\n",
    "df_last_7years_genre_sales.sort_values(by = 'share', ascending=False)"
   ]
  },
  {
   "cell_type": "markdown",
   "metadata": {},
   "source": [
    "#### TOP-5 самых продающихся жанров за последние 7 лет(с 2010):\n",
    "* Action - 26.2% всех продаж\n",
    "* Shooter - 18.6% всех продаж\n",
    "* Role-Playing - 12.8% всех продаж\n",
    "* Sports - 12.7% всех продаж\n",
    "* Misc - 9.4% всех продаж\n",
    "#### При этом, для указанных жанров, доля общих продаж очень близка к доле количества онансированных игр.  \n",
    "\n",
    "#### Стоит обратить внимание на жанры Adventure и Shooter:\n",
    "* Adventure - в этом жанре было анонсировано 10.7% всех игр, в то время как доля продаж составила 2.4%\n",
    "* Shooter - в этом жанре было анонсировано 7.8% всех игр, в то время как доля продаж составила 18.5%"
   ]
  },
  {
   "cell_type": "markdown",
   "metadata": {},
   "source": [
    "Найдем самые популярные платформы (топ-5) для каждого региона (NA, EU, JP) за 2015 и 2016 год.  "
   ]
  },
  {
   "cell_type": "code",
   "execution_count": 36,
   "metadata": {},
   "outputs": [
    {
     "name": "stdout",
     "output_type": "stream",
     "text": [
      "TOP-5 платформ в регионе NA по продажам игр, млн.шт.\n"
     ]
    },
    {
     "data": {
      "text/plain": [
       "platform\n",
       "PS4     63.86\n",
       "XOne    50.30\n",
       "3DS     10.31\n",
       "WiiU     8.86\n",
       "X360     8.05\n",
       "Name: na_sales, dtype: float64"
      ]
     },
     "execution_count": 36,
     "metadata": {},
     "output_type": "execute_result"
    }
   ],
   "source": [
    "print('TOP-5 платформ в регионе NA по продажам игр, млн.шт.')\n",
    "\n",
    "# Считаем продажи по платформам в 2015 и 2016 году в регионе NA\n",
    "df[df['year_of_release'] >= 2015].groupby('platform')['na_sales'].sum().sort_values(ascending=False).head(5)"
   ]
  },
  {
   "cell_type": "code",
   "execution_count": 37,
   "metadata": {},
   "outputs": [
    {
     "name": "stdout",
     "output_type": "stream",
     "text": [
      "TOP-5 платформ в регионе EU по продажам игр, млн.шт.\n"
     ]
    },
    {
     "data": {
      "text/plain": [
       "platform\n",
       "PS4     83.54\n",
       "XOne    28.10\n",
       "PC       9.10\n",
       "3DS      7.39\n",
       "PS3      7.30\n",
       "Name: eu_sales, dtype: float64"
      ]
     },
     "execution_count": 37,
     "metadata": {},
     "output_type": "execute_result"
    }
   ],
   "source": [
    "print('TOP-5 платформ в регионе EU по продажам игр, млн.шт.')\n",
    "\n",
    "# Считаем продажи по платформам в 2015 и 2016 году в регионе EU\n",
    "df[df['year_of_release'] >= 2015].groupby('platform')['eu_sales'].sum().sort_values(ascending=False).head(5)"
   ]
  },
  {
   "cell_type": "code",
   "execution_count": 38,
   "metadata": {},
   "outputs": [
    {
     "name": "stdout",
     "output_type": "stream",
     "text": [
      "TOP-5 платформ в регионе JP по продажам игр, млн.шт.\n"
     ]
    },
    {
     "data": {
      "text/plain": [
       "platform\n",
       "3DS     23.55\n",
       "PS4     12.05\n",
       "PSV      8.41\n",
       "PS3      4.97\n",
       "WiiU     4.12\n",
       "Name: jp_sales, dtype: float64"
      ]
     },
     "execution_count": 38,
     "metadata": {},
     "output_type": "execute_result"
    }
   ],
   "source": [
    "print('TOP-5 платформ в регионе JP по продажам игр, млн.шт.')\n",
    "\n",
    "# Считаем продажи по платформам в 2015 и 2016 году в регионе JP\n",
    "df[df['year_of_release'] >= 2015].groupby('platform')['jp_sales'].sum().sort_values(ascending=False).head(5)"
   ]
  },
  {
   "cell_type": "markdown",
   "metadata": {},
   "source": [
    "#### Топ-5 платформ по продажам игр за 2015 и 2016 год отличаются в зависимости от региона. Так в регионе NA лидируют платформы (PS4, XOne, 3DS, WiiU, X360), в регионе EU лидируют (PS4, XOne, PC, 3DS, PS3), а в регионе JP лидируют (3DS, PS4, PSV, PS3, WiiU)."
   ]
  },
  {
   "cell_type": "markdown",
   "metadata": {},
   "source": [
    "Найдем самые популярные жанры (топ-5) для каждого региона (NA, EU, JP) за 2015 и 2016 год."
   ]
  },
  {
   "cell_type": "code",
   "execution_count": 39,
   "metadata": {},
   "outputs": [
    {
     "name": "stdout",
     "output_type": "stream",
     "text": [
      "TOP-5 жанров в регионе NA по продажам игр, млн.шт.\n"
     ]
    },
    {
     "data": {
      "text/plain": [
       "genre\n",
       "Shooter         48.18\n",
       "Action          33.68\n",
       "Sports          26.31\n",
       "Role-Playing    19.82\n",
       "Misc             5.58\n",
       "Name: na_sales, dtype: float64"
      ]
     },
     "execution_count": 39,
     "metadata": {},
     "output_type": "execute_result"
    }
   ],
   "source": [
    "print('TOP-5 жанров в регионе NA по продажам игр, млн.шт.')\n",
    "\n",
    "# Считаем продажи по жанрам в 2015 и 2016 году в регионе NA\n",
    "df[df['year_of_release'] >= 2015].groupby('genre')['na_sales'].sum().sort_values(ascending=False).head(5)"
   ]
  },
  {
   "cell_type": "code",
   "execution_count": 40,
   "metadata": {},
   "outputs": [
    {
     "name": "stdout",
     "output_type": "stream",
     "text": [
      "TOP-5 жанров в регионе EU по продажам игр, млн.шт.\n"
     ]
    },
    {
     "data": {
      "text/plain": [
       "genre\n",
       "Shooter         40.28\n",
       "Action          34.82\n",
       "Sports          27.82\n",
       "Role-Playing    17.21\n",
       "Racing           6.52\n",
       "Name: eu_sales, dtype: float64"
      ]
     },
     "execution_count": 40,
     "metadata": {},
     "output_type": "execute_result"
    }
   ],
   "source": [
    "print('TOP-5 жанров в регионе EU по продажам игр, млн.шт.')\n",
    "\n",
    "# Считаем продажи по жанрам в 2015 и 2016 году в регионе EU\n",
    "df[df['year_of_release'] >= 2015].groupby('genre')['eu_sales'].sum().sort_values(ascending=False).head(5)"
   ]
  },
  {
   "cell_type": "code",
   "execution_count": 41,
   "metadata": {},
   "outputs": [
    {
     "name": "stdout",
     "output_type": "stream",
     "text": [
      "TOP-5 жанров в регионе JP по продажам игр, млн.шт.\n"
     ]
    },
    {
     "data": {
      "text/plain": [
       "genre\n",
       "Action          23.05\n",
       "Role-Playing    13.41\n",
       "Shooter          3.79\n",
       "Misc             3.19\n",
       "Adventure        2.22\n",
       "Name: jp_sales, dtype: float64"
      ]
     },
     "execution_count": 41,
     "metadata": {},
     "output_type": "execute_result"
    }
   ],
   "source": [
    "print('TOP-5 жанров в регионе JP по продажам игр, млн.шт.')\n",
    "\n",
    "# Считаем продажи по жанрам в 2015 и 2016 году в регионе JP\n",
    "df[df['year_of_release'] >= 2015].groupby('genre')['jp_sales'].sum().sort_values(ascending=False).head(5)"
   ]
  },
  {
   "cell_type": "markdown",
   "metadata": {},
   "source": [
    "#### Топ-5 жанров по продажам игр за 2015 и 2016 год немного отличаются в зависимости от региона. Так в регионе NA лидируют жанры (Shooter, Action, Sports, Role-Playing, Misc), в регионе EU лидируют (Shooter, Action, Sports, Role-Playing, Racing), а в регионе JP лидируют (Action, Role-Playing, Shooter, Misc, Adventure)."
   ]
  },
  {
   "cell_type": "markdown",
   "metadata": {},
   "source": [
    "Посмотрим, влияет ли рейтинг ESRB на продажи игр в отдельном регионе. Для этого посмотрим ящик с усами для каждого значения рейтинга, по продажам игр в регионе за последние 7 лет."
   ]
  },
  {
   "cell_type": "code",
   "execution_count": 42,
   "metadata": {},
   "outputs": [
    {
     "name": "stderr",
     "output_type": "stream",
     "text": [
      "/opt/conda/lib/python3.7/site-packages/numpy/core/_asarray.py:83: VisibleDeprecationWarning: Creating an ndarray from ragged nested sequences (which is a list-or-tuple of lists-or-tuples-or ndarrays with different lengths or shapes) is deprecated. If you meant to do this, you must specify 'dtype=object' when creating the ndarray\n",
      "  return array(a, dtype, copy=False, order=order)\n"
     ]
    },
    {
     "data": {
      "image/png": "[encoded data removed]",
      "text/plain": [
       "<Figure size 432x288 with 1 Axes>"
      ]
     },
     "metadata": {
      "needs_background": "light"
     },
     "output_type": "display_data"
    }
   ],
   "source": [
    "# Ящик с усами для рейтинга  ESRB по региону NA. \n",
    "df_last_7years.boxplot(column='na_sales', by = 'rating')\n",
    "\n",
    "plt.ylim(0, 0.6)\n",
    "plt.show()"
   ]
  },
  {
   "cell_type": "code",
   "execution_count": 43,
   "metadata": {},
   "outputs": [
    {
     "name": "stderr",
     "output_type": "stream",
     "text": [
      "/opt/conda/lib/python3.7/site-packages/numpy/core/_asarray.py:83: VisibleDeprecationWarning: Creating an ndarray from ragged nested sequences (which is a list-or-tuple of lists-or-tuples-or ndarrays with different lengths or shapes) is deprecated. If you meant to do this, you must specify 'dtype=object' when creating the ndarray\n",
      "  return array(a, dtype, copy=False, order=order)\n"
     ]
    },
    {
     "data": {
      "image/png": "[encoded data removed]",
      "text/plain": [
       "<Figure size 432x288 with 1 Axes>"
      ]
     },
     "metadata": {
      "needs_background": "light"
     },
     "output_type": "display_data"
    }
   ],
   "source": [
    "# Ящик с усами для рейтинга  ESRB по региону EU. \n",
    "df_last_7years.boxplot(column='eu_sales', by = 'rating')\n",
    "\n",
    "plt.ylim(0, 0.6)\n",
    "plt.show()"
   ]
  },
  {
   "cell_type": "code",
   "execution_count": 44,
   "metadata": {},
   "outputs": [
    {
     "name": "stderr",
     "output_type": "stream",
     "text": [
      "/opt/conda/lib/python3.7/site-packages/numpy/core/_asarray.py:83: VisibleDeprecationWarning: Creating an ndarray from ragged nested sequences (which is a list-or-tuple of lists-or-tuples-or ndarrays with different lengths or shapes) is deprecated. If you meant to do this, you must specify 'dtype=object' when creating the ndarray\n",
      "  return array(a, dtype, copy=False, order=order)\n"
     ]
    },
    {
     "data": {
      "image/png": "[encoded data removed]",
      "text/plain": [
       "<Figure size 432x288 with 1 Axes>"
      ]
     },
     "metadata": {
      "needs_background": "light"
     },
     "output_type": "display_data"
    }
   ],
   "source": [
    "# Ящик с усами для рейтинга  ESRB по региону JP. \n",
    "df_last_7years.boxplot(column='jp_sales', by = 'rating')\n",
    "\n",
    "plt.ylim(0, 0.1)\n",
    "plt.show()"
   ]
  },
  {
   "cell_type": "markdown",
   "metadata": {},
   "source": [
    "#### Диаграммы говорят о том, что рейтинг ESRB связан с продажами в разных регионах по-разному. Например в регионе NA игры с самым высоким медианным значением продаж имеют рейтинг EC («Early childhood»), в то время как, в регионах EU и JP игры с таким рейтингом практически не продаются. В регионе JP в основном продаются игры с рейтингом M («Mature») и T («Teen»), а игры с остальныеми рейтингами практически не продаются, что сильно отличается от ситуации в регионах NA и EU.  "
   ]
  },
  {
   "cell_type": "code",
   "execution_count": 45,
   "metadata": {},
   "outputs": [
    {
     "data": {
      "text/plain": [
       "array(['Wii', 'NES', 'GB', 'DS', 'X360', 'PS3', 'PS2', 'SNES', 'GBA',\n",
       "       'PS4', '3DS', 'N64', 'PS', 'XB', 'PC', '2600', 'PSP', 'XOne',\n",
       "       'WiiU', 'GC', 'GEN', 'DC', 'PSV', 'SAT', 'SCD', 'WS', 'NG', 'TG16',\n",
       "       '3DO', 'GG', 'PCFX'], dtype=object)"
      ]
     },
     "execution_count": 45,
     "metadata": {},
     "output_type": "execute_result"
    }
   ],
   "source": [
    "df['platform'].unique()"
   ]
  },
  {
   "cell_type": "markdown",
   "metadata": {},
   "source": [
    "### Гипотеза 1\n",
    "* Нулевая гипотеза - средний пользовательский рейтинг за 2015 и 2016 годы платформ XOne и PC равны.\n",
    "* Альтернативная гипотеза - средний пользовательский рейтинг за 2015 и 2016 годы платформ XOne и PC различается."
   ]
  },
  {
   "cell_type": "code",
   "execution_count": 46,
   "metadata": {},
   "outputs": [
    {
     "name": "stdout",
     "output_type": "stream",
     "text": [
      "Средний пользовательский рейтинг платформы XOne: 6.542148760330578\n",
      "Средний пользовательский рейтинг платформы PC: 6.29642857142857\n"
     ]
    }
   ],
   "source": [
    "# Данные для оценки среднего пользовательского рейтинга платформы XOne\n",
    "df_XOne_user_score = df[(df['year_of_release'] >= 2015) & (df['platform'] == 'XOne') & (df['user_score'] != 100500)]\n",
    "\n",
    "# Данные для оценки среднего пользовательского рейтинга платформы PC\n",
    "df_PC_user_score = df[(df['year_of_release'] >= 2015) & (df['platform'] == 'PC') & (df['user_score'] != 100500)]\n",
    "\n",
    "\n",
    "print('Средний пользовательский рейтинг платформы XOne:',  df_XOne_user_score['user_score'].mean())\n",
    "\n",
    "print('Средний пользовательский рейтинг платформы PC:',  df_PC_user_score['user_score'].mean())\n"
   ]
  },
  {
   "cell_type": "markdown",
   "metadata": {},
   "source": [
    "Проверим нулевую гипотезу."
   ]
  },
  {
   "cell_type": "code",
   "execution_count": 47,
   "metadata": {},
   "outputs": [
    {
     "name": "stdout",
     "output_type": "stream",
     "text": [
      "p-значение: 0.2778542084733835\n",
      "Не получилось отвергнуть нулевую гипотезу\n"
     ]
    }
   ],
   "source": [
    "# Задаем параметр альфа\n",
    "alpha_platform = 0.05\n",
    "\n",
    "\n",
    "# Задаем выборки\n",
    "result_platform = st.ttest_ind(df_XOne_user_score['user_score'], df_PC_user_score['user_score'])\n",
    "\n",
    "print('p-значение:', result_platform.pvalue)\n",
    "\n",
    "if result_platform.pvalue < alpha_platform:\n",
    "    print('Отвергаем нулевую гипотезу')\n",
    "\n",
    "else:\n",
    "    print('Не получилось отвергнуть нулевую гипотезу')\n"
   ]
  },
  {
   "cell_type": "markdown",
   "metadata": {},
   "source": [
    "#### Средние пользовательские рейтинги за 2015-2016 год платформ XOne и PC (6.5 и 6.3) не имеют статистически значимого различия, поэтому не получилось отвергнуть нулевую гипотезу о том, что средние пользовательские рейтинги равны."
   ]
  },
  {
   "cell_type": "markdown",
   "metadata": {},
   "source": [
    "### Гипотеза 2\n",
    "* Нулевая гипотеза - средний пользовательский рейтинг за 2015 и 2016 годы жанров Action и Sports равны.\n",
    "* Альтернативная гипотеза - средний пользовательский рейтинг за 2015 и 2016 годы жанров Action и Sports различается."
   ]
  },
  {
   "cell_type": "code",
   "execution_count": 48,
   "metadata": {},
   "outputs": [
    {
     "name": "stdout",
     "output_type": "stream",
     "text": [
      "Средний пользовательский рейтинг платформы XOne: 6.808290155440415\n",
      "Средний пользовательский рейтинг платформы PC: 5.198780487804878\n"
     ]
    }
   ],
   "source": [
    "# Данные для оценки среднего пользовательского рейтинга платформы XOne\n",
    "df_Action_user_score = df[(df['year_of_release'] >= 2015) & (df['genre'] == 'Action') & (df['user_score'] != 100500)]\n",
    "\n",
    "# Данные для оценки среднего пользовательского рейтинга платформы PC\n",
    "df_Sports_user_score = df[(df['year_of_release'] >= 2015) & (df['genre'] == 'Sports') & (df['user_score'] != 100500)]\n",
    "\n",
    "\n",
    "print('Средний пользовательский рейтинг платформы XOne:',  df_Action_user_score['user_score'].mean())\n",
    "\n",
    "print('Средний пользовательский рейтинг платформы PC:',  df_Sports_user_score['user_score'].mean())"
   ]
  },
  {
   "cell_type": "markdown",
   "metadata": {},
   "source": [
    "Проверим нулевую гипотезу."
   ]
  },
  {
   "cell_type": "code",
   "execution_count": 49,
   "metadata": {},
   "outputs": [
    {
     "name": "stdout",
     "output_type": "stream",
     "text": [
      "p-значение: 1.0012846807938657e-13\n",
      "Отвергаем нулевую гипотезу\n"
     ]
    }
   ],
   "source": [
    "# Задаем параметр альфа\n",
    "alpha_genre = 0.05\n",
    "\n",
    "\n",
    "# Задаем выборки\n",
    "result_genre = st.ttest_ind(df_Action_user_score['user_score'], df_Sports_user_score['user_score'])\n",
    "\n",
    "print('p-значение:', result_genre.pvalue)\n",
    "\n",
    "if result_genre.pvalue < alpha_genre:\n",
    "    print('Отвергаем нулевую гипотезу')\n",
    "\n",
    "else:\n",
    "    print('Не получилось отвергнуть нулевую гипотезу')\n"
   ]
  },
  {
   "cell_type": "markdown",
   "metadata": {},
   "source": [
    "#### Средние пользовательские рейтинги за 2015-2016 год жанров Action и Sports (6.8 и 5.2) имеют статистически значимое отличие, поэтому отвергаем нулевую гипотезу о том, что средние пользовательские рейтинги равны."
   ]
  },
  {
   "cell_type": "markdown",
   "metadata": {},
   "source": [
    "# Выводы"
   ]
  },
  {
   "cell_type": "markdown",
   "metadata": {},
   "source": [
    "#### До 2002 года выпускалось очень мало игр и данный период можно назвать периодом зарождения и становления компьютерных игр."
   ]
  },
  {
   "cell_type": "markdown",
   "metadata": {},
   "source": [
    "#### Время жизни платформы составляет около 7 лет, после чего платформа уже практически полностью уходит с рынка компьютерных игр. Вероятнее всего это связано с тем, что меняются компьютерные игры и вместе с ними меняются требования к платформам."
   ]
  },
  {
   "cell_type": "markdown",
   "metadata": {},
   "source": [
    "#### На будущий 2017 год, исходя из срока жизни платформы (7 лет), наиболее перспективными платформами останутся лидеры 2015-2016 года, а именно: PS4, XOne и 3DS. Также стоит отметить, что несмотря на лидирующие позиции за 2015 и 2016 год все они находятся в конце своего жизненного цикла. Все они имели очень резкий старт продаж. Фактически эти платформы набирали максимальный объем продаж уже в первый год. Скорее всего это говорит о тесной связи между собой производителей платформ и производителей компьютерных игр. Возможно даже выход новой игры и новой платформы происходят одновременно. Вероятно в ближайший год-два нас ждет появление на рынке новых лидирующих платформ."
   ]
  },
  {
   "cell_type": "markdown",
   "metadata": {},
   "source": [
    "#### Связь между оценкой пользователей, оценкой критиков с продажами компьютерной игры практически полностью отсутствует."
   ]
  },
  {
   "cell_type": "markdown",
   "metadata": {},
   "source": [
    "#### TOP-5 самых продающихся жанров за последние 7 лет(с 2010):\n",
    "* Action - 26.2% всех продаж\n",
    "* Shooter - 18.6% всех продаж\n",
    "* Role-Playing - 12.8% всех продаж\n",
    "* Sports - 12.7% всех продаж\n",
    "* Misc - 9.4% всех продаж\n",
    "#### При этом, для указанных жанров, доля общих продаж очень близка к доле количества онансированных игр.  \n",
    "\n",
    "#### Стоит обратить внимание на жанры Adventure и Shooter:\n",
    "* Adventure - в этом жанре было анонсировано 10.7% всех игр, в то время как доля продаж составила 2.4%\n",
    "* Shooter - в этом жанре было анонсировано 7.8% всех игр, в то время как доля продаж составила 18.5%"
   ]
  },
  {
   "cell_type": "markdown",
   "metadata": {},
   "source": [
    "#### Топ-5 платформ по продажам игр за 2015-2016 год отличаются в зависимости от региона. Так в регионе NA лидируют платформы (PS4, XOne, 3DS, WiiU, X360), в регионе EU лидируют (PS4, XOne, PC, 3DS, PS3), а в регионе JP лидируют (3DS, PS4, PSV, PS3, WiiU).¶"
   ]
  },
  {
   "cell_type": "markdown",
   "metadata": {},
   "source": [
    "#### Топ-5 жанров по продажам игр за 2015 -2016 год немного отличаются в зависимости от региона. Так в регионе NA лидируют жанры (Shooter, Action, Sports, Role-Playing, Misc), в регионе EU лидируют (Shooter, Action, Sports, Role-Playing, Racing), а в регионе JP лидируют (Action, Role-Playing, Shooter, Misc, Adventure).¶"
   ]
  },
  {
   "cell_type": "markdown",
   "metadata": {},
   "source": [
    "#### Рейтинг ESRB связан с продажами в разных регионах по-разному. Например в регионе NA игры с самым высоким медианным значением продаж имеют рейтинг EC («Early childhood»), в то время как, в регионах EU и JP игры с таким рейтингом практически не продаются. В регионе JP в основном продаются игры с рейтингом M («Mature») и T («Teen»), а игры с остальныеми рейтингами практически не продаются, что сильно отличается от ситуации в регионах NA и EU.  "
   ]
  },
  {
   "cell_type": "markdown",
   "metadata": {},
   "source": [
    "#### Средние пользовательские рейтинги за 2015-2016 год платформ XOne и PC (6.5 и 6.3) не имеют статистически значимого различия, поэтому не получилось отвергнуть нулевую гипотезу о том, что средние пользовательские рейтинги равны."
   ]
  },
  {
   "cell_type": "markdown",
   "metadata": {},
   "source": [
    "#### Средние пользовательские рейтинги за 2015-2016 год жанров Action и Sports (6.8 и 5.2) имеют статистически значимое отличие, поэтому отвергаем нулевую гипотезу о том, что средние пользовательские рейтинги равны."
   ]
  }
 ],
 "metadata": {
  "kernelspec": {
   "display_name": "Python 3",
   "language": "python",
   "name": "python3"
  },
  "language_info": {
   "codemirror_mode": {
    "name": "ipython",
    "version": 3
   },
   "file_extension": ".py",
   "mimetype": "text/x-python",
   "name": "python",
   "nbconvert_exporter": "python",
   "pygments_lexer": "ipython3",
   "version": "3.8.3"
  }
 },
 "nbformat": 4,
 "nbformat_minor": 2
}
