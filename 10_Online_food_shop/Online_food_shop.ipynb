{
 "cells": [
  {
   "cell_type": "markdown",
   "metadata": {},
   "source": [
    "### Описание проекта\n",
    "Продажа продуктов питания. Нужно разобраться, как ведут себя пользователи мобильного приложения.\n",
    "\n",
    "Изучите воронку продаж. Узнайте, как пользователи доходят до покупки. Сколько пользователей доходит до покупки, а сколько — «застревает» на предыдущих шагах? На каких именно?\n",
    "\n",
    "После этого исследуйте результаты A/A/B-эксперимента. Дизайнеры захотели поменять шрифты во всём приложении, а менеджеры испугались, что пользователям будет непривычно. Договорились принять решение по результатам A/A/B-теста. Пользователей разбили на 3 группы: 2 контрольные со старыми шрифтами и одну экспериментальную — с новыми. Выясните, какой шрифт лучше.\n",
    "\n",
    "### Описание данных\n",
    "Каждая запись в логе — это действие пользователя, или событие.\n",
    "* EventName — название события;\n",
    "* DeviceIDHash — уникальный идентификатор пользователя;\n",
    "* EventTimestamp — время события;\n",
    "* ExpId — номер эксперимента: 246 и 247 — контрольные группы, а 248 — экспериментальная.\n",
    "\n",
    "## Содержание\n",
    "\n",
    "### [Шаг 1.](#1) Открываем файл с данными и изучаем общую информацию\n",
    "\n",
    "\n",
    "### [Шаг 2.](#2) Подготовка данных\n",
    "* Замена названий столбцов;\n",
    "* Проверка пропусков и типов данных;\n",
    "* Добавление столбца даты и времени, а также отдельный столбец дат;\n",
    "\n",
    "[Вывод](#2c)\n",
    "\n",
    "\n",
    "### [Шаг 3.](#3) Изучение и проверка данных\n",
    "* [3.1](#3.1) Сколько всего событий в логе?\n",
    "* [3.2](#3.2) Сколько всего пользователей в логе?\n",
    "* [3.3](#3.3) Сколько в среднем событий приходится на пользователя?\n",
    "* [3.4](#3.4) Данными за какой период располагаем? Найдием максимальную и минимальную дату. Построим гистограмму по дате и времени. Можно ли быть уверенным, что у нас одинаково полные данные за весь период? Технически в логи новых дней по некоторым пользователям могут «доезжать» события из прошлого — это может «перекашивать данные». Определите, с какого момента данные полные и отбросьте более старые. Данными за какой период времени вы располагаете на самом деле?\n",
    "* [3.5](#3.5) Много ли событий и пользователей вы потеряли, отбросив старые данные?\n",
    "* [3.6](#3.6) Проверьте, что у вас есть пользователи из всех трёх экспериментальных групп.\n",
    "\n",
    "[Вывод](#3c)\n",
    "\n",
    "### [Шаг 4.](#4) Изучение воронки событий\n",
    "* [4.1](#4.1) Посмотрите, какие события есть в логах, как часто они встречаются. Отсортируйте события по частоте.\n",
    "* [4.2](#4.2) Посчитайте, сколько пользователей совершали каждое из этих событий. Отсортируйте события по числу пользователей. Посчитайте долю пользователей, которые хоть раз совершали событие.\n",
    "* [4.3](#4.3) Предположите, в каком порядке происходят события. Все ли они выстраиваются в последовательную цепочку? Их не нужно учитывать при расчёте воронки.\n",
    "* [4.4](#4.4) По воронке событий посчитайте, какая доля пользователей проходит на следующий шаг воронки (от числа пользователей на предыдущем). То есть для последовательности событий A → B → C посчитайте отношение числа пользователей с событием B к количеству пользователей с событием A, а также отношение числа пользователей с событием C к количеству пользователей с событием B.(#4.4)\n",
    "* [4.5](#4.5) На каком шаге теряете больше всего пользователей?\n",
    "* [4.6](#4.6) Какая доля пользователей доходит от первого события до оплаты?\n",
    "\n",
    "[Вывод](#4c)\n",
    "\n",
    "### [Шаг 5.](#5) Изучение результатов эксперимента\n",
    "* [5.1](#5.1) Сколько пользователей в каждой экспериментальной группе?\n",
    "* [5.2](#5.2) Есть 2 контрольные группы для А/А-эксперимента, чтобы проверить корректность всех механизмов и расчётов. Проверьте, находят ли статистические критерии разницу между выборками 246 и 247.\n",
    "* [5.3](#5.3) Выберите самое популярное событие. Посчитайте число пользователей, совершивших это событие в каждой из контрольных групп. Посчитайте долю пользователей, совершивших это событие. Проверьте, будет ли отличие между группами статистически достоверным. Проделайте то же самое для всех других событий (удобно обернуть проверку в отдельную функцию). Можно ли сказать, что разбиение на группы работает корректно?\n",
    "* [5.4](#5.3) Аналогично поступите с группой с изменённым шрифтом. Сравните результаты с каждой из контрольных групп в отдельности по каждому событию. Сравните результаты с объединённой контрольной группой. Какие выводы из эксперимента можно сделать?\n",
    "* [5.5](#5.3) Какой уровень значимости вы выбрали при проверке статистических гипотез выше? Посчитайте, сколько проверок статистических гипотез вы сделали. При уровне значимости 0.1 каждый десятый раз можно получать ложный результат. Какой уровень значимости стоит применить? Если вы хотите изменить его, проделайте предыдущие пункты и проверьте свои выводы.\n",
    "\n",
    "### [Заключение](#6) "
   ]
  },
  {
   "cell_type": "code",
   "execution_count": 1,
   "metadata": {},
   "outputs": [],
   "source": [
    "import pandas as pd\n",
    "import matplotlib.pyplot as plt\n",
    "import seaborn as sns\n",
    "from scipy import stats as st\n",
    "import numpy as np\n",
    "import math as mth"
   ]
  },
  {
   "cell_type": "markdown",
   "metadata": {},
   "source": [
    "Зададим стиль всех дальнейших графиков."
   ]
  },
  {
   "cell_type": "code",
   "execution_count": 2,
   "metadata": {},
   "outputs": [],
   "source": [
    "plt.style.use('ggplot')"
   ]
  },
  {
   "cell_type": "markdown",
   "metadata": {},
   "source": [
    "<a id='1'></a>\n",
    "### 1.  Знакомство с данными"
   ]
  },
  {
   "cell_type": "code",
   "execution_count": 3,
   "metadata": {},
   "outputs": [],
   "source": [
    "# Считываем данные\n",
    "df = pd.read_csv('/datasets/logs_exp.csv', sep = '\\t')"
   ]
  },
  {
   "cell_type": "code",
   "execution_count": 4,
   "metadata": {},
   "outputs": [
    {
     "data": {
      "text/html": [
       "<div>\n",
       "<style scoped>\n",
       "    .dataframe tbody tr th:only-of-type {\n",
       "        vertical-align: middle;\n",
       "    }\n",
       "\n",
       "    .dataframe tbody tr th {\n",
       "        vertical-align: top;\n",
       "    }\n",
       "\n",
       "    .dataframe thead th {\n",
       "        text-align: right;\n",
       "    }\n",
       "</style>\n",
       "<table border=\"1\" class=\"dataframe\">\n",
       "  <thead>\n",
       "    <tr style=\"text-align: right;\">\n",
       "      <th></th>\n",
       "      <th>EventName</th>\n",
       "      <th>DeviceIDHash</th>\n",
       "      <th>EventTimestamp</th>\n",
       "      <th>ExpId</th>\n",
       "    </tr>\n",
       "  </thead>\n",
       "  <tbody>\n",
       "    <tr>\n",
       "      <td>0</td>\n",
       "      <td>MainScreenAppear</td>\n",
       "      <td>4575588528974610257</td>\n",
       "      <td>1564029816</td>\n",
       "      <td>246</td>\n",
       "    </tr>\n",
       "    <tr>\n",
       "      <td>1</td>\n",
       "      <td>MainScreenAppear</td>\n",
       "      <td>7416695313311560658</td>\n",
       "      <td>1564053102</td>\n",
       "      <td>246</td>\n",
       "    </tr>\n",
       "    <tr>\n",
       "      <td>2</td>\n",
       "      <td>PaymentScreenSuccessful</td>\n",
       "      <td>3518123091307005509</td>\n",
       "      <td>1564054127</td>\n",
       "      <td>248</td>\n",
       "    </tr>\n",
       "    <tr>\n",
       "      <td>3</td>\n",
       "      <td>CartScreenAppear</td>\n",
       "      <td>3518123091307005509</td>\n",
       "      <td>1564054127</td>\n",
       "      <td>248</td>\n",
       "    </tr>\n",
       "    <tr>\n",
       "      <td>4</td>\n",
       "      <td>PaymentScreenSuccessful</td>\n",
       "      <td>6217807653094995999</td>\n",
       "      <td>1564055322</td>\n",
       "      <td>248</td>\n",
       "    </tr>\n",
       "  </tbody>\n",
       "</table>\n",
       "</div>"
      ],
      "text/plain": [
       "                 EventName         DeviceIDHash  EventTimestamp  ExpId\n",
       "0         MainScreenAppear  4575588528974610257      1564029816    246\n",
       "1         MainScreenAppear  7416695313311560658      1564053102    246\n",
       "2  PaymentScreenSuccessful  3518123091307005509      1564054127    248\n",
       "3         CartScreenAppear  3518123091307005509      1564054127    248\n",
       "4  PaymentScreenSuccessful  6217807653094995999      1564055322    248"
      ]
     },
     "execution_count": 4,
     "metadata": {},
     "output_type": "execute_result"
    }
   ],
   "source": [
    "# Смотрим данные\n",
    "df.head()"
   ]
  },
  {
   "cell_type": "code",
   "execution_count": 5,
   "metadata": {},
   "outputs": [
    {
     "name": "stdout",
     "output_type": "stream",
     "text": [
      "<class 'pandas.core.frame.DataFrame'>\n",
      "RangeIndex: 244126 entries, 0 to 244125\n",
      "Data columns (total 4 columns):\n",
      "EventName         244126 non-null object\n",
      "DeviceIDHash      244126 non-null int64\n",
      "EventTimestamp    244126 non-null int64\n",
      "ExpId             244126 non-null int64\n",
      "dtypes: int64(3), object(1)\n",
      "memory usage: 7.5+ MB\n"
     ]
    }
   ],
   "source": [
    "# Информация о данных\n",
    "df.info()"
   ]
  },
  {
   "cell_type": "code",
   "execution_count": 6,
   "metadata": {},
   "outputs": [
    {
     "data": {
      "text/plain": [
       "Index(['EventName', 'DeviceIDHash', 'EventTimestamp', 'ExpId'], dtype='object')"
      ]
     },
     "execution_count": 6,
     "metadata": {},
     "output_type": "execute_result"
    }
   ],
   "source": [
    "# Названия столбцов\n",
    "df.columns"
   ]
  },
  {
   "cell_type": "markdown",
   "metadata": {},
   "source": [
    "### 1. Вывод\n",
    "В нашем распоряжении 244126 записей."
   ]
  },
  {
   "cell_type": "markdown",
   "metadata": {},
   "source": [
    "<a id='2'></a>\n",
    "### 2. Подготовка данных"
   ]
  },
  {
   "cell_type": "markdown",
   "metadata": {},
   "source": [
    "Переименуем столбцы на более короткие и удобные названия."
   ]
  },
  {
   "cell_type": "code",
   "execution_count": 7,
   "metadata": {},
   "outputs": [
    {
     "data": {
      "text/plain": [
       "Index(['event_name', 'user_id', 'event_time', 'exp_id'], dtype='object')"
      ]
     },
     "execution_count": 7,
     "metadata": {},
     "output_type": "execute_result"
    }
   ],
   "source": [
    "# Переименование столбцов\n",
    "df.columns = ['event_name', 'user_id', 'event_time', 'exp_id']\n",
    "\n",
    "# Проверка\n",
    "df.columns"
   ]
  },
  {
   "cell_type": "code",
   "execution_count": 8,
   "metadata": {},
   "outputs": [
    {
     "name": "stdout",
     "output_type": "stream",
     "text": [
      "<class 'pandas.core.frame.DataFrame'>\n",
      "RangeIndex: 244126 entries, 0 to 244125\n",
      "Data columns (total 4 columns):\n",
      "event_name    244126 non-null object\n",
      "user_id       244126 non-null int64\n",
      "event_time    244126 non-null int64\n",
      "exp_id        244126 non-null int64\n",
      "dtypes: int64(3), object(1)\n",
      "memory usage: 7.5+ MB\n"
     ]
    }
   ],
   "source": [
    "df.info()"
   ]
  },
  {
   "cell_type": "markdown",
   "metadata": {},
   "source": [
    "Проверим наличие дубликатов."
   ]
  },
  {
   "cell_type": "code",
   "execution_count": 9,
   "metadata": {},
   "outputs": [
    {
     "data": {
      "text/plain": [
       "413"
      ]
     },
     "execution_count": 9,
     "metadata": {},
     "output_type": "execute_result"
    }
   ],
   "source": [
    "df.duplicated().sum()"
   ]
  },
  {
   "cell_type": "markdown",
   "metadata": {},
   "source": [
    "Удалим дубликаты."
   ]
  },
  {
   "cell_type": "code",
   "execution_count": 10,
   "metadata": {},
   "outputs": [
    {
     "data": {
      "text/plain": [
       "0"
      ]
     },
     "execution_count": 10,
     "metadata": {},
     "output_type": "execute_result"
    }
   ],
   "source": [
    "# Удаляем дубликаты\n",
    "df = df.drop_duplicates().reset_index(drop = True)\n",
    "\n",
    "# Проверяем остались ли дубликаты\n",
    "df.duplicated().sum()"
   ]
  },
  {
   "cell_type": "code",
   "execution_count": 11,
   "metadata": {},
   "outputs": [
    {
     "data": {
      "text/html": [
       "<div>\n",
       "<style scoped>\n",
       "    .dataframe tbody tr th:only-of-type {\n",
       "        vertical-align: middle;\n",
       "    }\n",
       "\n",
       "    .dataframe tbody tr th {\n",
       "        vertical-align: top;\n",
       "    }\n",
       "\n",
       "    .dataframe thead th {\n",
       "        text-align: right;\n",
       "    }\n",
       "</style>\n",
       "<table border=\"1\" class=\"dataframe\">\n",
       "  <thead>\n",
       "    <tr style=\"text-align: right;\">\n",
       "      <th></th>\n",
       "      <th>event_name</th>\n",
       "      <th>user_id</th>\n",
       "      <th>event_time</th>\n",
       "      <th>exp_id</th>\n",
       "    </tr>\n",
       "  </thead>\n",
       "  <tbody>\n",
       "    <tr>\n",
       "      <td>0</td>\n",
       "      <td>MainScreenAppear</td>\n",
       "      <td>4575588528974610257</td>\n",
       "      <td>1564029816</td>\n",
       "      <td>246</td>\n",
       "    </tr>\n",
       "    <tr>\n",
       "      <td>1</td>\n",
       "      <td>MainScreenAppear</td>\n",
       "      <td>7416695313311560658</td>\n",
       "      <td>1564053102</td>\n",
       "      <td>246</td>\n",
       "    </tr>\n",
       "    <tr>\n",
       "      <td>2</td>\n",
       "      <td>PaymentScreenSuccessful</td>\n",
       "      <td>3518123091307005509</td>\n",
       "      <td>1564054127</td>\n",
       "      <td>248</td>\n",
       "    </tr>\n",
       "    <tr>\n",
       "      <td>3</td>\n",
       "      <td>CartScreenAppear</td>\n",
       "      <td>3518123091307005509</td>\n",
       "      <td>1564054127</td>\n",
       "      <td>248</td>\n",
       "    </tr>\n",
       "    <tr>\n",
       "      <td>4</td>\n",
       "      <td>PaymentScreenSuccessful</td>\n",
       "      <td>6217807653094995999</td>\n",
       "      <td>1564055322</td>\n",
       "      <td>248</td>\n",
       "    </tr>\n",
       "  </tbody>\n",
       "</table>\n",
       "</div>"
      ],
      "text/plain": [
       "                event_name              user_id  event_time  exp_id\n",
       "0         MainScreenAppear  4575588528974610257  1564029816     246\n",
       "1         MainScreenAppear  7416695313311560658  1564053102     246\n",
       "2  PaymentScreenSuccessful  3518123091307005509  1564054127     248\n",
       "3         CartScreenAppear  3518123091307005509  1564054127     248\n",
       "4  PaymentScreenSuccessful  6217807653094995999  1564055322     248"
      ]
     },
     "execution_count": 11,
     "metadata": {},
     "output_type": "execute_result"
    }
   ],
   "source": [
    "df.head()"
   ]
  },
  {
   "cell_type": "code",
   "execution_count": 12,
   "metadata": {},
   "outputs": [
    {
     "data": {
      "text/plain": [
       "event_name    0.0\n",
       "user_id       0.0\n",
       "event_time    0.0\n",
       "exp_id        0.0\n",
       "dtype: float64"
      ]
     },
     "execution_count": 12,
     "metadata": {},
     "output_type": "execute_result"
    }
   ],
   "source": [
    "# Проверяем наличие пропусков\n",
    "df.isna().mean()"
   ]
  },
  {
   "cell_type": "markdown",
   "metadata": {},
   "source": [
    "Добавим столбец даты и времени 'date_time'."
   ]
  },
  {
   "cell_type": "code",
   "execution_count": 13,
   "metadata": {},
   "outputs": [
    {
     "data": {
      "text/html": [
       "<div>\n",
       "<style scoped>\n",
       "    .dataframe tbody tr th:only-of-type {\n",
       "        vertical-align: middle;\n",
       "    }\n",
       "\n",
       "    .dataframe tbody tr th {\n",
       "        vertical-align: top;\n",
       "    }\n",
       "\n",
       "    .dataframe thead th {\n",
       "        text-align: right;\n",
       "    }\n",
       "</style>\n",
       "<table border=\"1\" class=\"dataframe\">\n",
       "  <thead>\n",
       "    <tr style=\"text-align: right;\">\n",
       "      <th></th>\n",
       "      <th>event_name</th>\n",
       "      <th>user_id</th>\n",
       "      <th>event_time</th>\n",
       "      <th>exp_id</th>\n",
       "      <th>date_time</th>\n",
       "    </tr>\n",
       "  </thead>\n",
       "  <tbody>\n",
       "    <tr>\n",
       "      <td>0</td>\n",
       "      <td>MainScreenAppear</td>\n",
       "      <td>4575588528974610257</td>\n",
       "      <td>1564029816</td>\n",
       "      <td>246</td>\n",
       "      <td>2019-07-25 04:43:36</td>\n",
       "    </tr>\n",
       "    <tr>\n",
       "      <td>1</td>\n",
       "      <td>MainScreenAppear</td>\n",
       "      <td>7416695313311560658</td>\n",
       "      <td>1564053102</td>\n",
       "      <td>246</td>\n",
       "      <td>2019-07-25 11:11:42</td>\n",
       "    </tr>\n",
       "    <tr>\n",
       "      <td>2</td>\n",
       "      <td>PaymentScreenSuccessful</td>\n",
       "      <td>3518123091307005509</td>\n",
       "      <td>1564054127</td>\n",
       "      <td>248</td>\n",
       "      <td>2019-07-25 11:28:47</td>\n",
       "    </tr>\n",
       "    <tr>\n",
       "      <td>3</td>\n",
       "      <td>CartScreenAppear</td>\n",
       "      <td>3518123091307005509</td>\n",
       "      <td>1564054127</td>\n",
       "      <td>248</td>\n",
       "      <td>2019-07-25 11:28:47</td>\n",
       "    </tr>\n",
       "    <tr>\n",
       "      <td>4</td>\n",
       "      <td>PaymentScreenSuccessful</td>\n",
       "      <td>6217807653094995999</td>\n",
       "      <td>1564055322</td>\n",
       "      <td>248</td>\n",
       "      <td>2019-07-25 11:48:42</td>\n",
       "    </tr>\n",
       "  </tbody>\n",
       "</table>\n",
       "</div>"
      ],
      "text/plain": [
       "                event_name              user_id  event_time  exp_id  \\\n",
       "0         MainScreenAppear  4575588528974610257  1564029816     246   \n",
       "1         MainScreenAppear  7416695313311560658  1564053102     246   \n",
       "2  PaymentScreenSuccessful  3518123091307005509  1564054127     248   \n",
       "3         CartScreenAppear  3518123091307005509  1564054127     248   \n",
       "4  PaymentScreenSuccessful  6217807653094995999  1564055322     248   \n",
       "\n",
       "            date_time  \n",
       "0 2019-07-25 04:43:36  \n",
       "1 2019-07-25 11:11:42  \n",
       "2 2019-07-25 11:28:47  \n",
       "3 2019-07-25 11:28:47  \n",
       "4 2019-07-25 11:48:42  "
      ]
     },
     "execution_count": 13,
     "metadata": {},
     "output_type": "execute_result"
    }
   ],
   "source": [
    "df['date_time'] = pd.to_datetime(df['event_time'], unit='s')\n",
    "\n",
    "df.head()"
   ]
  },
  {
   "cell_type": "markdown",
   "metadata": {},
   "source": [
    "Добавим столбец даты 'date'."
   ]
  },
  {
   "cell_type": "code",
   "execution_count": 14,
   "metadata": {},
   "outputs": [
    {
     "data": {
      "text/html": [
       "<div>\n",
       "<style scoped>\n",
       "    .dataframe tbody tr th:only-of-type {\n",
       "        vertical-align: middle;\n",
       "    }\n",
       "\n",
       "    .dataframe tbody tr th {\n",
       "        vertical-align: top;\n",
       "    }\n",
       "\n",
       "    .dataframe thead th {\n",
       "        text-align: right;\n",
       "    }\n",
       "</style>\n",
       "<table border=\"1\" class=\"dataframe\">\n",
       "  <thead>\n",
       "    <tr style=\"text-align: right;\">\n",
       "      <th></th>\n",
       "      <th>event_name</th>\n",
       "      <th>user_id</th>\n",
       "      <th>event_time</th>\n",
       "      <th>exp_id</th>\n",
       "      <th>date_time</th>\n",
       "      <th>date</th>\n",
       "    </tr>\n",
       "  </thead>\n",
       "  <tbody>\n",
       "    <tr>\n",
       "      <td>8043</td>\n",
       "      <td>MainScreenAppear</td>\n",
       "      <td>5893087509399494881</td>\n",
       "      <td>1564643895</td>\n",
       "      <td>248</td>\n",
       "      <td>2019-08-01 07:18:15</td>\n",
       "      <td>2019-08-01</td>\n",
       "    </tr>\n",
       "    <tr>\n",
       "      <td>182224</td>\n",
       "      <td>OffersScreenAppear</td>\n",
       "      <td>6922444491712477</td>\n",
       "      <td>1565073338</td>\n",
       "      <td>246</td>\n",
       "      <td>2019-08-06 06:35:38</td>\n",
       "      <td>2019-08-06</td>\n",
       "    </tr>\n",
       "    <tr>\n",
       "      <td>17634</td>\n",
       "      <td>OffersScreenAppear</td>\n",
       "      <td>7238309430968098875</td>\n",
       "      <td>1564660613</td>\n",
       "      <td>248</td>\n",
       "      <td>2019-08-01 11:56:53</td>\n",
       "      <td>2019-08-01</td>\n",
       "    </tr>\n",
       "    <tr>\n",
       "      <td>175382</td>\n",
       "      <td>PaymentScreenSuccessful</td>\n",
       "      <td>5012718390739823765</td>\n",
       "      <td>1565037929</td>\n",
       "      <td>248</td>\n",
       "      <td>2019-08-05 20:45:29</td>\n",
       "      <td>2019-08-05</td>\n",
       "    </tr>\n",
       "    <tr>\n",
       "      <td>154343</td>\n",
       "      <td>MainScreenAppear</td>\n",
       "      <td>517336701210514234</td>\n",
       "      <td>1565004394</td>\n",
       "      <td>246</td>\n",
       "      <td>2019-08-05 11:26:34</td>\n",
       "      <td>2019-08-05</td>\n",
       "    </tr>\n",
       "  </tbody>\n",
       "</table>\n",
       "</div>"
      ],
      "text/plain": [
       "                     event_name              user_id  event_time  exp_id  \\\n",
       "8043           MainScreenAppear  5893087509399494881  1564643895     248   \n",
       "182224       OffersScreenAppear     6922444491712477  1565073338     246   \n",
       "17634        OffersScreenAppear  7238309430968098875  1564660613     248   \n",
       "175382  PaymentScreenSuccessful  5012718390739823765  1565037929     248   \n",
       "154343         MainScreenAppear   517336701210514234  1565004394     246   \n",
       "\n",
       "                 date_time       date  \n",
       "8043   2019-08-01 07:18:15 2019-08-01  \n",
       "182224 2019-08-06 06:35:38 2019-08-06  \n",
       "17634  2019-08-01 11:56:53 2019-08-01  \n",
       "175382 2019-08-05 20:45:29 2019-08-05  \n",
       "154343 2019-08-05 11:26:34 2019-08-05  "
      ]
     },
     "execution_count": 14,
     "metadata": {},
     "output_type": "execute_result"
    }
   ],
   "source": [
    "df['date'] = df['date_time'].astype('datetime64[D]')\n",
    "df.sample(n=5)"
   ]
  },
  {
   "cell_type": "markdown",
   "metadata": {},
   "source": [
    "<a id='2c'></a>\n",
    "### 2. Выводы\n",
    "* Переименовали столбцы;\n",
    "* Удалили 413 дубликатов;\n",
    "* Пропусков в данных нет;\n",
    "* Добавили столбец даты и времени 'date_time';\n",
    "* Добавили столбец даты 'date';\n",
    "* Типы данных соответствуют смыслу данных."
   ]
  },
  {
   "cell_type": "markdown",
   "metadata": {},
   "source": [
    "<a id='3'></a>\n",
    "### 3. Изучение и проверка данных"
   ]
  },
  {
   "cell_type": "markdown",
   "metadata": {},
   "source": [
    "<a id='3.1'></a>\n",
    "#### 3.1 Сколько всего событий в логе?"
   ]
  },
  {
   "cell_type": "code",
   "execution_count": 15,
   "metadata": {},
   "outputs": [
    {
     "data": {
      "text/plain": [
       "243713"
      ]
     },
     "execution_count": 15,
     "metadata": {},
     "output_type": "execute_result"
    }
   ],
   "source": [
    "# Количество событий\n",
    "len(df)"
   ]
  },
  {
   "cell_type": "markdown",
   "metadata": {},
   "source": [
    "Таким образом в логе всего 243713 событий."
   ]
  },
  {
   "cell_type": "markdown",
   "metadata": {},
   "source": [
    "<a id='3.2'></a>\n",
    "#### 3.2 Сколько всего пользователей в логе?"
   ]
  },
  {
   "cell_type": "code",
   "execution_count": 16,
   "metadata": {},
   "outputs": [
    {
     "data": {
      "text/plain": [
       "7551"
      ]
     },
     "execution_count": 16,
     "metadata": {},
     "output_type": "execute_result"
    }
   ],
   "source": [
    "# Количество уникальных пользователей\n",
    "df['user_id'].nunique()"
   ]
  },
  {
   "cell_type": "markdown",
   "metadata": {},
   "source": [
    "Таким образом имеем 7551 пользователя."
   ]
  },
  {
   "cell_type": "markdown",
   "metadata": {},
   "source": [
    "<a id='3.3'></a>\n",
    "#### 3.3 Сколько в среднем событий приходится на пользователя?"
   ]
  },
  {
   "cell_type": "markdown",
   "metadata": {},
   "source": [
    "Разделим общее количество строк(событий) на количество пользователей. Это и будет среднее количество событий на пользователя."
   ]
  },
  {
   "cell_type": "code",
   "execution_count": 17,
   "metadata": {},
   "outputs": [
    {
     "data": {
      "text/plain": [
       "32.27559263673685"
      ]
     },
     "execution_count": 17,
     "metadata": {},
     "output_type": "execute_result"
    }
   ],
   "source": [
    "len(df) / df['user_id'].nunique()"
   ]
  },
  {
   "cell_type": "markdown",
   "metadata": {},
   "source": [
    "Таким образом в среднем на одного пользователя приходится 32 события."
   ]
  },
  {
   "cell_type": "markdown",
   "metadata": {},
   "source": [
    "<a id='3.4'></a>\n",
    "#### 3.4 Данными за какой период вы располагаете? Найдите максимальную и минимальную дату. Постройте гистограмму по дате и времени. Можно ли быть уверенным, что у вас одинаково полные данные за весь период? Технически в логи новых дней по некоторым пользователям могут «доезжать» события из прошлого — это может «перекашивать данные». Определите, с какого момента данные полные и отбросьте более старые. Данными за какой период времени вы располагаете на самом деле?"
   ]
  },
  {
   "cell_type": "markdown",
   "metadata": {},
   "source": [
    "Данными за какой период вы располагаете?"
   ]
  },
  {
   "cell_type": "code",
   "execution_count": 18,
   "metadata": {},
   "outputs": [
    {
     "data": {
      "text/plain": [
       "(Timestamp('2019-07-25 04:43:36'), Timestamp('2019-08-07 21:15:17'))"
      ]
     },
     "execution_count": 18,
     "metadata": {},
     "output_type": "execute_result"
    }
   ],
   "source": [
    "(df['date_time'].min(), df['date_time'].max()) "
   ]
  },
  {
   "cell_type": "markdown",
   "metadata": {},
   "source": [
    "Таким образом мы располагаем данными за 14 дней с 2019-07-25 по 2019-08-07."
   ]
  },
  {
   "cell_type": "markdown",
   "metadata": {},
   "source": [
    "Построим гистограмму по дате и времени."
   ]
  },
  {
   "cell_type": "code",
   "execution_count": 19,
   "metadata": {},
   "outputs": [
    {
     "data": {
      "image/png": "[encoded data removed]",
      "text/plain": [
       "<Figure size 864x432 with 1 Axes>"
      ]
     },
     "metadata": {},
     "output_type": "display_data"
    }
   ],
   "source": [
    "import warnings\n",
    "warnings.filterwarnings(\"ignore\")\n",
    "\n",
    "plt.figure(figsize=(12, 6))\n",
    "\n",
    "df['date_time'].hist(bins=14)\n",
    "\n",
    "plt.title('Гистограмма date_time')\n",
    "plt.ylabel('Количество записей')\n",
    "plt.xlabel('Дата и время')\n",
    "plt.xticks(rotation=90)\n",
    "\n",
    "plt.show()"
   ]
  },
  {
   "cell_type": "markdown",
   "metadata": {},
   "source": [
    "Из диаграммы видим, что мы обладаем не полными данными. Технически в логи новых дней по некоторым пользователям могут «доезжать» события из прошлого — это может «перекашивать данные». Таким образом из диагрвммы видим, что полными данными ми располагаем только с 2019-08-01."
   ]
  },
  {
   "cell_type": "markdown",
   "metadata": {},
   "source": [
    "Оставим в df только полные данные, а именно только те записи, которые сделаны с 2019-08-01."
   ]
  },
  {
   "cell_type": "code",
   "execution_count": 20,
   "metadata": {},
   "outputs": [],
   "source": [
    "df = df[df['date_time'] >= '2019-08-01 00:00:00']"
   ]
  },
  {
   "cell_type": "markdown",
   "metadata": {},
   "source": [
    "<a id='3.5'></a>\n",
    "#### 3.5 Много ли событий и пользователей вы потеряли, отбросив старые данные?"
   ]
  },
  {
   "cell_type": "code",
   "execution_count": 21,
   "metadata": {},
   "outputs": [
    {
     "data": {
      "text/plain": [
       "240887"
      ]
     },
     "execution_count": 21,
     "metadata": {},
     "output_type": "execute_result"
    }
   ],
   "source": [
    "# Количество событий\n",
    "len(df)"
   ]
  },
  {
   "cell_type": "code",
   "execution_count": 22,
   "metadata": {},
   "outputs": [
    {
     "data": {
      "text/plain": [
       "5"
      ]
     },
     "execution_count": 22,
     "metadata": {},
     "output_type": "execute_result"
    }
   ],
   "source": [
    "df['event_name'].nunique()"
   ]
  },
  {
   "cell_type": "markdown",
   "metadata": {},
   "source": [
    "Изначально было 243713 событий. Сейчас осталось 240887. Отбросив неполные данные мы потеряли 2826 событий, что составляет 1%."
   ]
  },
  {
   "cell_type": "code",
   "execution_count": 23,
   "metadata": {},
   "outputs": [
    {
     "data": {
      "text/plain": [
       "7534"
      ]
     },
     "execution_count": 23,
     "metadata": {},
     "output_type": "execute_result"
    }
   ],
   "source": [
    "# Количество уникальных пользователей\n",
    "n_user = df['user_id'].nunique()\n",
    "n_user"
   ]
  },
  {
   "cell_type": "markdown",
   "metadata": {},
   "source": [
    "Изначально было 7551 пользователей. Сейчас осталось 7534. Отбросив неполные данные мы потеряли 17 пользователей, что составляет 0,2%."
   ]
  },
  {
   "cell_type": "markdown",
   "metadata": {},
   "source": [
    "<a id='3.6'></a>\n",
    "#### 3.6 Проверьте, что у вас есть пользователи из всех трёх экспериментальных групп."
   ]
  },
  {
   "cell_type": "markdown",
   "metadata": {},
   "source": [
    "Посчитаем количество записей для каждой экспирементальной группы и количество пользователей в группе."
   ]
  },
  {
   "cell_type": "code",
   "execution_count": 24,
   "metadata": {},
   "outputs": [
    {
     "data": {
      "text/html": [
       "<div>\n",
       "<style scoped>\n",
       "    .dataframe tbody tr th:only-of-type {\n",
       "        vertical-align: middle;\n",
       "    }\n",
       "\n",
       "    .dataframe tbody tr th {\n",
       "        vertical-align: top;\n",
       "    }\n",
       "\n",
       "    .dataframe thead th {\n",
       "        text-align: right;\n",
       "    }\n",
       "</style>\n",
       "<table border=\"1\" class=\"dataframe\">\n",
       "  <thead>\n",
       "    <tr style=\"text-align: right;\">\n",
       "      <th></th>\n",
       "      <th>exp_id</th>\n",
       "      <th>user_id</th>\n",
       "    </tr>\n",
       "    <tr>\n",
       "      <th>exp_id</th>\n",
       "      <th></th>\n",
       "      <th></th>\n",
       "    </tr>\n",
       "  </thead>\n",
       "  <tbody>\n",
       "    <tr>\n",
       "      <td>246</td>\n",
       "      <td>79302</td>\n",
       "      <td>2484</td>\n",
       "    </tr>\n",
       "    <tr>\n",
       "      <td>247</td>\n",
       "      <td>77022</td>\n",
       "      <td>2513</td>\n",
       "    </tr>\n",
       "    <tr>\n",
       "      <td>248</td>\n",
       "      <td>84563</td>\n",
       "      <td>2537</td>\n",
       "    </tr>\n",
       "  </tbody>\n",
       "</table>\n",
       "</div>"
      ],
      "text/plain": [
       "        exp_id  user_id\n",
       "exp_id                 \n",
       "246      79302     2484\n",
       "247      77022     2513\n",
       "248      84563     2537"
      ]
     },
     "execution_count": 24,
     "metadata": {},
     "output_type": "execute_result"
    }
   ],
   "source": [
    "df.groupby('exp_id').agg({'exp_id': 'count', 'user_id': 'nunique'}) #['exp_id'].count()"
   ]
  },
  {
   "cell_type": "markdown",
   "metadata": {},
   "source": [
    "Таким образом мы имеем данные по экспериментальным группам 246, 247, 248."
   ]
  },
  {
   "cell_type": "markdown",
   "metadata": {},
   "source": [
    "<a id='3c'></a>\n",
    "### 3. Вывод\n",
    "В нашем распоряжении данные за 14 дней с 2019-07-25 по 2019-08-07. К сожалению, технически в логи новых дней по некоторым пользователям могут «доезжать» события из прошлого — это перекашивает данные. Полные данные у тас только за период с 2019-08-01 по 2019-08-07. Удалив дни с неполными даными мы потеряли 1% всех событий и 17 пользователей из 7551, т.е. количество данных для анализа практически не пострадало. "
   ]
  },
  {
   "cell_type": "markdown",
   "metadata": {},
   "source": [
    "<a id='4'></a>\n",
    "### 4. Изучение воронки событий"
   ]
  },
  {
   "cell_type": "markdown",
   "metadata": {},
   "source": [
    "<a id='4.1'></a>\n",
    "#### 4.1 Посмотрим, какие события есть в логах, как часто они встречаются. Отсортируем события по частоте."
   ]
  },
  {
   "cell_type": "code",
   "execution_count": 25,
   "metadata": {},
   "outputs": [
    {
     "data": {
      "text/html": [
       "<div>\n",
       "<style scoped>\n",
       "    .dataframe tbody tr th:only-of-type {\n",
       "        vertical-align: middle;\n",
       "    }\n",
       "\n",
       "    .dataframe tbody tr th {\n",
       "        vertical-align: top;\n",
       "    }\n",
       "\n",
       "    .dataframe thead th {\n",
       "        text-align: right;\n",
       "    }\n",
       "</style>\n",
       "<table border=\"1\" class=\"dataframe\">\n",
       "  <thead>\n",
       "    <tr style=\"text-align: right;\">\n",
       "      <th></th>\n",
       "      <th>user_id</th>\n",
       "    </tr>\n",
       "    <tr>\n",
       "      <th>event_name</th>\n",
       "      <th></th>\n",
       "    </tr>\n",
       "  </thead>\n",
       "  <tbody>\n",
       "    <tr>\n",
       "      <td>MainScreenAppear</td>\n",
       "      <td>117328</td>\n",
       "    </tr>\n",
       "    <tr>\n",
       "      <td>OffersScreenAppear</td>\n",
       "      <td>46333</td>\n",
       "    </tr>\n",
       "    <tr>\n",
       "      <td>CartScreenAppear</td>\n",
       "      <td>42303</td>\n",
       "    </tr>\n",
       "    <tr>\n",
       "      <td>PaymentScreenSuccessful</td>\n",
       "      <td>33918</td>\n",
       "    </tr>\n",
       "    <tr>\n",
       "      <td>Tutorial</td>\n",
       "      <td>1005</td>\n",
       "    </tr>\n",
       "  </tbody>\n",
       "</table>\n",
       "</div>"
      ],
      "text/plain": [
       "                         user_id\n",
       "event_name                      \n",
       "MainScreenAppear          117328\n",
       "OffersScreenAppear         46333\n",
       "CartScreenAppear           42303\n",
       "PaymentScreenSuccessful    33918\n",
       "Tutorial                    1005"
      ]
     },
     "execution_count": 25,
     "metadata": {},
     "output_type": "execute_result"
    }
   ],
   "source": [
    "df.groupby('event_name').agg({'user_id': 'count'}).sort_values(by='user_id', ascending=False)"
   ]
  },
  {
   "cell_type": "markdown",
   "metadata": {},
   "source": [
    "<a id='4.2'></a>\n",
    "#### 4.2 Посчитаем, сколько пользователей совершали каждое из этих событий. Отсортируем события по числу пользователей. Посчитайте долю пользователей, которые хоть раз совершали событие."
   ]
  },
  {
   "cell_type": "code",
   "execution_count": 26,
   "metadata": {},
   "outputs": [
    {
     "data": {
      "text/html": [
       "<div>\n",
       "<style scoped>\n",
       "    .dataframe tbody tr th:only-of-type {\n",
       "        vertical-align: middle;\n",
       "    }\n",
       "\n",
       "    .dataframe tbody tr th {\n",
       "        vertical-align: top;\n",
       "    }\n",
       "\n",
       "    .dataframe thead th {\n",
       "        text-align: right;\n",
       "    }\n",
       "</style>\n",
       "<table border=\"1\" class=\"dataframe\">\n",
       "  <thead>\n",
       "    <tr style=\"text-align: right;\">\n",
       "      <th></th>\n",
       "      <th>user_id</th>\n",
       "    </tr>\n",
       "    <tr>\n",
       "      <th>event_name</th>\n",
       "      <th></th>\n",
       "    </tr>\n",
       "  </thead>\n",
       "  <tbody>\n",
       "    <tr>\n",
       "      <td>MainScreenAppear</td>\n",
       "      <td>7419</td>\n",
       "    </tr>\n",
       "    <tr>\n",
       "      <td>OffersScreenAppear</td>\n",
       "      <td>4593</td>\n",
       "    </tr>\n",
       "    <tr>\n",
       "      <td>CartScreenAppear</td>\n",
       "      <td>3734</td>\n",
       "    </tr>\n",
       "    <tr>\n",
       "      <td>PaymentScreenSuccessful</td>\n",
       "      <td>3539</td>\n",
       "    </tr>\n",
       "    <tr>\n",
       "      <td>Tutorial</td>\n",
       "      <td>840</td>\n",
       "    </tr>\n",
       "  </tbody>\n",
       "</table>\n",
       "</div>"
      ],
      "text/plain": [
       "                         user_id\n",
       "event_name                      \n",
       "MainScreenAppear            7419\n",
       "OffersScreenAppear          4593\n",
       "CartScreenAppear            3734\n",
       "PaymentScreenSuccessful     3539\n",
       "Tutorial                     840"
      ]
     },
     "execution_count": 26,
     "metadata": {},
     "output_type": "execute_result"
    }
   ],
   "source": [
    "user_event = df.groupby('event_name').agg({'user_id': 'nunique'}).sort_values(by='user_id', ascending=False)\n",
    "user_event"
   ]
  },
  {
   "cell_type": "markdown",
   "metadata": {},
   "source": [
    "Переустановим индексы и переименуем столбцы."
   ]
  },
  {
   "cell_type": "code",
   "execution_count": 27,
   "metadata": {},
   "outputs": [
    {
     "data": {
      "text/html": [
       "<div>\n",
       "<style scoped>\n",
       "    .dataframe tbody tr th:only-of-type {\n",
       "        vertical-align: middle;\n",
       "    }\n",
       "\n",
       "    .dataframe tbody tr th {\n",
       "        vertical-align: top;\n",
       "    }\n",
       "\n",
       "    .dataframe thead th {\n",
       "        text-align: right;\n",
       "    }\n",
       "</style>\n",
       "<table border=\"1\" class=\"dataframe\">\n",
       "  <thead>\n",
       "    <tr style=\"text-align: right;\">\n",
       "      <th></th>\n",
       "      <th>event_name</th>\n",
       "      <th>n_user</th>\n",
       "    </tr>\n",
       "  </thead>\n",
       "  <tbody>\n",
       "    <tr>\n",
       "      <td>0</td>\n",
       "      <td>MainScreenAppear</td>\n",
       "      <td>7419</td>\n",
       "    </tr>\n",
       "    <tr>\n",
       "      <td>1</td>\n",
       "      <td>OffersScreenAppear</td>\n",
       "      <td>4593</td>\n",
       "    </tr>\n",
       "    <tr>\n",
       "      <td>2</td>\n",
       "      <td>CartScreenAppear</td>\n",
       "      <td>3734</td>\n",
       "    </tr>\n",
       "    <tr>\n",
       "      <td>3</td>\n",
       "      <td>PaymentScreenSuccessful</td>\n",
       "      <td>3539</td>\n",
       "    </tr>\n",
       "    <tr>\n",
       "      <td>4</td>\n",
       "      <td>Tutorial</td>\n",
       "      <td>840</td>\n",
       "    </tr>\n",
       "  </tbody>\n",
       "</table>\n",
       "</div>"
      ],
      "text/plain": [
       "                event_name  n_user\n",
       "0         MainScreenAppear    7419\n",
       "1       OffersScreenAppear    4593\n",
       "2         CartScreenAppear    3734\n",
       "3  PaymentScreenSuccessful    3539\n",
       "4                 Tutorial     840"
      ]
     },
     "execution_count": 27,
     "metadata": {},
     "output_type": "execute_result"
    }
   ],
   "source": [
    "user_event = user_event.reset_index()\n",
    "user_event.columns = ['event_name', 'n_user']\n",
    "user_event.head()"
   ]
  },
  {
   "cell_type": "markdown",
   "metadata": {},
   "source": [
    "Посчитаем долю пользователей, которые хоть раз совершали событие. Для этого разделим количество пользователей в каждом событии на общее количество пользователей."
   ]
  },
  {
   "cell_type": "code",
   "execution_count": 28,
   "metadata": {},
   "outputs": [
    {
     "data": {
      "text/html": [
       "<div>\n",
       "<style scoped>\n",
       "    .dataframe tbody tr th:only-of-type {\n",
       "        vertical-align: middle;\n",
       "    }\n",
       "\n",
       "    .dataframe tbody tr th {\n",
       "        vertical-align: top;\n",
       "    }\n",
       "\n",
       "    .dataframe thead th {\n",
       "        text-align: right;\n",
       "    }\n",
       "</style>\n",
       "<table border=\"1\" class=\"dataframe\">\n",
       "  <thead>\n",
       "    <tr style=\"text-align: right;\">\n",
       "      <th></th>\n",
       "      <th>event_name</th>\n",
       "      <th>n_user</th>\n",
       "      <th>share</th>\n",
       "    </tr>\n",
       "  </thead>\n",
       "  <tbody>\n",
       "    <tr>\n",
       "      <td>0</td>\n",
       "      <td>MainScreenAppear</td>\n",
       "      <td>7419</td>\n",
       "      <td>0.984736</td>\n",
       "    </tr>\n",
       "    <tr>\n",
       "      <td>1</td>\n",
       "      <td>OffersScreenAppear</td>\n",
       "      <td>4593</td>\n",
       "      <td>0.609636</td>\n",
       "    </tr>\n",
       "    <tr>\n",
       "      <td>2</td>\n",
       "      <td>CartScreenAppear</td>\n",
       "      <td>3734</td>\n",
       "      <td>0.495620</td>\n",
       "    </tr>\n",
       "    <tr>\n",
       "      <td>3</td>\n",
       "      <td>PaymentScreenSuccessful</td>\n",
       "      <td>3539</td>\n",
       "      <td>0.469737</td>\n",
       "    </tr>\n",
       "    <tr>\n",
       "      <td>4</td>\n",
       "      <td>Tutorial</td>\n",
       "      <td>840</td>\n",
       "      <td>0.111495</td>\n",
       "    </tr>\n",
       "  </tbody>\n",
       "</table>\n",
       "</div>"
      ],
      "text/plain": [
       "                event_name  n_user     share\n",
       "0         MainScreenAppear    7419  0.984736\n",
       "1       OffersScreenAppear    4593  0.609636\n",
       "2         CartScreenAppear    3734  0.495620\n",
       "3  PaymentScreenSuccessful    3539  0.469737\n",
       "4                 Tutorial     840  0.111495"
      ]
     },
     "execution_count": 28,
     "metadata": {},
     "output_type": "execute_result"
    }
   ],
   "source": [
    "user_event['share'] = user_event['n_user'] / n_user\n",
    "user_event"
   ]
  },
  {
   "cell_type": "markdown",
   "metadata": {},
   "source": [
    "На главную страницу приходит 98,5% пользователей. Скорее всего оставшиеся 1,5% заходят в приложение, которое уже было открыто ими ранее, и таким образом попадают на страницу на которой они остановились, а не на первую."
   ]
  },
  {
   "cell_type": "markdown",
   "metadata": {},
   "source": [
    "<a id='4.3'></a>\n",
    "#### 4.3 Предположите, в каком порядке происходят события. Все ли они выстраиваются в последовательную цепочку? Их не нужно учитывать при расчёте воронки."
   ]
  },
  {
   "cell_type": "markdown",
   "metadata": {},
   "source": [
    "Судя по всему события происходят в том порядке в котором они выведены на экран. Событие Tutorial скорее всего не имеет смысла в контексте воронки продаж. "
   ]
  },
  {
   "cell_type": "markdown",
   "metadata": {},
   "source": [
    "Удалим Tutorial из user_event."
   ]
  },
  {
   "cell_type": "code",
   "execution_count": 29,
   "metadata": {},
   "outputs": [
    {
     "data": {
      "text/html": [
       "<div>\n",
       "<style scoped>\n",
       "    .dataframe tbody tr th:only-of-type {\n",
       "        vertical-align: middle;\n",
       "    }\n",
       "\n",
       "    .dataframe tbody tr th {\n",
       "        vertical-align: top;\n",
       "    }\n",
       "\n",
       "    .dataframe thead th {\n",
       "        text-align: right;\n",
       "    }\n",
       "</style>\n",
       "<table border=\"1\" class=\"dataframe\">\n",
       "  <thead>\n",
       "    <tr style=\"text-align: right;\">\n",
       "      <th></th>\n",
       "      <th>event_name</th>\n",
       "      <th>n_user</th>\n",
       "      <th>share</th>\n",
       "    </tr>\n",
       "  </thead>\n",
       "  <tbody>\n",
       "    <tr>\n",
       "      <td>0</td>\n",
       "      <td>MainScreenAppear</td>\n",
       "      <td>7419</td>\n",
       "      <td>0.984736</td>\n",
       "    </tr>\n",
       "    <tr>\n",
       "      <td>1</td>\n",
       "      <td>OffersScreenAppear</td>\n",
       "      <td>4593</td>\n",
       "      <td>0.609636</td>\n",
       "    </tr>\n",
       "    <tr>\n",
       "      <td>2</td>\n",
       "      <td>CartScreenAppear</td>\n",
       "      <td>3734</td>\n",
       "      <td>0.495620</td>\n",
       "    </tr>\n",
       "    <tr>\n",
       "      <td>3</td>\n",
       "      <td>PaymentScreenSuccessful</td>\n",
       "      <td>3539</td>\n",
       "      <td>0.469737</td>\n",
       "    </tr>\n",
       "  </tbody>\n",
       "</table>\n",
       "</div>"
      ],
      "text/plain": [
       "                event_name  n_user     share\n",
       "0         MainScreenAppear    7419  0.984736\n",
       "1       OffersScreenAppear    4593  0.609636\n",
       "2         CartScreenAppear    3734  0.495620\n",
       "3  PaymentScreenSuccessful    3539  0.469737"
      ]
     },
     "execution_count": 29,
     "metadata": {},
     "output_type": "execute_result"
    }
   ],
   "source": [
    "user_event = user_event[user_event['event_name'] != 'Tutorial']\n",
    "user_event"
   ]
  },
  {
   "cell_type": "markdown",
   "metadata": {},
   "source": [
    "<a id='4.4'></a>\n",
    "#### 4.4 По воронке событий посчитайте, какая доля пользователей проходит на следующий шаг воронки (от числа пользователей на предыдущем). То есть для последовательности событий A → B → C посчитайте отношение числа пользователей с событием B к количеству пользователей с событием A, а также отношение числа пользователей с событием C к количеству пользователей с событием B."
   ]
  },
  {
   "cell_type": "markdown",
   "metadata": {},
   "source": [
    "* 4593 / 7419 = 62% пользователей проходит от MainScreenAppear к OffersScreenAppear.\n",
    "* 3734 / 4593 = 81% пользователей проходит от OffersScreenAppear к CartScreenAppear.\n",
    "* 3539 / 3734 = 95% пользователей проходит от CartScreenAppear к PaymentScreenSuccessful."
   ]
  },
  {
   "cell_type": "markdown",
   "metadata": {},
   "source": [
    "<a id='4.5'></a>\n",
    "#### 4.5 На каком шаге теряете больше всего пользователей?\n",
    "Больше всего пользователей теряется при переходе от события MainScreenAppear к OffersScreenAppear."
   ]
  },
  {
   "cell_type": "markdown",
   "metadata": {},
   "source": [
    "<a id='4.6'></a>\n",
    "#### 4.6 Какая доля пользователей доходит от первого события до оплаты?\n",
    "3539 / 7419 = 48% пользователей доходит от первого события до оплаты."
   ]
  },
  {
   "cell_type": "markdown",
   "metadata": {},
   "source": [
    "<a id='4c'></a>\n",
    "### 4. Вывод\n",
    "Воронка продаж выглядит следующим образом:\n",
    "* 62% пользователей проходит от MainScreenAppear к OffersScreenAppear\n",
    "* 81% пользователей проходит от OffersScreenAppear к CartScreenAppear\n",
    "* 95% пользователей проходит от CartScreenAppear к PaymentScreenSuccessful\n",
    "\n",
    "\n",
    "48% пользователей доходит от первого события до оплаты"
   ]
  },
  {
   "cell_type": "markdown",
   "metadata": {},
   "source": [
    "<a id='5'></a>\n",
    "### 5. Изучение результатов эксперимента"
   ]
  },
  {
   "cell_type": "markdown",
   "metadata": {},
   "source": [
    "<a id='5.1'></a>\n",
    "#### 5.1 Сколько пользователей в каждой экспериментальной группе?"
   ]
  },
  {
   "cell_type": "code",
   "execution_count": 30,
   "metadata": {},
   "outputs": [
    {
     "data": {
      "text/html": [
       "<div>\n",
       "<style scoped>\n",
       "    .dataframe tbody tr th:only-of-type {\n",
       "        vertical-align: middle;\n",
       "    }\n",
       "\n",
       "    .dataframe tbody tr th {\n",
       "        vertical-align: top;\n",
       "    }\n",
       "\n",
       "    .dataframe thead th {\n",
       "        text-align: right;\n",
       "    }\n",
       "</style>\n",
       "<table border=\"1\" class=\"dataframe\">\n",
       "  <thead>\n",
       "    <tr style=\"text-align: right;\">\n",
       "      <th></th>\n",
       "      <th>user_id</th>\n",
       "    </tr>\n",
       "    <tr>\n",
       "      <th>exp_id</th>\n",
       "      <th></th>\n",
       "    </tr>\n",
       "  </thead>\n",
       "  <tbody>\n",
       "    <tr>\n",
       "      <td>246</td>\n",
       "      <td>2484</td>\n",
       "    </tr>\n",
       "    <tr>\n",
       "      <td>247</td>\n",
       "      <td>2513</td>\n",
       "    </tr>\n",
       "    <tr>\n",
       "      <td>248</td>\n",
       "      <td>2537</td>\n",
       "    </tr>\n",
       "  </tbody>\n",
       "</table>\n",
       "</div>"
      ],
      "text/plain": [
       "        user_id\n",
       "exp_id         \n",
       "246        2484\n",
       "247        2513\n",
       "248        2537"
      ]
     },
     "execution_count": 30,
     "metadata": {},
     "output_type": "execute_result"
    }
   ],
   "source": [
    "df.groupby('exp_id').agg({'user_id': 'nunique'})"
   ]
  },
  {
   "cell_type": "markdown",
   "metadata": {},
   "source": [
    "<a id='5.2'></a>\n",
    "#### 5.2 Есть 2 контрольные группы для А/А-эксперимента, чтобы проверить корректность всех механизмов и расчётов. Проверьте, находят ли статистические критерии разницу между выборками 246 и 247."
   ]
  },
  {
   "cell_type": "markdown",
   "metadata": {},
   "source": [
    "Проверим нет ли у нас пользователей, которые попали в несколько групп."
   ]
  },
  {
   "cell_type": "code",
   "execution_count": 31,
   "metadata": {},
   "outputs": [
    {
     "data": {
      "text/plain": [
       "exp_id    1\n",
       "dtype: int64"
      ]
     },
     "execution_count": 31,
     "metadata": {},
     "output_type": "execute_result"
    }
   ],
   "source": [
    "df.groupby('user_id').agg({'exp_id': 'nunique'}).max()"
   ]
  },
  {
   "cell_type": "markdown",
   "metadata": {},
   "source": [
    "Пользователи попавшие в несколько групп отсутствуют. Различие в количестве пользователей в различных группах составляет около 1%. Разбиение на группы корректное."
   ]
  },
  {
   "cell_type": "markdown",
   "metadata": {},
   "source": [
    "<a id='5.3'></a>\n",
    "#### 5.3 Выберите самое популярное событие. Посчитайте число пользователей, совершивших это событие в каждой из контрольных групп. Посчитайте долю пользователей, совершивших это событие. Проверьте, будет ли отличие между группами статистически достоверным. Проделайте то же самое для всех других событий (удобно обернуть проверку в отдельную функцию). Можно ли сказать, что разбиение на группы работает корректно?\n",
    "#### 5.4 Аналогично поступите с группой с изменённым шрифтом. Сравните результаты с каждой из контрольных групп в отдельности по каждому событию. Сравните результаты с объединённой контрольной группой. Какие выводы из эксперимента можно сделать?\n",
    "#### 5.5 Какой уровень значимости вы выбрали при проверке статистических гипотез выше? Посчитайте, сколько проверок статистических гипотез вы сделали. При уровне значимости 0.1 каждый десятый раз можно получать ложный результат. Какой уровень значимости стоит применить? Если вы хотите изменить его, проделайте предыдущие пункты и проверьте свои выводы."
   ]
  },
  {
   "cell_type": "markdown",
   "metadata": {},
   "source": [
    "Для выполнения пунктов 5.3, 5.4, 5.5 напишем соответствующую функцию."
   ]
  },
  {
   "cell_type": "markdown",
   "metadata": {},
   "source": [
    "Напишем функцию event_share, которая на вход будет получать: \n",
    "* events - cписок возможных событий из столбца event_name\n",
    "* df_group1 - данные из df соответствующие первой группе в сравенении\n",
    "* name_group1 - название первой группы\n",
    "* df_group2 - данные из df соответствующие второй группе в сравенении\n",
    "* name_group2 - название второй группы\n",
    "* alpha - уровень значимости\n",
    "\n",
    "а на выходе для каждого события даст нам:\n",
    "* количество пользователей в каждой сравниваемой группе (у котовых произошло событие)\n",
    "* разницу в количестве таких пользователей по сравниваемым группам\n",
    "* долю пользователей в каждой сравниваемой группе (у котовых произошло событие)\n",
    "* разницу долей таких пользователей по сравниваемым группам\n",
    "* проверит нулевую гипотезу о том, что доли равны (z-тест)"
   ]
  },
  {
   "cell_type": "code",
   "execution_count": 32,
   "metadata": {},
   "outputs": [],
   "source": [
    "def event_share(events, df_group1, name_group1, df_group2, name_group2, alpha):\n",
    "    \n",
    "    # Запускаем цикл для каждого из событий\n",
    "    for event_name in events:\n",
    "        print(event_name)\n",
    "        \n",
    "        # Отбираем данные для указанных групп для указанного события\n",
    "        df_group1_event = df_group1[df_group1['event_name'] == event_name]\n",
    "        df_group2_event = df_group2[df_group2['event_name'] == event_name]\n",
    "        \n",
    "        # Количество пользователей в группах для указанного события\n",
    "        n_user_group1_event = df_group1_event['user_id'].nunique()\n",
    "        n_user_group2_event = df_group2_event['user_id'].nunique()\n",
    "        \n",
    "        print('В группе', name_group1, 'количество пользователей у которых произошло событие', event_name, 'равно', n_user_group1_event)\n",
    "        print('В группе', name_group2, 'количество пользователей у которых произошло событие', event_name, 'равно', n_user_group2_event)\n",
    "        print('Разница {:.1%}'.format((n_user_group2_event /  n_user_group1_event) - 1))\n",
    "        print('')\n",
    "        \n",
    "        # Количество пользователей в группах\n",
    "        n_user_group1 = df_group1['user_id'].nunique()\n",
    "        n_user_group2 = df_group2['user_id'].nunique()\n",
    "        \n",
    "        # Доля пользователей группы, у которых совершилось событие среди всех пользователей группы\n",
    "        share_n_users_group1_event = n_user_group1_event / n_user_group1\n",
    "        share_n_users_group2_event = n_user_group2_event / n_user_group2\n",
    "        \n",
    "        print('В группе', name_group1, 'доля пользователей у которых произошло событие', event_name, 'равна', '{:.3f}'.format(share_n_users_group1_event))\n",
    "        print('В группе', name_group2, 'доля пользователей у которых произошло событие', event_name, 'равна', '{:.3f}'.format(share_n_users_group2_event))\n",
    "        print('Разница {:.1%}'.format((share_n_users_group2_event /  share_n_users_group1_event) - 1))\n",
    "        \n",
    "        \n",
    "        \n",
    "        # Выясним, есть ли статистически значимая разница между долями пользователей группы, у которых совершилось событие\n",
    "        \n",
    "        successes = [n_user_group1_event, n_user_group2_event]\n",
    "        trials = [n_user_group1, n_user_group2]\n",
    "        \n",
    "        # пропорция успехов в первой группе:\n",
    "        p1 = successes[0]/trials[0]\n",
    "\n",
    "        # пропорция успехов во второй группе:\n",
    "        p2 = successes[1]/trials[1]\n",
    "\n",
    "        # пропорция успехов в комбинированном датасете:\n",
    "        p_combined = (successes[0] + successes[1]) / (trials[0] + trials[1])\n",
    "\n",
    "        # разница пропорций в датасетах\n",
    "        difference = p1 - p2 \n",
    "        \n",
    "        # считаем статистику в ст.отклонениях стандартного нормального распределения\n",
    "        z_value = difference / mth.sqrt(p_combined * (1 - p_combined) * (1/trials[0] + 1/trials[1]))\n",
    "\n",
    "        # задаем стандартное нормальное распределение (среднее 0, ст.отклонение 1)\n",
    "        distr = st.norm(0, 1)\n",
    "        \n",
    "        p_value = (1 - distr.cdf(abs(z_value))) * 2\n",
    "\n",
    "        print('p-значение: ', p_value)\n",
    "\n",
    "        if (p_value < alpha):\n",
    "                print(\"Отвергаем нулевую гипотезу: между долями есть значимая разница\")\n",
    "        else:\n",
    "                print(\"Не получилось отвергнуть нулевую гипотезу, нет оснований считать доли разными\") \n",
    "        \n",
    "        \n",
    "        "
   ]
  },
  {
   "cell_type": "markdown",
   "metadata": {},
   "source": [
    "Разделим наши данные по группам, которые требуется сравнить."
   ]
  },
  {
   "cell_type": "code",
   "execution_count": 33,
   "metadata": {},
   "outputs": [],
   "source": [
    "# Группы для сравнения\n",
    "df_246 = df[df['exp_id'] == 246]\n",
    "df_247 = df[df['exp_id'] == 247]\n",
    "df_248 = df[df['exp_id'] == 248]\n",
    "df_246_247 = df[(df['exp_id'] == 246) | (df['exp_id'] == 247)]"
   ]
  },
  {
   "cell_type": "markdown",
   "metadata": {},
   "source": [
    "Выделим все события, которые нам понадобятся для передаче функции event_share."
   ]
  },
  {
   "cell_type": "code",
   "execution_count": 34,
   "metadata": {},
   "outputs": [
    {
     "data": {
      "text/plain": [
       "array(['Tutorial', 'MainScreenAppear', 'OffersScreenAppear',\n",
       "       'CartScreenAppear', 'PaymentScreenSuccessful'], dtype=object)"
      ]
     },
     "execution_count": 34,
     "metadata": {},
     "output_type": "execute_result"
    }
   ],
   "source": [
    "events = df['event_name'].unique()\n",
    "events"
   ]
  },
  {
   "cell_type": "markdown",
   "metadata": {},
   "source": [
    "Всего у нас будет 4 пары групп для сравнения: (246-247), (246-248), (247-248) и (248- 246&247). Имеем 5 событий в каждой паре. Таким образом мы собираемся проверить 4 x 5 = 20 нулевых гипотез о равенстве долей. Поэтому за уровень значимости примем 0.05 / 20 = 0.0025 "
   ]
  },
  {
   "cell_type": "markdown",
   "metadata": {},
   "source": [
    "#### Проведем сравнение и проверку нулевой гипотезы о равенстве долей для групп A/A-теста 246 и 247.\n",
    "* H0 - Доли равны\n",
    "* H1 - Доли не равны"
   ]
  },
  {
   "cell_type": "code",
   "execution_count": 35,
   "metadata": {},
   "outputs": [
    {
     "name": "stdout",
     "output_type": "stream",
     "text": [
      "Tutorial\n",
      "В группе 246 количество пользователей у которых произошло событие Tutorial равно 278\n",
      "В группе 247 количество пользователей у которых произошло событие Tutorial равно 283\n",
      "Разница 1.8%\n",
      "\n",
      "В группе 246 доля пользователей у которых произошло событие Tutorial равна 0.112\n",
      "В группе 247 доля пользователей у которых произошло событие Tutorial равна 0.113\n",
      "Разница 0.6%\n",
      "p-значение:  0.9376996189257114\n",
      "Не получилось отвергнуть нулевую гипотезу, нет оснований считать доли разными\n",
      "MainScreenAppear\n",
      "В группе 246 количество пользователей у которых произошло событие MainScreenAppear равно 2450\n",
      "В группе 247 количество пользователей у которых произошло событие MainScreenAppear равно 2476\n",
      "Разница 1.1%\n",
      "\n",
      "В группе 246 доля пользователей у которых произошло событие MainScreenAppear равна 0.986\n",
      "В группе 247 доля пользователей у которых произошло событие MainScreenAppear равна 0.985\n",
      "Разница -0.1%\n",
      "p-значение:  0.7570597232046099\n",
      "Не получилось отвергнуть нулевую гипотезу, нет оснований считать доли разными\n",
      "OffersScreenAppear\n",
      "В группе 246 количество пользователей у которых произошло событие OffersScreenAppear равно 1542\n",
      "В группе 247 количество пользователей у которых произошло событие OffersScreenAppear равно 1520\n",
      "Разница -1.4%\n",
      "\n",
      "В группе 246 доля пользователей у которых произошло событие OffersScreenAppear равна 0.621\n",
      "В группе 247 доля пользователей у которых произошло событие OffersScreenAppear равна 0.605\n",
      "Разница -2.6%\n",
      "p-значение:  0.2480954578522181\n",
      "Не получилось отвергнуть нулевую гипотезу, нет оснований считать доли разными\n",
      "CartScreenAppear\n",
      "В группе 246 количество пользователей у которых произошло событие CartScreenAppear равно 1266\n",
      "В группе 247 количество пользователей у которых произошло событие CartScreenAppear равно 1238\n",
      "Разница -2.2%\n",
      "\n",
      "В группе 246 доля пользователей у которых произошло событие CartScreenAppear равна 0.510\n",
      "В группе 247 доля пользователей у которых произошло событие CartScreenAppear равна 0.493\n",
      "Разница -3.3%\n",
      "p-значение:  0.22883372237997213\n",
      "Не получилось отвергнуть нулевую гипотезу, нет оснований считать доли разными\n",
      "PaymentScreenSuccessful\n",
      "В группе 246 количество пользователей у которых произошло событие PaymentScreenSuccessful равно 1200\n",
      "В группе 247 количество пользователей у которых произошло событие PaymentScreenSuccessful равно 1158\n",
      "Разница -3.5%\n",
      "\n",
      "В группе 246 доля пользователей у которых произошло событие PaymentScreenSuccessful равна 0.483\n",
      "В группе 247 доля пользователей у которых произошло событие PaymentScreenSuccessful равна 0.461\n",
      "Разница -4.6%\n",
      "p-значение:  0.11456679313141849\n",
      "Не получилось отвергнуть нулевую гипотезу, нет оснований считать доли разными\n"
     ]
    }
   ],
   "source": [
    "event_share(events, df_246, 246, df_247, 247, 0.0025)"
   ]
  },
  {
   "cell_type": "markdown",
   "metadata": {},
   "source": [
    "#### Выводы A/A-тест, сравнение групп 246 и 247\n",
    "* Нет ни одного события для которого разница обоих показателей между группами не превышала бы 1%\n",
    "* Самое многочисленное событие MainScreenAppear имеет разницу в показателях между группами 1.1% и -0.1%\n",
    "* Разница между долями для всех событий не является статистически значимой\n",
    "* Также видно, что чем более многочисленное событие, тем меньше разница в показателях между группами, что указывает на то, что для достижения разницы между всеми показателями не более 1% (что будет говорить о успешности A/A-теста) необходимо собрать данные за больший период времени. Разбиение на группы работает корректно."
   ]
  },
  {
   "cell_type": "markdown",
   "metadata": {},
   "source": [
    "#### Проведем сравнение и проверку нулевой гипотезы о равенстве долей для групп A/B-теста 246 и 248.\n",
    "* H0 - Доли равны\n",
    "* H1 - Доли не равны"
   ]
  },
  {
   "cell_type": "code",
   "execution_count": 36,
   "metadata": {},
   "outputs": [
    {
     "name": "stdout",
     "output_type": "stream",
     "text": [
      "Tutorial\n",
      "В группе 246 количество пользователей у которых произошло событие Tutorial равно 278\n",
      "В группе 248 количество пользователей у которых произошло событие Tutorial равно 279\n",
      "Разница 0.4%\n",
      "\n",
      "В группе 246 доля пользователей у которых произошло событие Tutorial равна 0.112\n",
      "В группе 248 доля пользователей у которых произошло событие Tutorial равна 0.110\n",
      "Разница -1.7%\n",
      "p-значение:  0.8264294010087645\n",
      "Не получилось отвергнуть нулевую гипотезу, нет оснований считать доли разными\n",
      "MainScreenAppear\n",
      "В группе 246 количество пользователей у которых произошло событие MainScreenAppear равно 2450\n",
      "В группе 248 количество пользователей у которых произошло событие MainScreenAppear равно 2493\n",
      "Разница 1.8%\n",
      "\n",
      "В группе 246 доля пользователей у которых произошло событие MainScreenAppear равна 0.986\n",
      "В группе 248 доля пользователей у которых произошло событие MainScreenAppear равна 0.983\n",
      "Разница -0.4%\n",
      "p-значение:  0.2949721933554552\n",
      "Не получилось отвергнуть нулевую гипотезу, нет оснований считать доли разными\n",
      "OffersScreenAppear\n",
      "В группе 246 количество пользователей у которых произошло событие OffersScreenAppear равно 1542\n",
      "В группе 248 количество пользователей у которых произошло событие OffersScreenAppear равно 1531\n",
      "Разница -0.7%\n",
      "\n",
      "В группе 246 доля пользователей у которых произошло событие OffersScreenAppear равна 0.621\n",
      "В группе 248 доля пользователей у которых произошло событие OffersScreenAppear равна 0.603\n",
      "Разница -2.8%\n",
      "p-значение:  0.20836205402738917\n",
      "Не получилось отвергнуть нулевую гипотезу, нет оснований считать доли разными\n",
      "CartScreenAppear\n",
      "В группе 246 количество пользователей у которых произошло событие CartScreenAppear равно 1266\n",
      "В группе 248 количество пользователей у которых произошло событие CartScreenAppear равно 1230\n",
      "Разница -2.8%\n",
      "\n",
      "В группе 246 доля пользователей у которых произошло событие CartScreenAppear равна 0.510\n",
      "В группе 248 доля пользователей у которых произошло событие CartScreenAppear равна 0.485\n",
      "Разница -4.9%\n",
      "p-значение:  0.07842923237520116\n",
      "Не получилось отвергнуть нулевую гипотезу, нет оснований считать доли разными\n",
      "PaymentScreenSuccessful\n",
      "В группе 246 количество пользователей у которых произошло событие PaymentScreenSuccessful равно 1200\n",
      "В группе 248 количество пользователей у которых произошло событие PaymentScreenSuccessful равно 1181\n",
      "Разница -1.6%\n",
      "\n",
      "В группе 246 доля пользователей у которых произошло событие PaymentScreenSuccessful равна 0.483\n",
      "В группе 248 доля пользователей у которых произошло событие PaymentScreenSuccessful равна 0.466\n",
      "Разница -3.6%\n",
      "p-значение:  0.2122553275697796\n",
      "Не получилось отвергнуть нулевую гипотезу, нет оснований считать доли разными\n"
     ]
    }
   ],
   "source": [
    "event_share(events, df_246, 246, df_248, 248, 0.0025)"
   ]
  },
  {
   "cell_type": "markdown",
   "metadata": {},
   "source": [
    "#### Выводы A/B-тест, сравнение групп 246 и 248\n",
    "Разница между долями для всех событий не является статистически значимой."
   ]
  },
  {
   "cell_type": "markdown",
   "metadata": {},
   "source": [
    "#### Проведем сравнение и проверку нулевой гипотезы о равенстве долей для групп A/B-теста 247 и 248.\n",
    "* H0 - Доли равны\n",
    "* H1 - Доли не равны"
   ]
  },
  {
   "cell_type": "code",
   "execution_count": 37,
   "metadata": {},
   "outputs": [
    {
     "name": "stdout",
     "output_type": "stream",
     "text": [
      "Tutorial\n",
      "В группе 247 количество пользователей у которых произошло событие Tutorial равно 283\n",
      "В группе 248 количество пользователей у которых произошло событие Tutorial равно 279\n",
      "Разница -1.4%\n",
      "\n",
      "В группе 247 доля пользователей у которых произошло событие Tutorial равна 0.113\n",
      "В группе 248 доля пользователей у которых произошло событие Tutorial равна 0.110\n",
      "Разница -2.3%\n",
      "p-значение:  0.765323922474501\n",
      "Не получилось отвергнуть нулевую гипотезу, нет оснований считать доли разными\n",
      "MainScreenAppear\n",
      "В группе 247 количество пользователей у которых произошло событие MainScreenAppear равно 2476\n",
      "В группе 248 количество пользователей у которых произошло событие MainScreenAppear равно 2493\n",
      "Разница 0.7%\n",
      "\n",
      "В группе 247 доля пользователей у которых произошло событие MainScreenAppear равна 0.985\n",
      "В группе 248 доля пользователей у которых произошло событие MainScreenAppear равна 0.983\n",
      "Разница -0.3%\n",
      "p-значение:  0.4587053616621515\n",
      "Не получилось отвергнуть нулевую гипотезу, нет оснований считать доли разными\n",
      "OffersScreenAppear\n",
      "В группе 247 количество пользователей у которых произошло событие OffersScreenAppear равно 1520\n",
      "В группе 248 количество пользователей у которых произошло событие OffersScreenAppear равно 1531\n",
      "Разница 0.7%\n",
      "\n",
      "В группе 247 доля пользователей у которых произошло событие OffersScreenAppear равна 0.605\n",
      "В группе 248 доля пользователей у которых произошло событие OffersScreenAppear равна 0.603\n",
      "Разница -0.2%\n",
      "p-значение:  0.9197817830592261\n",
      "Не получилось отвергнуть нулевую гипотезу, нет оснований считать доли разными\n",
      "CartScreenAppear\n",
      "В группе 247 количество пользователей у которых произошло событие CartScreenAppear равно 1238\n",
      "В группе 248 количество пользователей у которых произошло событие CartScreenAppear равно 1230\n",
      "Разница -0.6%\n",
      "\n",
      "В группе 247 доля пользователей у которых произошло событие CartScreenAppear равна 0.493\n",
      "В группе 248 доля пользователей у которых произошло событие CartScreenAppear равна 0.485\n",
      "Разница -1.6%\n",
      "p-значение:  0.5786197879539783\n",
      "Не получилось отвергнуть нулевую гипотезу, нет оснований считать доли разными\n",
      "PaymentScreenSuccessful\n",
      "В группе 247 количество пользователей у которых произошло событие PaymentScreenSuccessful равно 1158\n",
      "В группе 248 количество пользователей у которых произошло событие PaymentScreenSuccessful равно 1181\n",
      "Разница 2.0%\n",
      "\n",
      "В группе 247 доля пользователей у которых произошло событие PaymentScreenSuccessful равна 0.461\n",
      "В группе 248 доля пользователей у которых произошло событие PaymentScreenSuccessful равна 0.466\n",
      "Разница 1.0%\n",
      "p-значение:  0.7373415053803964\n",
      "Не получилось отвергнуть нулевую гипотезу, нет оснований считать доли разными\n"
     ]
    }
   ],
   "source": [
    "event_share(events, df_247, 247, df_248, 248, 0.0025)"
   ]
  },
  {
   "cell_type": "markdown",
   "metadata": {},
   "source": [
    "#### Выводы A/B-тест, сравнение групп 247 и 248\n",
    "Разница между долями для всех событий не является статистически значимой."
   ]
  },
  {
   "cell_type": "markdown",
   "metadata": {},
   "source": [
    "#### Проведем сравнение и проверку нулевой гипотезы о равенстве долей для групп A/B-теста 248 и (246 & 247).\n",
    "* H0 - Доли равны\n",
    "* H1 - Доли не равны"
   ]
  },
  {
   "cell_type": "code",
   "execution_count": 38,
   "metadata": {},
   "outputs": [
    {
     "name": "stdout",
     "output_type": "stream",
     "text": [
      "Tutorial\n",
      "В группе 246 & 247 количество пользователей у которых произошло событие Tutorial равно 561\n",
      "В группе 248 количество пользователей у которых произошло событие Tutorial равно 279\n",
      "Разница -50.3%\n",
      "\n",
      "В группе 246 & 247 доля пользователей у которых произошло событие Tutorial равна 0.112\n",
      "В группе 248 доля пользователей у которых произошло событие Tutorial равна 0.110\n",
      "Разница -2.0%\n",
      "p-значение:  0.764862472531507\n",
      "Не получилось отвергнуть нулевую гипотезу, нет оснований считать доли разными\n",
      "MainScreenAppear\n",
      "В группе 246 & 247 количество пользователей у которых произошло событие MainScreenAppear равно 4926\n",
      "В группе 248 количество пользователей у которых произошло событие MainScreenAppear равно 2493\n",
      "Разница -49.4%\n",
      "\n",
      "В группе 246 & 247 доля пользователей у которых произошло событие MainScreenAppear равна 0.986\n",
      "В группе 248 доля пользователей у которых произошло событие MainScreenAppear равна 0.983\n",
      "Разница -0.3%\n",
      "p-значение:  0.29424526837179577\n",
      "Не получилось отвергнуть нулевую гипотезу, нет оснований считать доли разными\n",
      "OffersScreenAppear\n",
      "В группе 246 & 247 количество пользователей у которых произошло событие OffersScreenAppear равно 3062\n",
      "В группе 248 количество пользователей у которых произошло событие OffersScreenAppear равно 1531\n",
      "Разница -50.0%\n",
      "\n",
      "В группе 246 & 247 доля пользователей у которых произошло событие OffersScreenAppear равна 0.613\n",
      "В группе 248 доля пользователей у которых произошло событие OffersScreenAppear равна 0.603\n",
      "Разница -1.5%\n",
      "p-значение:  0.43425549655188256\n",
      "Не получилось отвергнуть нулевую гипотезу, нет оснований считать доли разными\n",
      "CartScreenAppear\n",
      "В группе 246 & 247 количество пользователей у которых произошло событие CartScreenAppear равно 2504\n",
      "В группе 248 количество пользователей у которых произошло событие CartScreenAppear равно 1230\n",
      "Разница -50.9%\n",
      "\n",
      "В группе 246 & 247 доля пользователей у которых произошло событие CartScreenAppear равна 0.501\n",
      "В группе 248 доля пользователей у которых произошло событие CartScreenAppear равна 0.485\n",
      "Разница -3.2%\n",
      "p-значение:  0.18175875284404386\n",
      "Не получилось отвергнуть нулевую гипотезу, нет оснований считать доли разными\n",
      "PaymentScreenSuccessful\n",
      "В группе 246 & 247 количество пользователей у которых произошло событие PaymentScreenSuccessful равно 2358\n",
      "В группе 248 количество пользователей у которых произошло событие PaymentScreenSuccessful равно 1181\n",
      "Разница -49.9%\n",
      "\n",
      "В группе 246 & 247 доля пользователей у которых произошло событие PaymentScreenSuccessful равна 0.472\n",
      "В группе 248 доля пользователей у которых произошло событие PaymentScreenSuccessful равна 0.466\n",
      "Разница -1.4%\n",
      "p-значение:  0.6004294282308704\n",
      "Не получилось отвергнуть нулевую гипотезу, нет оснований считать доли разными\n"
     ]
    }
   ],
   "source": [
    "event_share(events, df_246_247, '246 & 247', df_248, 248, 0.0025)"
   ]
  },
  {
   "cell_type": "markdown",
   "metadata": {},
   "source": [
    "#### Выводы A/B-тест, сравнение групп 248 и (246 & 247)\n",
    "Разница между долями для всех событий не является статистически значимой."
   ]
  },
  {
   "cell_type": "markdown",
   "metadata": {},
   "source": [
    "<a id='6'></a>\n",
    "### Заключение\n",
    "Воронка продаж выглядит следующим образом:\n",
    "* 62% пользователей проходит от MainScreenAppear к OffersScreenAppear\n",
    "* 81% пользователей проходит от OffersScreenAppear к CartScreenAppear\n",
    "* 95% пользователей проходит от CartScreenAppear к PaymentScreenSuccessful\n",
    "\n",
    "48% пользователей доходит от первого события до оплаты.\n",
    "\n",
    "A/A, A/B тесты:\n",
    "* Разделение на группы работает корректно\n",
    "* Различия в показателях по имеющимся данным не являются статистически значимыми\n",
    "* Не удалось установить для различных шрифтов статистически значимых различий для долей пользователей совершивших событие\n",
    "\n",
    "Все указывает на то, что можно смело менять шрифты, и что замена никак не скажется на поведении пользователей."
   ]
  }
 ],
 "metadata": {
  "kernelspec": {
   "display_name": "Python 3",
   "language": "python",
   "name": "python3"
  },
  "language_info": {
   "codemirror_mode": {
    "name": "ipython",
    "version": 3
   },
   "file_extension": ".py",
   "mimetype": "text/x-python",
   "name": "python",
   "nbconvert_exporter": "python",
   "pygments_lexer": "ipython3",
   "version": "3.8.3"
  }
 },
 "nbformat": 4,
 "nbformat_minor": 2
}
